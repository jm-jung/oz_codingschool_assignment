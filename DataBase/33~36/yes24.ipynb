{
 "cells": [
  {
   "metadata": {},
   "cell_type": "markdown",
   "source": "**예스24 크롤링**",
   "id": "5b27f654de21f117"
  },
  {
   "metadata": {
    "ExecuteTime": {
     "end_time": "2024-07-19T15:13:38.329969Z",
     "start_time": "2024-07-19T15:13:34.862013Z"
    }
   },
   "cell_type": "code",
   "source": [
    "#webdriver lib 불러오기\n",
    "from selenium import webdriver\n",
    "from webdriver_manager.chrome import ChromeDriverManager\n",
    "from selenium.webdriver.chrome.service import Service\n",
    "\n",
    "chrome_options = webdriver.ChromeOptions()\n",
    "ChromeDriverManager().install()\n",
    "user_agent = \"Mozilla/5.0 (Windows NT 10.0; Win64; x64) AppleWebKit/537.36 (KHTML, like Gecko) Chrome/91.0.4472.124 Safari/537.36\"\n",
    "chrome_options.add_argument(f'user-agent={user_agent}')\n",
    "\n",
    "# 그 외 필요한 옵션들\n",
    "chrome_options.add_argument(\"--headless\")  # 헤드리스 모드 (필요시)\n",
    "chrome_options.add_argument(\"--no-sandbox\")\n",
    "chrome_options.add_argument(\"--disable-dev-shm-usage\")\n",
    "\n",
    "service = Service(ChromeDriverManager().install())\n",
    "driver = webdriver.Chrome(service=service, options=chrome_options)\n"
   ],
   "id": "c5e7c43569af3668",
   "outputs": [],
   "execution_count": 151
  },
  {
   "metadata": {
    "ExecuteTime": {
     "end_time": "2024-07-19T15:13:40.879917Z",
     "start_time": "2024-07-19T15:13:39.403392Z"
    }
   },
   "cell_type": "code",
   "source": [
    "from selenium import webdriver\n",
    "browser=webdriver.Chrome()"
   ],
   "id": "initial_id",
   "outputs": [],
   "execution_count": 152
  },
  {
   "metadata": {
    "ExecuteTime": {
     "end_time": "2024-07-19T15:13:52.854633Z",
     "start_time": "2024-07-19T15:13:51.179793Z"
    }
   },
   "cell_type": "code",
   "source": [
    "url = 'https://www.google.com'\n",
    "browser.get(url)"
   ],
   "id": "f2086e837d058560",
   "outputs": [],
   "execution_count": 153
  },
  {
   "metadata": {
    "ExecuteTime": {
     "end_time": "2024-07-18T07:14:48.417487Z",
     "start_time": "2024-07-18T07:14:48.370669Z"
    }
   },
   "cell_type": "code",
   "source": [
    "from selenium.webdriver.common.by import By\n",
    "browser.find_element(By.CLASS_NAME,'uU7dJb').text"
   ],
   "id": "7dfaf2a6191e46b5",
   "outputs": [
    {
     "data": {
      "text/plain": [
       "'대한민국'"
      ]
     },
     "execution_count": 44,
     "metadata": {},
     "output_type": "execute_result"
    }
   ],
   "execution_count": 44
  },
  {
   "metadata": {
    "ExecuteTime": {
     "end_time": "2024-07-19T14:32:47.678659Z",
     "start_time": "2024-07-19T14:32:47.672875Z"
    }
   },
   "cell_type": "code",
   "source": "#driver.quit()",
   "id": "cf1719538e1cd650",
   "outputs": [],
   "execution_count": 150
  },
  {
   "metadata": {},
   "cell_type": "code",
   "outputs": [],
   "execution_count": null,
   "source": [
    "def execute_query(connection, query, args=None):\n",
    "    with connection.cursor() as cursor:\n",
    "        cursor.execute(query, args or ())\n",
    "        if query.strip().upper().startswith('SELECT'):\n",
    "            return cursor.fetchall()\n",
    "        else:\n",
    "            connection.commit()"
   ],
   "id": "8ca32eb00b75b63f"
  },
  {
   "metadata": {
    "ExecuteTime": {
     "end_time": "2024-07-19T07:07:52.161173Z",
     "start_time": "2024-07-19T07:07:45.271407Z"
    }
   },
   "cell_type": "code",
   "source": [
    "\n",
    "url='https://yes24.com/Product/Category/BestSeller?categoryNumber=001&pageNumber=1&pageSize=24'\n",
    "browser.get(url)"
   ],
   "id": "bf7abb144cf2d2da",
   "outputs": [],
   "execution_count": 100
  },
  {
   "metadata": {
    "ExecuteTime": {
     "end_time": "2024-07-19T15:15:24.143117Z",
     "start_time": "2024-07-19T15:15:20.407599Z"
    }
   },
   "cell_type": "code",
   "source": [
    "#1페이지 링크데이터 수집\n",
    "page=1\n",
    "url=f'https://yes24.com/Product/Category/BestSeller?categoryNumber=001&pageNumber={page}&pageSize=24'\n",
    "browser.get(url)\n",
    "#한개 링크 수집완료\n",
    "browser.find_element(By.CLASS_NAME,'gd_name').get_attribute('href') #element - 요소\n",
    "data = browser.find_elements(By.CLASS_NAME,'gd_name') #elements - 리스트\n",
    "for i in data:\n",
    "    print(i.get_attribute('href'))"
   ],
   "id": "990df5590948ba5d",
   "outputs": [
    {
     "name": "stdout",
     "output_type": "stream",
     "text": [
      "https://www.yes24.com/Product/Goods/128266166\n",
      "https://www.yes24.com/Product/Goods/125557465\n",
      "https://www.yes24.com/Product/Goods/124999476\n",
      "https://www.yes24.com/Product/Goods/104663596\n",
      "https://www.yes24.com/Product/Goods/128133897\n",
      "https://www.yes24.com/Product/Goods/124225606\n",
      "https://www.yes24.com/Product/Goods/123930880\n",
      "https://www.yes24.com/Product/Goods/127094902\n",
      "https://www.yes24.com/Product/Goods/123930891\n",
      "https://www.yes24.com/Product/Goods/117014613\n",
      "https://www.yes24.com/Product/Goods/124043812\n",
      "https://www.yes24.com/Product/Goods/126511412\n",
      "https://www.yes24.com/Product/Goods/124043802\n",
      "https://www.yes24.com/Product/Goods/126845471\n",
      "https://www.yes24.com/Product/Goods/125295101\n",
      "https://www.yes24.com/Product/Goods/126702038\n",
      "https://www.yes24.com/Product/Goods/126516935\n",
      "https://www.yes24.com/Product/Goods/126590468\n",
      "https://www.yes24.com/Product/Goods/8759796\n",
      "https://www.yes24.com/Product/Goods/124539805\n",
      "https://www.yes24.com/Product/Goods/129043527\n",
      "https://www.yes24.com/Product/Goods/96547408\n",
      "https://www.yes24.com/Product/Goods/122120495\n",
      "https://www.yes24.com/Product/Goods/125576919\n"
     ]
    }
   ],
   "execution_count": 154
  },
  {
   "metadata": {
    "ExecuteTime": {
     "end_time": "2024-07-18T07:15:22.774176Z",
     "start_time": "2024-07-18T07:15:20.530588Z"
    }
   },
   "cell_type": "code",
   "source": [
    "#2페이지 링크데이터 수집\n",
    "page=2\n",
    "url=f'https://yes24.com/Product/Category/BestSeller?categoryNumber=001&pageNumber={page}&pageSize=24'\n",
    "browser.get(url)\n",
    "#한개 링크 수집완료\n",
    "browser.find_element(By.CLASS_NAME,'gd_name').get_attribute('href') #element - 요소\n",
    "data = browser.find_elements(By.CLASS_NAME,'gd_name') #elements - 리스트\n",
    "for i in data:\n",
    "    print(i.get_attribute('href'))"
   ],
   "id": "44c032c91eca3f86",
   "outputs": [
    {
     "name": "stdout",
     "output_type": "stream",
     "text": [
      "https://www.yes24.com/Product/Goods/125992096\n",
      "https://www.yes24.com/Product/Goods/128913049\n",
      "https://www.yes24.com/Product/Goods/125969665\n",
      "https://www.yes24.com/Product/Goods/67362730\n",
      "https://www.yes24.com/Product/Goods/129043527\n",
      "https://www.yes24.com/Product/Goods/124702605\n",
      "https://www.yes24.com/Product/Goods/127050264\n",
      "https://www.yes24.com/Product/Goods/128251777\n",
      "https://www.yes24.com/Product/Goods/127098745\n",
      "https://www.yes24.com/Product/Goods/101864763\n",
      "https://www.yes24.com/Product/Goods/128196803\n",
      "https://www.yes24.com/Product/Goods/128710948\n",
      "https://www.yes24.com/Product/Goods/128218178\n",
      "https://www.yes24.com/Product/Goods/128829285\n",
      "https://www.yes24.com/Product/Goods/28995741\n",
      "https://www.yes24.com/Product/Goods/121826324\n",
      "https://www.yes24.com/Product/Goods/128917300\n",
      "https://www.yes24.com/Product/Goods/7320104\n",
      "https://www.yes24.com/Product/Goods/126670771\n",
      "https://www.yes24.com/Product/Goods/128182633\n",
      "https://www.yes24.com/Product/Goods/128869555\n",
      "https://www.yes24.com/Product/Goods/124219505\n",
      "https://www.yes24.com/Product/Goods/128869414\n",
      "https://www.yes24.com/Product/Goods/127095422\n"
     ]
    }
   ],
   "execution_count": 46
  },
  {
   "metadata": {
    "ExecuteTime": {
     "end_time": "2024-07-18T07:15:34.392980Z",
     "start_time": "2024-07-18T07:15:32.175995Z"
    }
   },
   "cell_type": "code",
   "source": [
    "#3페이지 링크데이터 수집\n",
    "page=3\n",
    "url=f'https://yes24.com/Product/Category/BestSeller?categoryNumber=001&pageNumber={page}&pageSize=24'\n",
    "browser.get(url)\n",
    "#한개 링크 수집완료\n",
    "browser.find_element(By.CLASS_NAME,'gd_name').get_attribute('href') #element - 요소\n",
    "data = browser.find_elements(By.CLASS_NAME,'gd_name') #elements - 리스트\n",
    "for i in data:\n",
    "    print(i.get_attribute('href'))"
   ],
   "id": "369297d65f1fb4b6",
   "outputs": [
    {
     "name": "stdout",
     "output_type": "stream",
     "text": [
      "https://www.yes24.com/Product/Goods/128702347\n",
      "https://www.yes24.com/Product/Goods/122090360\n",
      "https://www.yes24.com/Product/Goods/28995747\n",
      "https://www.yes24.com/Product/Goods/127095428\n",
      "https://www.yes24.com/Product/Goods/128849999\n",
      "https://www.yes24.com/Product/Goods/123400303\n",
      "https://www.yes24.com/Product/Goods/127086686\n",
      "https://www.yes24.com/Product/Goods/127012688\n",
      "https://www.yes24.com/Product/Goods/91868954\n",
      "https://www.yes24.com/Product/Goods/128869569\n",
      "https://www.yes24.com/Product/Goods/125384743\n",
      "https://www.yes24.com/Product/Goods/116467955\n",
      "https://www.yes24.com/Product/Goods/127044545\n",
      "https://www.yes24.com/Product/Goods/125448202\n",
      "https://www.yes24.com/Product/Goods/125971089\n",
      "https://www.yes24.com/Product/Goods/125806618\n",
      "https://www.yes24.com/Product/Goods/119458052\n",
      "https://www.yes24.com/Product/Goods/118578901\n",
      "https://www.yes24.com/Product/Goods/121911671\n",
      "https://www.yes24.com/Product/Goods/117933045\n",
      "https://www.yes24.com/Product/Goods/127047306\n",
      "https://www.yes24.com/Product/Goods/2312211\n",
      "https://www.yes24.com/Product/Goods/124489429\n",
      "https://www.yes24.com/Product/Goods/125117836\n"
     ]
    }
   ],
   "execution_count": 47
  },
  {
   "metadata": {
    "ExecuteTime": {
     "end_time": "2024-07-18T07:29:24.358047Z",
     "start_time": "2024-07-18T07:28:46.927676Z"
    }
   },
   "cell_type": "code",
   "source": [
    "import time\n",
    "#1~3페이지 링크데이터 수집\n",
    "\n",
    "link_data = []\n",
    "for page in range(1,4):\n",
    "    url=f'https://yes24.com/Product/Category/BestSeller?categoryNumber=001&pageNumber={page}&pageSize=24'\n",
    "    browser.get(url)\n",
    "    #한개 링크 수집완료\n",
    "    browser.find_element(By.CLASS_NAME,'gd_name').get_attribute('href') #element - 요소\n",
    "    data = browser.find_elements(By.CLASS_NAME,'gd_name') #elements - 리스트\n",
    "    for i in data:\n",
    "        print(i.get_attribute('href'))\n",
    "        link_data.append(i.get_attribute('href'))\n",
    "    time.sleep(10)"
   ],
   "id": "8a9f23a574030923",
   "outputs": [
    {
     "name": "stdout",
     "output_type": "stream",
     "text": [
      "https://www.yes24.com/Product/Goods/125557465\n",
      "https://www.yes24.com/Product/Goods/128266166\n",
      "https://www.yes24.com/Product/Goods/124999476\n",
      "https://www.yes24.com/Product/Goods/123930880\n",
      "https://www.yes24.com/Product/Goods/124225606\n",
      "https://www.yes24.com/Product/Goods/127094902\n",
      "https://www.yes24.com/Product/Goods/128133897\n",
      "https://www.yes24.com/Product/Goods/104663596\n",
      "https://www.yes24.com/Product/Goods/123930891\n",
      "https://www.yes24.com/Product/Goods/117014613\n",
      "https://www.yes24.com/Product/Goods/124043812\n",
      "https://www.yes24.com/Product/Goods/124043802\n",
      "https://www.yes24.com/Product/Goods/126511412\n",
      "https://www.yes24.com/Product/Goods/126845471\n",
      "https://www.yes24.com/Product/Goods/126702038\n",
      "https://www.yes24.com/Product/Goods/125295101\n",
      "https://www.yes24.com/Product/Goods/126516935\n",
      "https://www.yes24.com/Product/Goods/126590468\n",
      "https://www.yes24.com/Product/Goods/124539805\n",
      "https://www.yes24.com/Product/Goods/8759796\n",
      "https://www.yes24.com/Product/Goods/125576919\n",
      "https://www.yes24.com/Product/Goods/122120495\n",
      "https://www.yes24.com/Product/Goods/96547408\n",
      "https://www.yes24.com/Product/Goods/123675187\n",
      "https://www.yes24.com/Product/Goods/125992096\n",
      "https://www.yes24.com/Product/Goods/128913049\n",
      "https://www.yes24.com/Product/Goods/125969665\n",
      "https://www.yes24.com/Product/Goods/67362730\n",
      "https://www.yes24.com/Product/Goods/129043527\n",
      "https://www.yes24.com/Product/Goods/124702605\n",
      "https://www.yes24.com/Product/Goods/127050264\n",
      "https://www.yes24.com/Product/Goods/128251777\n",
      "https://www.yes24.com/Product/Goods/127098745\n",
      "https://www.yes24.com/Product/Goods/101864763\n",
      "https://www.yes24.com/Product/Goods/128196803\n",
      "https://www.yes24.com/Product/Goods/128710948\n",
      "https://www.yes24.com/Product/Goods/128218178\n",
      "https://www.yes24.com/Product/Goods/128829285\n",
      "https://www.yes24.com/Product/Goods/28995741\n",
      "https://www.yes24.com/Product/Goods/121826324\n",
      "https://www.yes24.com/Product/Goods/128917300\n",
      "https://www.yes24.com/Product/Goods/7320104\n",
      "https://www.yes24.com/Product/Goods/126670771\n",
      "https://www.yes24.com/Product/Goods/128182633\n",
      "https://www.yes24.com/Product/Goods/128869555\n",
      "https://www.yes24.com/Product/Goods/124219505\n",
      "https://www.yes24.com/Product/Goods/128869414\n",
      "https://www.yes24.com/Product/Goods/127095422\n",
      "https://www.yes24.com/Product/Goods/128702347\n",
      "https://www.yes24.com/Product/Goods/122090360\n",
      "https://www.yes24.com/Product/Goods/28995747\n",
      "https://www.yes24.com/Product/Goods/127095428\n",
      "https://www.yes24.com/Product/Goods/128849999\n",
      "https://www.yes24.com/Product/Goods/123400303\n",
      "https://www.yes24.com/Product/Goods/127086686\n",
      "https://www.yes24.com/Product/Goods/127012688\n",
      "https://www.yes24.com/Product/Goods/91868954\n",
      "https://www.yes24.com/Product/Goods/128869569\n",
      "https://www.yes24.com/Product/Goods/125384743\n",
      "https://www.yes24.com/Product/Goods/116467955\n",
      "https://www.yes24.com/Product/Goods/127044545\n",
      "https://www.yes24.com/Product/Goods/125448202\n",
      "https://www.yes24.com/Product/Goods/125971089\n",
      "https://www.yes24.com/Product/Goods/125806618\n",
      "https://www.yes24.com/Product/Goods/119458052\n",
      "https://www.yes24.com/Product/Goods/118578901\n",
      "https://www.yes24.com/Product/Goods/121911671\n",
      "https://www.yes24.com/Product/Goods/117933045\n",
      "https://www.yes24.com/Product/Goods/127047306\n",
      "https://www.yes24.com/Product/Goods/2312211\n",
      "https://www.yes24.com/Product/Goods/124489429\n",
      "https://www.yes24.com/Product/Goods/125117836\n"
     ]
    }
   ],
   "execution_count": 53
  },
  {
   "metadata": {
    "ExecuteTime": {
     "end_time": "2024-07-18T07:30:01.199774Z",
     "start_time": "2024-07-18T07:30:01.193996Z"
    }
   },
   "cell_type": "code",
   "source": "len(link_data)",
   "id": "b9e17b8fab5c7c7a",
   "outputs": [
    {
     "data": {
      "text/plain": [
       "72"
      ]
     },
     "execution_count": 54,
     "metadata": {},
     "output_type": "execute_result"
    }
   ],
   "execution_count": 54
  },
  {
   "metadata": {
    "ExecuteTime": {
     "end_time": "2024-07-18T07:54:41.358967Z",
     "start_time": "2024-07-18T07:54:38.116104Z"
    }
   },
   "cell_type": "code",
   "source": [
    "# for link in link_data:\n",
    "#     print(link)\n",
    "#     browser.get(link)\n",
    "\n",
    "browser.get(link_data[0])\n",
    "title = browser.find_element(By.CLASS_NAME,'gd_name').text\n",
    "author = browser.find_element(By.CLASS_NAME,'gd_auth').text\n",
    "publish=browser.find_element(By.CLASS_NAME,'gd_pub').text\n",
    "date=browser.find_element(By.CLASS_NAME,'gd_date').text\n",
    "rate=browser.find_element(By.CLASS_NAME,'yes_b').text\n",
    "review=browser.find_element(By.CLASS_NAME,'txC_blue').text\n",
    "sales=browser.find_element(By.CLASS_NAME,'gd_sellNum').text.split(' ')[2]\n",
    "price=browser.find_element(By.CLASS_NAME,'yes_m').text[:-1]\n",
    "ranking=browser.find_element(By.CLASS_NAME,'gd_best').text.split('|')[0]\n",
    "ranking_weeks=browser.find_element(By.CLASS_NAME,'gd_best_tp02').text.split('|')[1]\n",
    "\n",
    "print(ranking_weeks)"
   ],
   "id": "3e2e0955077b8ba0",
   "outputs": [
    {
     "name": "stdout",
     "output_type": "stream",
     "text": [
      " 국내도서 1위 1주\n"
     ]
    }
   ],
   "execution_count": 77
  },
  {
   "metadata": {
    "ExecuteTime": {
     "end_time": "2024-07-19T01:28:24.474987Z",
     "start_time": "2024-07-19T01:27:57.577221Z"
    }
   },
   "cell_type": "code",
   "source": [
    "#상세페이지 이동후 데이터 크롤링\n",
    "link_data = []\n",
    "for page in range(1,4):\n",
    "    url=f'https://yes24.com/Product/Category/BestSeller?categoryNumber=001&pageNumber={page}&pageSize=24'\n",
    "    browser.get(url)\n",
    "    #한개 링크 수집완료\n",
    "    browser.find_element(By.CLASS_NAME,'gd_name').get_attribute('href') #element - 요소\n",
    "    data = browser.find_elements(By.CLASS_NAME,'gd_name') #elements - 리스트\n",
    "    for i in data:\n",
    "        link_data.append(i.get_attribute('href'))\n",
    "    time.sleep(10)\n",
    "book_data=[]\n",
    "for link in link_data:\n",
    "    browser.get(link)\n",
    "    title = browser.find_element(By.CLASS_NAME,'gd_name').text\n",
    "    author = browser.find_element(By.CLASS_NAME,'gd_auth').text\n",
    "    publish=browser.find_element(By.CLASS_NAME,'gd_pub').text\n",
    "    date=browser.find_element(By.CLASS_NAME,'gd_date').text\n",
    "    rate=browser.find_element(By.CLASS_NAME,'yes_b').text\n",
    "    review=browser.find_element(By.CLASS_NAME,'txC_blue').text\n",
    "    sales=browser.find_element(By.CLASS_NAME,'gd_sellNum').text.split(' ')[2]\n",
    "    price=browser.find_element(By.CLASS_NAME,'yes_m').text[:-1]\n",
    "    ranking=browser.find_element(By.CLASS_NAME,'gd_best').text.split('|')[0]\n",
    "    ranking_weeks=browser.find_element(By.CLASS_NAME,'gd_best_tp02').text.split('|')[1]\n",
    "    book_data.extend([title, author, publish, date, rate, sales, price, ranking_weeks])\n",
    "    time.sleep(7)\n",
    "    \n",
    "    print(book_data)\n",
    "    \n",
    "\n"
   ],
   "id": "92ba124cfbaa6073",
   "outputs": [
    {
     "ename": "KeyboardInterrupt",
     "evalue": "",
     "output_type": "error",
     "traceback": [
      "\u001B[0;31m---------------------------------------------------------------------------\u001B[0m",
      "\u001B[0;31mKeyboardInterrupt\u001B[0m                         Traceback (most recent call last)",
      "Cell \u001B[0;32mIn[85], line 10\u001B[0m\n\u001B[1;32m      8\u001B[0m     data \u001B[38;5;241m=\u001B[39m browser\u001B[38;5;241m.\u001B[39mfind_elements(By\u001B[38;5;241m.\u001B[39mCLASS_NAME,\u001B[38;5;124m'\u001B[39m\u001B[38;5;124mgd_name\u001B[39m\u001B[38;5;124m'\u001B[39m) \u001B[38;5;66;03m#elements - 리스트\u001B[39;00m\n\u001B[1;32m      9\u001B[0m     \u001B[38;5;28;01mfor\u001B[39;00m i \u001B[38;5;129;01min\u001B[39;00m data:\n\u001B[0;32m---> 10\u001B[0m         link_data\u001B[38;5;241m.\u001B[39mappend(\u001B[43mi\u001B[49m\u001B[38;5;241;43m.\u001B[39;49m\u001B[43mget_attribute\u001B[49m\u001B[43m(\u001B[49m\u001B[38;5;124;43m'\u001B[39;49m\u001B[38;5;124;43mhref\u001B[39;49m\u001B[38;5;124;43m'\u001B[39;49m\u001B[43m)\u001B[49m)\n\u001B[1;32m     11\u001B[0m     time\u001B[38;5;241m.\u001B[39msleep(\u001B[38;5;241m10\u001B[39m)\n\u001B[1;32m     12\u001B[0m book_data\u001B[38;5;241m=\u001B[39m[]\n",
      "File \u001B[0;32m/Library/Frameworks/Python.framework/Versions/3.12/lib/python3.12/site-packages/selenium/webdriver/remote/webelement.py:178\u001B[0m, in \u001B[0;36mWebElement.get_attribute\u001B[0;34m(self, name)\u001B[0m\n\u001B[1;32m    176\u001B[0m \u001B[38;5;28;01mif\u001B[39;00m getAttribute_js \u001B[38;5;129;01mis\u001B[39;00m \u001B[38;5;28;01mNone\u001B[39;00m:\n\u001B[1;32m    177\u001B[0m     _load_js()\n\u001B[0;32m--> 178\u001B[0m attribute_value \u001B[38;5;241m=\u001B[39m \u001B[38;5;28;43mself\u001B[39;49m\u001B[38;5;241;43m.\u001B[39;49m\u001B[43mparent\u001B[49m\u001B[38;5;241;43m.\u001B[39;49m\u001B[43mexecute_script\u001B[49m\u001B[43m(\u001B[49m\n\u001B[1;32m    179\u001B[0m \u001B[43m    \u001B[49m\u001B[38;5;124;43mf\u001B[39;49m\u001B[38;5;124;43m\"\u001B[39;49m\u001B[38;5;124;43m/* getAttribute */return (\u001B[39;49m\u001B[38;5;132;43;01m{\u001B[39;49;00m\u001B[43mgetAttribute_js\u001B[49m\u001B[38;5;132;43;01m}\u001B[39;49;00m\u001B[38;5;124;43m).apply(null, arguments);\u001B[39;49m\u001B[38;5;124;43m\"\u001B[39;49m\u001B[43m,\u001B[49m\u001B[43m \u001B[49m\u001B[38;5;28;43mself\u001B[39;49m\u001B[43m,\u001B[49m\u001B[43m \u001B[49m\u001B[43mname\u001B[49m\n\u001B[1;32m    180\u001B[0m \u001B[43m\u001B[49m\u001B[43m)\u001B[49m\n\u001B[1;32m    181\u001B[0m \u001B[38;5;28;01mreturn\u001B[39;00m attribute_value\n",
      "File \u001B[0;32m/Library/Frameworks/Python.framework/Versions/3.12/lib/python3.12/site-packages/selenium/webdriver/remote/webdriver.py:414\u001B[0m, in \u001B[0;36mWebDriver.execute_script\u001B[0;34m(self, script, *args)\u001B[0m\n\u001B[1;32m    411\u001B[0m converted_args \u001B[38;5;241m=\u001B[39m \u001B[38;5;28mlist\u001B[39m(args)\n\u001B[1;32m    412\u001B[0m command \u001B[38;5;241m=\u001B[39m Command\u001B[38;5;241m.\u001B[39mW3C_EXECUTE_SCRIPT\n\u001B[0;32m--> 414\u001B[0m \u001B[38;5;28;01mreturn\u001B[39;00m \u001B[38;5;28;43mself\u001B[39;49m\u001B[38;5;241;43m.\u001B[39;49m\u001B[43mexecute\u001B[49m\u001B[43m(\u001B[49m\u001B[43mcommand\u001B[49m\u001B[43m,\u001B[49m\u001B[43m \u001B[49m\u001B[43m{\u001B[49m\u001B[38;5;124;43m\"\u001B[39;49m\u001B[38;5;124;43mscript\u001B[39;49m\u001B[38;5;124;43m\"\u001B[39;49m\u001B[43m:\u001B[49m\u001B[43m \u001B[49m\u001B[43mscript\u001B[49m\u001B[43m,\u001B[49m\u001B[43m \u001B[49m\u001B[38;5;124;43m\"\u001B[39;49m\u001B[38;5;124;43margs\u001B[39;49m\u001B[38;5;124;43m\"\u001B[39;49m\u001B[43m:\u001B[49m\u001B[43m \u001B[49m\u001B[43mconverted_args\u001B[49m\u001B[43m}\u001B[49m\u001B[43m)\u001B[49m[\u001B[38;5;124m\"\u001B[39m\u001B[38;5;124mvalue\u001B[39m\u001B[38;5;124m\"\u001B[39m]\n",
      "File \u001B[0;32m/Library/Frameworks/Python.framework/Versions/3.12/lib/python3.12/site-packages/selenium/webdriver/remote/webdriver.py:352\u001B[0m, in \u001B[0;36mWebDriver.execute\u001B[0;34m(self, driver_command, params)\u001B[0m\n\u001B[1;32m    349\u001B[0m     \u001B[38;5;28;01melif\u001B[39;00m \u001B[38;5;124m\"\u001B[39m\u001B[38;5;124msessionId\u001B[39m\u001B[38;5;124m\"\u001B[39m \u001B[38;5;129;01mnot\u001B[39;00m \u001B[38;5;129;01min\u001B[39;00m params:\n\u001B[1;32m    350\u001B[0m         params[\u001B[38;5;124m\"\u001B[39m\u001B[38;5;124msessionId\u001B[39m\u001B[38;5;124m\"\u001B[39m] \u001B[38;5;241m=\u001B[39m \u001B[38;5;28mself\u001B[39m\u001B[38;5;241m.\u001B[39msession_id\n\u001B[0;32m--> 352\u001B[0m response \u001B[38;5;241m=\u001B[39m \u001B[38;5;28;43mself\u001B[39;49m\u001B[38;5;241;43m.\u001B[39;49m\u001B[43mcommand_executor\u001B[49m\u001B[38;5;241;43m.\u001B[39;49m\u001B[43mexecute\u001B[49m\u001B[43m(\u001B[49m\u001B[43mdriver_command\u001B[49m\u001B[43m,\u001B[49m\u001B[43m \u001B[49m\u001B[43mparams\u001B[49m\u001B[43m)\u001B[49m\n\u001B[1;32m    353\u001B[0m \u001B[38;5;28;01mif\u001B[39;00m response:\n\u001B[1;32m    354\u001B[0m     \u001B[38;5;28mself\u001B[39m\u001B[38;5;241m.\u001B[39merror_handler\u001B[38;5;241m.\u001B[39mcheck_response(response)\n",
      "File \u001B[0;32m/Library/Frameworks/Python.framework/Versions/3.12/lib/python3.12/site-packages/selenium/webdriver/remote/remote_connection.py:302\u001B[0m, in \u001B[0;36mRemoteConnection.execute\u001B[0;34m(self, command, params)\u001B[0m\n\u001B[1;32m    300\u001B[0m trimmed \u001B[38;5;241m=\u001B[39m \u001B[38;5;28mself\u001B[39m\u001B[38;5;241m.\u001B[39m_trim_large_entries(params)\n\u001B[1;32m    301\u001B[0m LOGGER\u001B[38;5;241m.\u001B[39mdebug(\u001B[38;5;124m\"\u001B[39m\u001B[38;5;132;01m%s\u001B[39;00m\u001B[38;5;124m \u001B[39m\u001B[38;5;132;01m%s\u001B[39;00m\u001B[38;5;124m \u001B[39m\u001B[38;5;132;01m%s\u001B[39;00m\u001B[38;5;124m\"\u001B[39m, command_info[\u001B[38;5;241m0\u001B[39m], url, \u001B[38;5;28mstr\u001B[39m(trimmed))\n\u001B[0;32m--> 302\u001B[0m \u001B[38;5;28;01mreturn\u001B[39;00m \u001B[38;5;28;43mself\u001B[39;49m\u001B[38;5;241;43m.\u001B[39;49m\u001B[43m_request\u001B[49m\u001B[43m(\u001B[49m\u001B[43mcommand_info\u001B[49m\u001B[43m[\u001B[49m\u001B[38;5;241;43m0\u001B[39;49m\u001B[43m]\u001B[49m\u001B[43m,\u001B[49m\u001B[43m \u001B[49m\u001B[43murl\u001B[49m\u001B[43m,\u001B[49m\u001B[43m \u001B[49m\u001B[43mbody\u001B[49m\u001B[38;5;241;43m=\u001B[39;49m\u001B[43mdata\u001B[49m\u001B[43m)\u001B[49m\n",
      "File \u001B[0;32m/Library/Frameworks/Python.framework/Versions/3.12/lib/python3.12/site-packages/selenium/webdriver/remote/remote_connection.py:322\u001B[0m, in \u001B[0;36mRemoteConnection._request\u001B[0;34m(self, method, url, body)\u001B[0m\n\u001B[1;32m    319\u001B[0m     body \u001B[38;5;241m=\u001B[39m \u001B[38;5;28;01mNone\u001B[39;00m\n\u001B[1;32m    321\u001B[0m \u001B[38;5;28;01mif\u001B[39;00m \u001B[38;5;28mself\u001B[39m\u001B[38;5;241m.\u001B[39mkeep_alive:\n\u001B[0;32m--> 322\u001B[0m     response \u001B[38;5;241m=\u001B[39m \u001B[38;5;28;43mself\u001B[39;49m\u001B[38;5;241;43m.\u001B[39;49m\u001B[43m_conn\u001B[49m\u001B[38;5;241;43m.\u001B[39;49m\u001B[43mrequest\u001B[49m\u001B[43m(\u001B[49m\u001B[43mmethod\u001B[49m\u001B[43m,\u001B[49m\u001B[43m \u001B[49m\u001B[43murl\u001B[49m\u001B[43m,\u001B[49m\u001B[43m \u001B[49m\u001B[43mbody\u001B[49m\u001B[38;5;241;43m=\u001B[39;49m\u001B[43mbody\u001B[49m\u001B[43m,\u001B[49m\u001B[43m \u001B[49m\u001B[43mheaders\u001B[49m\u001B[38;5;241;43m=\u001B[39;49m\u001B[43mheaders\u001B[49m\u001B[43m)\u001B[49m\n\u001B[1;32m    323\u001B[0m     statuscode \u001B[38;5;241m=\u001B[39m response\u001B[38;5;241m.\u001B[39mstatus\n\u001B[1;32m    324\u001B[0m \u001B[38;5;28;01melse\u001B[39;00m:\n",
      "File \u001B[0;32m/Library/Frameworks/Python.framework/Versions/3.12/lib/python3.12/site-packages/urllib3/_request_methods.py:144\u001B[0m, in \u001B[0;36mRequestMethods.request\u001B[0;34m(self, method, url, body, fields, headers, json, **urlopen_kw)\u001B[0m\n\u001B[1;32m    136\u001B[0m     \u001B[38;5;28;01mreturn\u001B[39;00m \u001B[38;5;28mself\u001B[39m\u001B[38;5;241m.\u001B[39mrequest_encode_url(\n\u001B[1;32m    137\u001B[0m         method,\n\u001B[1;32m    138\u001B[0m         url,\n\u001B[0;32m   (...)\u001B[0m\n\u001B[1;32m    141\u001B[0m         \u001B[38;5;241m*\u001B[39m\u001B[38;5;241m*\u001B[39murlopen_kw,\n\u001B[1;32m    142\u001B[0m     )\n\u001B[1;32m    143\u001B[0m \u001B[38;5;28;01melse\u001B[39;00m:\n\u001B[0;32m--> 144\u001B[0m     \u001B[38;5;28;01mreturn\u001B[39;00m \u001B[38;5;28;43mself\u001B[39;49m\u001B[38;5;241;43m.\u001B[39;49m\u001B[43mrequest_encode_body\u001B[49m\u001B[43m(\u001B[49m\n\u001B[1;32m    145\u001B[0m \u001B[43m        \u001B[49m\u001B[43mmethod\u001B[49m\u001B[43m,\u001B[49m\u001B[43m \u001B[49m\u001B[43murl\u001B[49m\u001B[43m,\u001B[49m\u001B[43m \u001B[49m\u001B[43mfields\u001B[49m\u001B[38;5;241;43m=\u001B[39;49m\u001B[43mfields\u001B[49m\u001B[43m,\u001B[49m\u001B[43m \u001B[49m\u001B[43mheaders\u001B[49m\u001B[38;5;241;43m=\u001B[39;49m\u001B[43mheaders\u001B[49m\u001B[43m,\u001B[49m\u001B[43m \u001B[49m\u001B[38;5;241;43m*\u001B[39;49m\u001B[38;5;241;43m*\u001B[39;49m\u001B[43murlopen_kw\u001B[49m\n\u001B[1;32m    146\u001B[0m \u001B[43m    \u001B[49m\u001B[43m)\u001B[49m\n",
      "File \u001B[0;32m/Library/Frameworks/Python.framework/Versions/3.12/lib/python3.12/site-packages/urllib3/_request_methods.py:279\u001B[0m, in \u001B[0;36mRequestMethods.request_encode_body\u001B[0;34m(self, method, url, fields, headers, encode_multipart, multipart_boundary, **urlopen_kw)\u001B[0m\n\u001B[1;32m    275\u001B[0m     extra_kw[\u001B[38;5;124m\"\u001B[39m\u001B[38;5;124mheaders\u001B[39m\u001B[38;5;124m\"\u001B[39m]\u001B[38;5;241m.\u001B[39msetdefault(\u001B[38;5;124m\"\u001B[39m\u001B[38;5;124mContent-Type\u001B[39m\u001B[38;5;124m\"\u001B[39m, content_type)\n\u001B[1;32m    277\u001B[0m extra_kw\u001B[38;5;241m.\u001B[39mupdate(urlopen_kw)\n\u001B[0;32m--> 279\u001B[0m \u001B[38;5;28;01mreturn\u001B[39;00m \u001B[38;5;28;43mself\u001B[39;49m\u001B[38;5;241;43m.\u001B[39;49m\u001B[43murlopen\u001B[49m\u001B[43m(\u001B[49m\u001B[43mmethod\u001B[49m\u001B[43m,\u001B[49m\u001B[43m \u001B[49m\u001B[43murl\u001B[49m\u001B[43m,\u001B[49m\u001B[43m \u001B[49m\u001B[38;5;241;43m*\u001B[39;49m\u001B[38;5;241;43m*\u001B[39;49m\u001B[43mextra_kw\u001B[49m\u001B[43m)\u001B[49m\n",
      "File \u001B[0;32m/Library/Frameworks/Python.framework/Versions/3.12/lib/python3.12/site-packages/urllib3/poolmanager.py:443\u001B[0m, in \u001B[0;36mPoolManager.urlopen\u001B[0;34m(self, method, url, redirect, **kw)\u001B[0m\n\u001B[1;32m    441\u001B[0m     response \u001B[38;5;241m=\u001B[39m conn\u001B[38;5;241m.\u001B[39murlopen(method, url, \u001B[38;5;241m*\u001B[39m\u001B[38;5;241m*\u001B[39mkw)\n\u001B[1;32m    442\u001B[0m \u001B[38;5;28;01melse\u001B[39;00m:\n\u001B[0;32m--> 443\u001B[0m     response \u001B[38;5;241m=\u001B[39m \u001B[43mconn\u001B[49m\u001B[38;5;241;43m.\u001B[39;49m\u001B[43murlopen\u001B[49m\u001B[43m(\u001B[49m\u001B[43mmethod\u001B[49m\u001B[43m,\u001B[49m\u001B[43m \u001B[49m\u001B[43mu\u001B[49m\u001B[38;5;241;43m.\u001B[39;49m\u001B[43mrequest_uri\u001B[49m\u001B[43m,\u001B[49m\u001B[43m \u001B[49m\u001B[38;5;241;43m*\u001B[39;49m\u001B[38;5;241;43m*\u001B[39;49m\u001B[43mkw\u001B[49m\u001B[43m)\u001B[49m\n\u001B[1;32m    445\u001B[0m redirect_location \u001B[38;5;241m=\u001B[39m redirect \u001B[38;5;129;01mand\u001B[39;00m response\u001B[38;5;241m.\u001B[39mget_redirect_location()\n\u001B[1;32m    446\u001B[0m \u001B[38;5;28;01mif\u001B[39;00m \u001B[38;5;129;01mnot\u001B[39;00m redirect_location:\n",
      "File \u001B[0;32m/Library/Frameworks/Python.framework/Versions/3.12/lib/python3.12/site-packages/urllib3/connectionpool.py:789\u001B[0m, in \u001B[0;36mHTTPConnectionPool.urlopen\u001B[0;34m(self, method, url, body, headers, retries, redirect, assert_same_host, timeout, pool_timeout, release_conn, chunked, body_pos, preload_content, decode_content, **response_kw)\u001B[0m\n\u001B[1;32m    786\u001B[0m response_conn \u001B[38;5;241m=\u001B[39m conn \u001B[38;5;28;01mif\u001B[39;00m \u001B[38;5;129;01mnot\u001B[39;00m release_conn \u001B[38;5;28;01melse\u001B[39;00m \u001B[38;5;28;01mNone\u001B[39;00m\n\u001B[1;32m    788\u001B[0m \u001B[38;5;66;03m# Make the request on the HTTPConnection object\u001B[39;00m\n\u001B[0;32m--> 789\u001B[0m response \u001B[38;5;241m=\u001B[39m \u001B[38;5;28;43mself\u001B[39;49m\u001B[38;5;241;43m.\u001B[39;49m\u001B[43m_make_request\u001B[49m\u001B[43m(\u001B[49m\n\u001B[1;32m    790\u001B[0m \u001B[43m    \u001B[49m\u001B[43mconn\u001B[49m\u001B[43m,\u001B[49m\n\u001B[1;32m    791\u001B[0m \u001B[43m    \u001B[49m\u001B[43mmethod\u001B[49m\u001B[43m,\u001B[49m\n\u001B[1;32m    792\u001B[0m \u001B[43m    \u001B[49m\u001B[43murl\u001B[49m\u001B[43m,\u001B[49m\n\u001B[1;32m    793\u001B[0m \u001B[43m    \u001B[49m\u001B[43mtimeout\u001B[49m\u001B[38;5;241;43m=\u001B[39;49m\u001B[43mtimeout_obj\u001B[49m\u001B[43m,\u001B[49m\n\u001B[1;32m    794\u001B[0m \u001B[43m    \u001B[49m\u001B[43mbody\u001B[49m\u001B[38;5;241;43m=\u001B[39;49m\u001B[43mbody\u001B[49m\u001B[43m,\u001B[49m\n\u001B[1;32m    795\u001B[0m \u001B[43m    \u001B[49m\u001B[43mheaders\u001B[49m\u001B[38;5;241;43m=\u001B[39;49m\u001B[43mheaders\u001B[49m\u001B[43m,\u001B[49m\n\u001B[1;32m    796\u001B[0m \u001B[43m    \u001B[49m\u001B[43mchunked\u001B[49m\u001B[38;5;241;43m=\u001B[39;49m\u001B[43mchunked\u001B[49m\u001B[43m,\u001B[49m\n\u001B[1;32m    797\u001B[0m \u001B[43m    \u001B[49m\u001B[43mretries\u001B[49m\u001B[38;5;241;43m=\u001B[39;49m\u001B[43mretries\u001B[49m\u001B[43m,\u001B[49m\n\u001B[1;32m    798\u001B[0m \u001B[43m    \u001B[49m\u001B[43mresponse_conn\u001B[49m\u001B[38;5;241;43m=\u001B[39;49m\u001B[43mresponse_conn\u001B[49m\u001B[43m,\u001B[49m\n\u001B[1;32m    799\u001B[0m \u001B[43m    \u001B[49m\u001B[43mpreload_content\u001B[49m\u001B[38;5;241;43m=\u001B[39;49m\u001B[43mpreload_content\u001B[49m\u001B[43m,\u001B[49m\n\u001B[1;32m    800\u001B[0m \u001B[43m    \u001B[49m\u001B[43mdecode_content\u001B[49m\u001B[38;5;241;43m=\u001B[39;49m\u001B[43mdecode_content\u001B[49m\u001B[43m,\u001B[49m\n\u001B[1;32m    801\u001B[0m \u001B[43m    \u001B[49m\u001B[38;5;241;43m*\u001B[39;49m\u001B[38;5;241;43m*\u001B[39;49m\u001B[43mresponse_kw\u001B[49m\u001B[43m,\u001B[49m\n\u001B[1;32m    802\u001B[0m \u001B[43m\u001B[49m\u001B[43m)\u001B[49m\n\u001B[1;32m    804\u001B[0m \u001B[38;5;66;03m# Everything went great!\u001B[39;00m\n\u001B[1;32m    805\u001B[0m clean_exit \u001B[38;5;241m=\u001B[39m \u001B[38;5;28;01mTrue\u001B[39;00m\n",
      "File \u001B[0;32m/Library/Frameworks/Python.framework/Versions/3.12/lib/python3.12/site-packages/urllib3/connectionpool.py:536\u001B[0m, in \u001B[0;36mHTTPConnectionPool._make_request\u001B[0;34m(self, conn, method, url, body, headers, retries, timeout, chunked, response_conn, preload_content, decode_content, enforce_content_length)\u001B[0m\n\u001B[1;32m    534\u001B[0m \u001B[38;5;66;03m# Receive the response from the server\u001B[39;00m\n\u001B[1;32m    535\u001B[0m \u001B[38;5;28;01mtry\u001B[39;00m:\n\u001B[0;32m--> 536\u001B[0m     response \u001B[38;5;241m=\u001B[39m \u001B[43mconn\u001B[49m\u001B[38;5;241;43m.\u001B[39;49m\u001B[43mgetresponse\u001B[49m\u001B[43m(\u001B[49m\u001B[43m)\u001B[49m\n\u001B[1;32m    537\u001B[0m \u001B[38;5;28;01mexcept\u001B[39;00m (BaseSSLError, \u001B[38;5;167;01mOSError\u001B[39;00m) \u001B[38;5;28;01mas\u001B[39;00m e:\n\u001B[1;32m    538\u001B[0m     \u001B[38;5;28mself\u001B[39m\u001B[38;5;241m.\u001B[39m_raise_timeout(err\u001B[38;5;241m=\u001B[39me, url\u001B[38;5;241m=\u001B[39murl, timeout_value\u001B[38;5;241m=\u001B[39mread_timeout)\n",
      "File \u001B[0;32m/Library/Frameworks/Python.framework/Versions/3.12/lib/python3.12/site-packages/urllib3/connection.py:464\u001B[0m, in \u001B[0;36mHTTPConnection.getresponse\u001B[0;34m(self)\u001B[0m\n\u001B[1;32m    461\u001B[0m \u001B[38;5;28;01mfrom\u001B[39;00m \u001B[38;5;21;01m.\u001B[39;00m\u001B[38;5;21;01mresponse\u001B[39;00m \u001B[38;5;28;01mimport\u001B[39;00m HTTPResponse\n\u001B[1;32m    463\u001B[0m \u001B[38;5;66;03m# Get the response from http.client.HTTPConnection\u001B[39;00m\n\u001B[0;32m--> 464\u001B[0m httplib_response \u001B[38;5;241m=\u001B[39m \u001B[38;5;28;43msuper\u001B[39;49m\u001B[43m(\u001B[49m\u001B[43m)\u001B[49m\u001B[38;5;241;43m.\u001B[39;49m\u001B[43mgetresponse\u001B[49m\u001B[43m(\u001B[49m\u001B[43m)\u001B[49m\n\u001B[1;32m    466\u001B[0m \u001B[38;5;28;01mtry\u001B[39;00m:\n\u001B[1;32m    467\u001B[0m     assert_header_parsing(httplib_response\u001B[38;5;241m.\u001B[39mmsg)\n",
      "File \u001B[0;32m/Library/Frameworks/Python.framework/Versions/3.12/lib/python3.12/http/client.py:1428\u001B[0m, in \u001B[0;36mHTTPConnection.getresponse\u001B[0;34m(self)\u001B[0m\n\u001B[1;32m   1426\u001B[0m \u001B[38;5;28;01mtry\u001B[39;00m:\n\u001B[1;32m   1427\u001B[0m     \u001B[38;5;28;01mtry\u001B[39;00m:\n\u001B[0;32m-> 1428\u001B[0m         \u001B[43mresponse\u001B[49m\u001B[38;5;241;43m.\u001B[39;49m\u001B[43mbegin\u001B[49m\u001B[43m(\u001B[49m\u001B[43m)\u001B[49m\n\u001B[1;32m   1429\u001B[0m     \u001B[38;5;28;01mexcept\u001B[39;00m \u001B[38;5;167;01mConnectionError\u001B[39;00m:\n\u001B[1;32m   1430\u001B[0m         \u001B[38;5;28mself\u001B[39m\u001B[38;5;241m.\u001B[39mclose()\n",
      "File \u001B[0;32m/Library/Frameworks/Python.framework/Versions/3.12/lib/python3.12/http/client.py:331\u001B[0m, in \u001B[0;36mHTTPResponse.begin\u001B[0;34m(self)\u001B[0m\n\u001B[1;32m    329\u001B[0m \u001B[38;5;66;03m# read until we get a non-100 response\u001B[39;00m\n\u001B[1;32m    330\u001B[0m \u001B[38;5;28;01mwhile\u001B[39;00m \u001B[38;5;28;01mTrue\u001B[39;00m:\n\u001B[0;32m--> 331\u001B[0m     version, status, reason \u001B[38;5;241m=\u001B[39m \u001B[38;5;28;43mself\u001B[39;49m\u001B[38;5;241;43m.\u001B[39;49m\u001B[43m_read_status\u001B[49m\u001B[43m(\u001B[49m\u001B[43m)\u001B[49m\n\u001B[1;32m    332\u001B[0m     \u001B[38;5;28;01mif\u001B[39;00m status \u001B[38;5;241m!=\u001B[39m CONTINUE:\n\u001B[1;32m    333\u001B[0m         \u001B[38;5;28;01mbreak\u001B[39;00m\n",
      "File \u001B[0;32m/Library/Frameworks/Python.framework/Versions/3.12/lib/python3.12/http/client.py:292\u001B[0m, in \u001B[0;36mHTTPResponse._read_status\u001B[0;34m(self)\u001B[0m\n\u001B[1;32m    291\u001B[0m \u001B[38;5;28;01mdef\u001B[39;00m \u001B[38;5;21m_read_status\u001B[39m(\u001B[38;5;28mself\u001B[39m):\n\u001B[0;32m--> 292\u001B[0m     line \u001B[38;5;241m=\u001B[39m \u001B[38;5;28mstr\u001B[39m(\u001B[38;5;28;43mself\u001B[39;49m\u001B[38;5;241;43m.\u001B[39;49m\u001B[43mfp\u001B[49m\u001B[38;5;241;43m.\u001B[39;49m\u001B[43mreadline\u001B[49m\u001B[43m(\u001B[49m\u001B[43m_MAXLINE\u001B[49m\u001B[43m \u001B[49m\u001B[38;5;241;43m+\u001B[39;49m\u001B[43m \u001B[49m\u001B[38;5;241;43m1\u001B[39;49m\u001B[43m)\u001B[49m, \u001B[38;5;124m\"\u001B[39m\u001B[38;5;124miso-8859-1\u001B[39m\u001B[38;5;124m\"\u001B[39m)\n\u001B[1;32m    293\u001B[0m     \u001B[38;5;28;01mif\u001B[39;00m \u001B[38;5;28mlen\u001B[39m(line) \u001B[38;5;241m>\u001B[39m _MAXLINE:\n\u001B[1;32m    294\u001B[0m         \u001B[38;5;28;01mraise\u001B[39;00m LineTooLong(\u001B[38;5;124m\"\u001B[39m\u001B[38;5;124mstatus line\u001B[39m\u001B[38;5;124m\"\u001B[39m)\n",
      "File \u001B[0;32m/Library/Frameworks/Python.framework/Versions/3.12/lib/python3.12/socket.py:708\u001B[0m, in \u001B[0;36mSocketIO.readinto\u001B[0;34m(self, b)\u001B[0m\n\u001B[1;32m    706\u001B[0m \u001B[38;5;28;01mwhile\u001B[39;00m \u001B[38;5;28;01mTrue\u001B[39;00m:\n\u001B[1;32m    707\u001B[0m     \u001B[38;5;28;01mtry\u001B[39;00m:\n\u001B[0;32m--> 708\u001B[0m         \u001B[38;5;28;01mreturn\u001B[39;00m \u001B[38;5;28;43mself\u001B[39;49m\u001B[38;5;241;43m.\u001B[39;49m\u001B[43m_sock\u001B[49m\u001B[38;5;241;43m.\u001B[39;49m\u001B[43mrecv_into\u001B[49m\u001B[43m(\u001B[49m\u001B[43mb\u001B[49m\u001B[43m)\u001B[49m\n\u001B[1;32m    709\u001B[0m     \u001B[38;5;28;01mexcept\u001B[39;00m timeout:\n\u001B[1;32m    710\u001B[0m         \u001B[38;5;28mself\u001B[39m\u001B[38;5;241m.\u001B[39m_timeout_occurred \u001B[38;5;241m=\u001B[39m \u001B[38;5;28;01mTrue\u001B[39;00m\n",
      "\u001B[0;31mKeyboardInterrupt\u001B[0m: "
     ]
    }
   ],
   "execution_count": 85
  },
  {
   "metadata": {
    "ExecuteTime": {
     "end_time": "2024-07-19T02:41:52.681872Z",
     "start_time": "2024-07-19T02:41:33.149643Z"
    }
   },
   "cell_type": "code",
   "source": [
    "#상세페이지 이동후 데이터 크롤링\n",
    "link_data = []\n",
    "book_data=[]\n",
    "for page in range(1,4):\n",
    "    url=f'https://yes24.com/Product/Category/BestSeller?categoryNumber=001&pageNumber={page}&pageSize=24'\n",
    "    browser.get(url)\n",
    "    #한개 링크 수집완료\n",
    "    browser.find_element(By.CLASS_NAME,'gd_name').get_attribute('href') #element - 요소\n",
    "    data = browser.find_elements(By.CLASS_NAME,'gd_name') #elements - 리스트\n",
    "    for i in data:\n",
    "        link_data.append(i.get_attribute('href'))\n",
    "        time.sleep(3)\n",
    "        for link in link_data:\n",
    "            browser.get(link)\n",
    "            title = browser.find_element(By.CLASS_NAME,'gd_name').text\n",
    "            author = browser.find_element(By.CLASS_NAME,'gd_auth').text\n",
    "            publish=browser.find_element(By.CLASS_NAME,'gd_pub').text\n",
    "            publishing =browser.find_element(By.CLASS_NAME,'gd_date').text\n",
    "            rate=browser.find_element(By.CLASS_NAME,'yes_b').text\n",
    "            review=browser.find_element(By.CLASS_NAME,'txC_blue').text\n",
    "            sales=browser.find_element(By.CLASS_NAME,'gd_sellNum').text.split(' ')[2]\n",
    "            price=browser.find_element(By.CLASS_NAME,'yes_m').text[:-1]\n",
    "            ranking=browser.find_element(By.CLASS_NAME,'gd_best').text.split('|')[0]\n",
    "            ranking_weeks=browser.find_element(By.CLASS_NAME,'gd_best_tp02').text.split('|')[1]\n",
    "            book_data.extend([title, author, publish, date, rate, sales, price, ranking_weeks])\n",
    "            time.sleep(7)\n",
    "\n",
    "print(book_data)\n",
    "    \n",
    "\n"
   ],
   "id": "609690e0c2d91d58",
   "outputs": [
    {
     "ename": "StaleElementReferenceException",
     "evalue": "Message: stale element reference: stale element not found\n  (Session info: chrome=126.0.6478.183); For documentation on this error, please visit: https://www.selenium.dev/documentation/webdriver/troubleshooting/errors#stale-element-reference-exception\nStacktrace:\n0   chromedriver                        0x0000000102392078 chromedriver + 5169272\n1   chromedriver                        0x0000000102389f4a chromedriver + 5136202\n2   chromedriver                        0x0000000101f0636c chromedriver + 402284\n3   chromedriver                        0x0000000101f16e5d chromedriver + 470621\n4   chromedriver                        0x0000000101f177ba chromedriver + 473018\n5   chromedriver                        0x0000000101f0c585 chromedriver + 427397\n6   chromedriver                        0x0000000101f177eb chromedriver + 473067\n7   chromedriver                        0x0000000101f0c585 chromedriver + 427397\n8   chromedriver                        0x0000000101f0a815 chromedriver + 419861\n9   chromedriver                        0x0000000101f0dc2c chromedriver + 433196\n10  chromedriver                        0x0000000101f96ee8 chromedriver + 995048\n11  chromedriver                        0x0000000101f76ab2 chromedriver + 862898\n12  chromedriver                        0x0000000101f95f57 chromedriver + 991063\n13  chromedriver                        0x0000000101f76853 chromedriver + 862291\n14  chromedriver                        0x0000000101f465c6 chromedriver + 665030\n15  chromedriver                        0x0000000101f46e4e chromedriver + 667214\n16  chromedriver                        0x0000000102354c90 chromedriver + 4918416\n17  chromedriver                        0x0000000102359c8d chromedriver + 4938893\n18  chromedriver                        0x000000010235a365 chromedriver + 4940645\n19  chromedriver                        0x0000000102335d74 chromedriver + 4791668\n20  chromedriver                        0x000000010235a659 chromedriver + 4941401\n21  chromedriver                        0x0000000102327544 chromedriver + 4732228\n22  chromedriver                        0x000000010237a828 chromedriver + 5072936\n23  chromedriver                        0x000000010237a9e7 chromedriver + 5073383\n24  chromedriver                        0x0000000102389afe chromedriver + 5135102\n25  libsystem_pthread.dylib             0x00007ff80c09418b _pthread_start + 99\n26  libsystem_pthread.dylib             0x00007ff80c08fae3 thread_start + 15\n",
     "output_type": "error",
     "traceback": [
      "\u001B[0;31m---------------------------------------------------------------------------\u001B[0m",
      "\u001B[0;31mStaleElementReferenceException\u001B[0m            Traceback (most recent call last)",
      "Cell \u001B[0;32mIn[88], line 11\u001B[0m\n\u001B[1;32m      9\u001B[0m data \u001B[38;5;241m=\u001B[39m browser\u001B[38;5;241m.\u001B[39mfind_elements(By\u001B[38;5;241m.\u001B[39mCLASS_NAME,\u001B[38;5;124m'\u001B[39m\u001B[38;5;124mgd_name\u001B[39m\u001B[38;5;124m'\u001B[39m) \u001B[38;5;66;03m#elements - 리스트\u001B[39;00m\n\u001B[1;32m     10\u001B[0m \u001B[38;5;28;01mfor\u001B[39;00m i \u001B[38;5;129;01min\u001B[39;00m data:\n\u001B[0;32m---> 11\u001B[0m     link_data\u001B[38;5;241m.\u001B[39mappend(\u001B[43mi\u001B[49m\u001B[38;5;241;43m.\u001B[39;49m\u001B[43mget_attribute\u001B[49m\u001B[43m(\u001B[49m\u001B[38;5;124;43m'\u001B[39;49m\u001B[38;5;124;43mhref\u001B[39;49m\u001B[38;5;124;43m'\u001B[39;49m\u001B[43m)\u001B[49m)\n\u001B[1;32m     12\u001B[0m     time\u001B[38;5;241m.\u001B[39msleep(\u001B[38;5;241m3\u001B[39m)\n\u001B[1;32m     13\u001B[0m     \u001B[38;5;28;01mfor\u001B[39;00m link \u001B[38;5;129;01min\u001B[39;00m link_data:\n",
      "File \u001B[0;32m/Library/Frameworks/Python.framework/Versions/3.12/lib/python3.12/site-packages/selenium/webdriver/remote/webelement.py:178\u001B[0m, in \u001B[0;36mWebElement.get_attribute\u001B[0;34m(self, name)\u001B[0m\n\u001B[1;32m    176\u001B[0m \u001B[38;5;28;01mif\u001B[39;00m getAttribute_js \u001B[38;5;129;01mis\u001B[39;00m \u001B[38;5;28;01mNone\u001B[39;00m:\n\u001B[1;32m    177\u001B[0m     _load_js()\n\u001B[0;32m--> 178\u001B[0m attribute_value \u001B[38;5;241m=\u001B[39m \u001B[38;5;28;43mself\u001B[39;49m\u001B[38;5;241;43m.\u001B[39;49m\u001B[43mparent\u001B[49m\u001B[38;5;241;43m.\u001B[39;49m\u001B[43mexecute_script\u001B[49m\u001B[43m(\u001B[49m\n\u001B[1;32m    179\u001B[0m \u001B[43m    \u001B[49m\u001B[38;5;124;43mf\u001B[39;49m\u001B[38;5;124;43m\"\u001B[39;49m\u001B[38;5;124;43m/* getAttribute */return (\u001B[39;49m\u001B[38;5;132;43;01m{\u001B[39;49;00m\u001B[43mgetAttribute_js\u001B[49m\u001B[38;5;132;43;01m}\u001B[39;49;00m\u001B[38;5;124;43m).apply(null, arguments);\u001B[39;49m\u001B[38;5;124;43m\"\u001B[39;49m\u001B[43m,\u001B[49m\u001B[43m \u001B[49m\u001B[38;5;28;43mself\u001B[39;49m\u001B[43m,\u001B[49m\u001B[43m \u001B[49m\u001B[43mname\u001B[49m\n\u001B[1;32m    180\u001B[0m \u001B[43m\u001B[49m\u001B[43m)\u001B[49m\n\u001B[1;32m    181\u001B[0m \u001B[38;5;28;01mreturn\u001B[39;00m attribute_value\n",
      "File \u001B[0;32m/Library/Frameworks/Python.framework/Versions/3.12/lib/python3.12/site-packages/selenium/webdriver/remote/webdriver.py:414\u001B[0m, in \u001B[0;36mWebDriver.execute_script\u001B[0;34m(self, script, *args)\u001B[0m\n\u001B[1;32m    411\u001B[0m converted_args \u001B[38;5;241m=\u001B[39m \u001B[38;5;28mlist\u001B[39m(args)\n\u001B[1;32m    412\u001B[0m command \u001B[38;5;241m=\u001B[39m Command\u001B[38;5;241m.\u001B[39mW3C_EXECUTE_SCRIPT\n\u001B[0;32m--> 414\u001B[0m \u001B[38;5;28;01mreturn\u001B[39;00m \u001B[38;5;28;43mself\u001B[39;49m\u001B[38;5;241;43m.\u001B[39;49m\u001B[43mexecute\u001B[49m\u001B[43m(\u001B[49m\u001B[43mcommand\u001B[49m\u001B[43m,\u001B[49m\u001B[43m \u001B[49m\u001B[43m{\u001B[49m\u001B[38;5;124;43m\"\u001B[39;49m\u001B[38;5;124;43mscript\u001B[39;49m\u001B[38;5;124;43m\"\u001B[39;49m\u001B[43m:\u001B[49m\u001B[43m \u001B[49m\u001B[43mscript\u001B[49m\u001B[43m,\u001B[49m\u001B[43m \u001B[49m\u001B[38;5;124;43m\"\u001B[39;49m\u001B[38;5;124;43margs\u001B[39;49m\u001B[38;5;124;43m\"\u001B[39;49m\u001B[43m:\u001B[49m\u001B[43m \u001B[49m\u001B[43mconverted_args\u001B[49m\u001B[43m}\u001B[49m\u001B[43m)\u001B[49m[\u001B[38;5;124m\"\u001B[39m\u001B[38;5;124mvalue\u001B[39m\u001B[38;5;124m\"\u001B[39m]\n",
      "File \u001B[0;32m/Library/Frameworks/Python.framework/Versions/3.12/lib/python3.12/site-packages/selenium/webdriver/remote/webdriver.py:354\u001B[0m, in \u001B[0;36mWebDriver.execute\u001B[0;34m(self, driver_command, params)\u001B[0m\n\u001B[1;32m    352\u001B[0m response \u001B[38;5;241m=\u001B[39m \u001B[38;5;28mself\u001B[39m\u001B[38;5;241m.\u001B[39mcommand_executor\u001B[38;5;241m.\u001B[39mexecute(driver_command, params)\n\u001B[1;32m    353\u001B[0m \u001B[38;5;28;01mif\u001B[39;00m response:\n\u001B[0;32m--> 354\u001B[0m     \u001B[38;5;28;43mself\u001B[39;49m\u001B[38;5;241;43m.\u001B[39;49m\u001B[43merror_handler\u001B[49m\u001B[38;5;241;43m.\u001B[39;49m\u001B[43mcheck_response\u001B[49m\u001B[43m(\u001B[49m\u001B[43mresponse\u001B[49m\u001B[43m)\u001B[49m\n\u001B[1;32m    355\u001B[0m     response[\u001B[38;5;124m\"\u001B[39m\u001B[38;5;124mvalue\u001B[39m\u001B[38;5;124m\"\u001B[39m] \u001B[38;5;241m=\u001B[39m \u001B[38;5;28mself\u001B[39m\u001B[38;5;241m.\u001B[39m_unwrap_value(response\u001B[38;5;241m.\u001B[39mget(\u001B[38;5;124m\"\u001B[39m\u001B[38;5;124mvalue\u001B[39m\u001B[38;5;124m\"\u001B[39m, \u001B[38;5;28;01mNone\u001B[39;00m))\n\u001B[1;32m    356\u001B[0m     \u001B[38;5;28;01mreturn\u001B[39;00m response\n",
      "File \u001B[0;32m/Library/Frameworks/Python.framework/Versions/3.12/lib/python3.12/site-packages/selenium/webdriver/remote/errorhandler.py:229\u001B[0m, in \u001B[0;36mErrorHandler.check_response\u001B[0;34m(self, response)\u001B[0m\n\u001B[1;32m    227\u001B[0m         alert_text \u001B[38;5;241m=\u001B[39m value[\u001B[38;5;124m\"\u001B[39m\u001B[38;5;124malert\u001B[39m\u001B[38;5;124m\"\u001B[39m]\u001B[38;5;241m.\u001B[39mget(\u001B[38;5;124m\"\u001B[39m\u001B[38;5;124mtext\u001B[39m\u001B[38;5;124m\"\u001B[39m)\n\u001B[1;32m    228\u001B[0m     \u001B[38;5;28;01mraise\u001B[39;00m exception_class(message, screen, stacktrace, alert_text)  \u001B[38;5;66;03m# type: ignore[call-arg]  # mypy is not smart enough here\u001B[39;00m\n\u001B[0;32m--> 229\u001B[0m \u001B[38;5;28;01mraise\u001B[39;00m exception_class(message, screen, stacktrace)\n",
      "\u001B[0;31mStaleElementReferenceException\u001B[0m: Message: stale element reference: stale element not found\n  (Session info: chrome=126.0.6478.183); For documentation on this error, please visit: https://www.selenium.dev/documentation/webdriver/troubleshooting/errors#stale-element-reference-exception\nStacktrace:\n0   chromedriver                        0x0000000102392078 chromedriver + 5169272\n1   chromedriver                        0x0000000102389f4a chromedriver + 5136202\n2   chromedriver                        0x0000000101f0636c chromedriver + 402284\n3   chromedriver                        0x0000000101f16e5d chromedriver + 470621\n4   chromedriver                        0x0000000101f177ba chromedriver + 473018\n5   chromedriver                        0x0000000101f0c585 chromedriver + 427397\n6   chromedriver                        0x0000000101f177eb chromedriver + 473067\n7   chromedriver                        0x0000000101f0c585 chromedriver + 427397\n8   chromedriver                        0x0000000101f0a815 chromedriver + 419861\n9   chromedriver                        0x0000000101f0dc2c chromedriver + 433196\n10  chromedriver                        0x0000000101f96ee8 chromedriver + 995048\n11  chromedriver                        0x0000000101f76ab2 chromedriver + 862898\n12  chromedriver                        0x0000000101f95f57 chromedriver + 991063\n13  chromedriver                        0x0000000101f76853 chromedriver + 862291\n14  chromedriver                        0x0000000101f465c6 chromedriver + 665030\n15  chromedriver                        0x0000000101f46e4e chromedriver + 667214\n16  chromedriver                        0x0000000102354c90 chromedriver + 4918416\n17  chromedriver                        0x0000000102359c8d chromedriver + 4938893\n18  chromedriver                        0x000000010235a365 chromedriver + 4940645\n19  chromedriver                        0x0000000102335d74 chromedriver + 4791668\n20  chromedriver                        0x000000010235a659 chromedriver + 4941401\n21  chromedriver                        0x0000000102327544 chromedriver + 4732228\n22  chromedriver                        0x000000010237a828 chromedriver + 5072936\n23  chromedriver                        0x000000010237a9e7 chromedriver + 5073383\n24  chromedriver                        0x0000000102389afe chromedriver + 5135102\n25  libsystem_pthread.dylib             0x00007ff80c09418b _pthread_start + 99\n26  libsystem_pthread.dylib             0x00007ff80c08fae3 thread_start + 15\n"
     ]
    }
   ],
   "execution_count": 88
  },
  {
   "metadata": {},
   "cell_type": "markdown",
   "source": "======================================여기서부터 데이터베이스 연결 코드입니다.=============================================",
   "id": "3c3b96ccffbc5caf"
  },
  {
   "metadata": {
    "ExecuteTime": {
     "end_time": "2024-07-19T09:04:53.686559Z",
     "start_time": "2024-07-19T08:55:53.634321Z"
    }
   },
   "cell_type": "code",
   "source": [
    "\n",
    "import pymysql\n",
    "conn = pymysql.connect(\n",
    "    host='localhost',\n",
    "    user='root',\n",
    "    password='1234',\n",
    "    db='yes24',\n",
    "    charset='utf8mb4',\n",
    "    cursorclass=pymysql.cursors.DictCursor\n",
    ")\n",
    "import time\n",
    "#1~3페이지 링크데이터 수집\n",
    "\n",
    "link_data = []\n",
    "for page in range(1,4):\n",
    "    url=f'https://yes24.com/Product/Category/BestSeller?categoryNumber=001&pageNumber={page}&pageSize=24'\n",
    "    browser.get(url)\n",
    "    #한개 링크 수집완료\n",
    "    browser.find_element(By.CLASS_NAME,'gd_name').get_attribute('href') #element - 요소\n",
    "    data = browser.find_elements(By.CLASS_NAME,'gd_name') #elements - 리스트\n",
    "    print(f\"{page}번째 페이지 내용을 가져옵니다.....\")\n",
    "    for i in data:\n",
    "        link_data.append(i.get_attribute('href'))\n",
    "    time.sleep(5)\n",
    "with conn.cursor() as cur:\n",
    "    for i in link_data:\n",
    "        browser.get(i)\n",
    "        \n",
    "        title = browser.find_element(By.CLASS_NAME,'gd_name').text\n",
    "        author = browser.find_element(By.CLASS_NAME,'gd_auth').text\n",
    "        publish=browser.find_element(By.CLASS_NAME,'gd_pub').text\n",
    "        publishing =browser.find_element(By.CLASS_NAME,'gd_date').text\n",
    "        \n",
    "        publishing=publishing.replace('년 ','-')\n",
    "        publishing=publishing.replace('월 ','-')\n",
    "        publishing=publishing.replace('일','')\n",
    "        \n",
    "        rate=browser.find_element(By.CLASS_NAME,'yes_b').text\n",
    "        \n",
    "        if rate.isdigit():\n",
    "            rate=float(rate)\n",
    "        else:\n",
    "            rate=0\n",
    "        review=browser.find_element(By.CLASS_NAME,'txC_blue').text\n",
    "        if review.isdigit():\n",
    "            review=review.replace(',','')\n",
    "            review =int(review)\n",
    "        else:\n",
    "            review=0\n",
    "        \n",
    "        sales=browser.find_element(By.CLASS_NAME,'gd_sellNum').text.split(' ')[2]\n",
    "        sales=sales.replace(',','')\n",
    "        \n",
    "        price=browser.find_element(By.CLASS_NAME,'yes_m').text[:-1]\n",
    "        price=price.replace(',','')\n",
    "        \n",
    "        try:\n",
    "            ranking=browser.find_element(By.CLASS_NAME,'gd_best').text.split('|')[0]\n",
    "            ranking=''.join(filter(str.isdigit,ranking))\n",
    "        except:\n",
    "            ranking=0\n",
    "        \n",
    "        try:\n",
    "            ranking_weeks=browser.find_element(By.CLASS_NAME,'gd_best_tp02').text.split('|')[1]\n",
    "            ranking_weeks=''.join(filter(str.isdigit,ranking_weeks.split()[-1]))\n",
    "        except:\n",
    "            ranking_weeks=0\n",
    "       \n",
    "\n",
    "        sql=\"\"\"insert into books(title, author, publish,publishing, rate,review, sales, price, ranking, ranking_weeks) \n",
    "        values(%s,%s,%s,%s,%s,%s,%s,%s,%s,%s)\"\"\"\n",
    "    \n",
    "        cur.execute(sql, (title, author, publish,publishing, rate, review,sales, price, ranking, ranking_weeks))\n",
    "        conn.commit()\n",
    "        time.sleep(5)"
   ],
   "id": "9d00b56eaee8b414",
   "outputs": [
    {
     "name": "stdout",
     "output_type": "stream",
     "text": [
      "1번째 페이지 내용을 가져옵니다.....\n",
      "2번째 페이지 내용을 가져옵니다.....\n",
      "3번째 페이지 내용을 가져옵니다.....\n"
     ]
    }
   ],
   "execution_count": 143
  },
  {
   "metadata": {
    "ExecuteTime": {
     "end_time": "2024-07-19T08:18:46.767168Z",
     "start_time": "2024-07-19T08:18:46.761942Z"
    }
   },
   "cell_type": "code",
   "source": [
    " # publishing =browser.find_element(By.CLASS_NAME,'gd_date').text\n",
    "# publishing=publishing.replace('년 ','-')\n",
    "# publishing=publishing.replace('월 ','-')\n",
    "# publishing=publishing.replace('일','')\n",
    "# publishing\n",
    "# sales=sales.replace(',','')\n",
    "# sales\n",
    "# ranking=''.join(filter(str.isdigit,ranking))\n",
    "# ranking\n",
    "#     \n",
    "    "
   ],
   "id": "aa5ea9f9bc1be23f",
   "outputs": [],
   "execution_count": 129
  },
  {
   "metadata": {},
   "cell_type": "code",
   "outputs": [],
   "execution_count": null,
   "source": "    ",
   "id": "82ded257360804b6"
  }
 ],
 "metadata": {
  "kernelspec": {
   "display_name": "Python 3",
   "language": "python",
   "name": "python3"
  },
  "language_info": {
   "codemirror_mode": {
    "name": "ipython",
    "version": 2
   },
   "file_extension": ".py",
   "mimetype": "text/x-python",
   "name": "python",
   "nbconvert_exporter": "python",
   "pygments_lexer": "ipython2",
   "version": "2.7.6"
  }
 },
 "nbformat": 4,
 "nbformat_minor": 5
}
