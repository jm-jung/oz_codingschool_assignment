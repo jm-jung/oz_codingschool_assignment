{
 "cells": [
  {
   "metadata": {},
   "cell_type": "markdown",
   "source": "**예스24 크롤링**",
   "id": "5b27f654de21f117"
  },
  {
   "metadata": {
    "ExecuteTime": {
     "end_time": "2024-07-18T07:14:06.677042Z",
     "start_time": "2024-07-18T07:14:03.243213Z"
    }
   },
   "cell_type": "code",
   "source": [
    "#webdriver lib 불러오기\n",
    "from selenium import webdriver\n",
    "from webdriver_manager.chrome import ChromeDriverManager\n",
    "from selenium.webdriver.chrome.service import Service\n",
    "\n",
    "chrome_options = webdriver.ChromeOptions()\n",
    "ChromeDriverManager().install()\n",
    "user_agent = \"Mozilla/5.0 (Windows NT 10.0; Win64; x64) AppleWebKit/537.36 (KHTML, like Gecko) Chrome/91.0.4472.124 Safari/537.36\"\n",
    "chrome_options.add_argument(f'user-agent={user_agent}')\n",
    "\n",
    "# 그 외 필요한 옵션들\n",
    "chrome_options.add_argument(\"--headless\")  # 헤드리스 모드 (필요시)\n",
    "chrome_options.add_argument(\"--no-sandbox\")\n",
    "chrome_options.add_argument(\"--disable-dev-shm-usage\")\n",
    "\n",
    "service = Service(ChromeDriverManager().install())\n",
    "driver = webdriver.Chrome(service=service, options=chrome_options)\n"
   ],
   "id": "c5e7c43569af3668",
   "outputs": [],
   "execution_count": 38
  },
  {
   "metadata": {
    "ExecuteTime": {
     "end_time": "2024-07-18T07:28:39.388209Z",
     "start_time": "2024-07-18T07:28:37.691133Z"
    }
   },
   "cell_type": "code",
   "source": [
    "from selenium import webdriver\n",
    "browser=webdriver.Chrome()"
   ],
   "id": "initial_id",
   "outputs": [],
   "execution_count": 52
  },
  {
   "metadata": {
    "ExecuteTime": {
     "end_time": "2024-07-18T07:28:34.361548Z",
     "start_time": "2024-07-18T07:28:34.319431Z"
    }
   },
   "cell_type": "code",
   "source": [
    "url = 'https://www.google.com'\n",
    "browser.get(url)"
   ],
   "id": "f2086e837d058560",
   "outputs": [
    {
     "ename": "NoSuchWindowException",
     "evalue": "Message: no such window: target window already closed\nfrom unknown error: web view not found\n  (Session info: chrome=126.0.6478.183)\nStacktrace:\n0   chromedriver                        0x0000000110004078 chromedriver + 5169272\n1   chromedriver                        0x000000010fffbf4a chromedriver + 5136202\n2   chromedriver                        0x000000010fb7836c chromedriver + 402284\n3   chromedriver                        0x000000010fb4d5f4 chromedriver + 226804\n4   chromedriver                        0x000000010fbf153d chromedriver + 898365\n5   chromedriver                        0x000000010fc07908 chromedriver + 989448\n6   chromedriver                        0x000000010fbe8853 chromedriver + 862291\n7   chromedriver                        0x000000010fbb85c6 chromedriver + 665030\n8   chromedriver                        0x000000010fbb8e4e chromedriver + 667214\n9   chromedriver                        0x000000010ffc6c90 chromedriver + 4918416\n10  chromedriver                        0x000000010ffcbc8d chromedriver + 4938893\n11  chromedriver                        0x000000010ffcc365 chromedriver + 4940645\n12  chromedriver                        0x000000010ffa7d74 chromedriver + 4791668\n13  chromedriver                        0x000000010ffcc659 chromedriver + 4941401\n14  chromedriver                        0x000000010ff99544 chromedriver + 4732228\n15  chromedriver                        0x000000010ffec828 chromedriver + 5072936\n16  chromedriver                        0x000000010ffec9e7 chromedriver + 5073383\n17  chromedriver                        0x000000010fffbafe chromedriver + 5135102\n18  libsystem_pthread.dylib             0x00007ff80c09418b _pthread_start + 99\n19  libsystem_pthread.dylib             0x00007ff80c08fae3 thread_start + 15\n",
     "output_type": "error",
     "traceback": [
      "\u001B[0;31m---------------------------------------------------------------------------\u001B[0m",
      "\u001B[0;31mNoSuchWindowException\u001B[0m                     Traceback (most recent call last)",
      "Cell \u001B[0;32mIn[51], line 2\u001B[0m\n\u001B[1;32m      1\u001B[0m url \u001B[38;5;241m=\u001B[39m \u001B[38;5;124m'\u001B[39m\u001B[38;5;124mhttps://www.google.com\u001B[39m\u001B[38;5;124m'\u001B[39m\n\u001B[0;32m----> 2\u001B[0m \u001B[43mbrowser\u001B[49m\u001B[38;5;241;43m.\u001B[39;49m\u001B[43mget\u001B[49m\u001B[43m(\u001B[49m\u001B[43murl\u001B[49m\u001B[43m)\u001B[49m\n",
      "File \u001B[0;32m/Library/Frameworks/Python.framework/Versions/3.12/lib/python3.12/site-packages/selenium/webdriver/remote/webdriver.py:363\u001B[0m, in \u001B[0;36mWebDriver.get\u001B[0;34m(self, url)\u001B[0m\n\u001B[1;32m    361\u001B[0m \u001B[38;5;28;01mdef\u001B[39;00m \u001B[38;5;21mget\u001B[39m(\u001B[38;5;28mself\u001B[39m, url: \u001B[38;5;28mstr\u001B[39m) \u001B[38;5;241m-\u001B[39m\u001B[38;5;241m>\u001B[39m \u001B[38;5;28;01mNone\u001B[39;00m:\n\u001B[1;32m    362\u001B[0m \u001B[38;5;250m    \u001B[39m\u001B[38;5;124;03m\"\"\"Loads a web page in the current browser session.\"\"\"\u001B[39;00m\n\u001B[0;32m--> 363\u001B[0m     \u001B[38;5;28;43mself\u001B[39;49m\u001B[38;5;241;43m.\u001B[39;49m\u001B[43mexecute\u001B[49m\u001B[43m(\u001B[49m\u001B[43mCommand\u001B[49m\u001B[38;5;241;43m.\u001B[39;49m\u001B[43mGET\u001B[49m\u001B[43m,\u001B[49m\u001B[43m \u001B[49m\u001B[43m{\u001B[49m\u001B[38;5;124;43m\"\u001B[39;49m\u001B[38;5;124;43murl\u001B[39;49m\u001B[38;5;124;43m\"\u001B[39;49m\u001B[43m:\u001B[49m\u001B[43m \u001B[49m\u001B[43murl\u001B[49m\u001B[43m}\u001B[49m\u001B[43m)\u001B[49m\n",
      "File \u001B[0;32m/Library/Frameworks/Python.framework/Versions/3.12/lib/python3.12/site-packages/selenium/webdriver/remote/webdriver.py:354\u001B[0m, in \u001B[0;36mWebDriver.execute\u001B[0;34m(self, driver_command, params)\u001B[0m\n\u001B[1;32m    352\u001B[0m response \u001B[38;5;241m=\u001B[39m \u001B[38;5;28mself\u001B[39m\u001B[38;5;241m.\u001B[39mcommand_executor\u001B[38;5;241m.\u001B[39mexecute(driver_command, params)\n\u001B[1;32m    353\u001B[0m \u001B[38;5;28;01mif\u001B[39;00m response:\n\u001B[0;32m--> 354\u001B[0m     \u001B[38;5;28;43mself\u001B[39;49m\u001B[38;5;241;43m.\u001B[39;49m\u001B[43merror_handler\u001B[49m\u001B[38;5;241;43m.\u001B[39;49m\u001B[43mcheck_response\u001B[49m\u001B[43m(\u001B[49m\u001B[43mresponse\u001B[49m\u001B[43m)\u001B[49m\n\u001B[1;32m    355\u001B[0m     response[\u001B[38;5;124m\"\u001B[39m\u001B[38;5;124mvalue\u001B[39m\u001B[38;5;124m\"\u001B[39m] \u001B[38;5;241m=\u001B[39m \u001B[38;5;28mself\u001B[39m\u001B[38;5;241m.\u001B[39m_unwrap_value(response\u001B[38;5;241m.\u001B[39mget(\u001B[38;5;124m\"\u001B[39m\u001B[38;5;124mvalue\u001B[39m\u001B[38;5;124m\"\u001B[39m, \u001B[38;5;28;01mNone\u001B[39;00m))\n\u001B[1;32m    356\u001B[0m     \u001B[38;5;28;01mreturn\u001B[39;00m response\n",
      "File \u001B[0;32m/Library/Frameworks/Python.framework/Versions/3.12/lib/python3.12/site-packages/selenium/webdriver/remote/errorhandler.py:229\u001B[0m, in \u001B[0;36mErrorHandler.check_response\u001B[0;34m(self, response)\u001B[0m\n\u001B[1;32m    227\u001B[0m         alert_text \u001B[38;5;241m=\u001B[39m value[\u001B[38;5;124m\"\u001B[39m\u001B[38;5;124malert\u001B[39m\u001B[38;5;124m\"\u001B[39m]\u001B[38;5;241m.\u001B[39mget(\u001B[38;5;124m\"\u001B[39m\u001B[38;5;124mtext\u001B[39m\u001B[38;5;124m\"\u001B[39m)\n\u001B[1;32m    228\u001B[0m     \u001B[38;5;28;01mraise\u001B[39;00m exception_class(message, screen, stacktrace, alert_text)  \u001B[38;5;66;03m# type: ignore[call-arg]  # mypy is not smart enough here\u001B[39;00m\n\u001B[0;32m--> 229\u001B[0m \u001B[38;5;28;01mraise\u001B[39;00m exception_class(message, screen, stacktrace)\n",
      "\u001B[0;31mNoSuchWindowException\u001B[0m: Message: no such window: target window already closed\nfrom unknown error: web view not found\n  (Session info: chrome=126.0.6478.183)\nStacktrace:\n0   chromedriver                        0x0000000110004078 chromedriver + 5169272\n1   chromedriver                        0x000000010fffbf4a chromedriver + 5136202\n2   chromedriver                        0x000000010fb7836c chromedriver + 402284\n3   chromedriver                        0x000000010fb4d5f4 chromedriver + 226804\n4   chromedriver                        0x000000010fbf153d chromedriver + 898365\n5   chromedriver                        0x000000010fc07908 chromedriver + 989448\n6   chromedriver                        0x000000010fbe8853 chromedriver + 862291\n7   chromedriver                        0x000000010fbb85c6 chromedriver + 665030\n8   chromedriver                        0x000000010fbb8e4e chromedriver + 667214\n9   chromedriver                        0x000000010ffc6c90 chromedriver + 4918416\n10  chromedriver                        0x000000010ffcbc8d chromedriver + 4938893\n11  chromedriver                        0x000000010ffcc365 chromedriver + 4940645\n12  chromedriver                        0x000000010ffa7d74 chromedriver + 4791668\n13  chromedriver                        0x000000010ffcc659 chromedriver + 4941401\n14  chromedriver                        0x000000010ff99544 chromedriver + 4732228\n15  chromedriver                        0x000000010ffec828 chromedriver + 5072936\n16  chromedriver                        0x000000010ffec9e7 chromedriver + 5073383\n17  chromedriver                        0x000000010fffbafe chromedriver + 5135102\n18  libsystem_pthread.dylib             0x00007ff80c09418b _pthread_start + 99\n19  libsystem_pthread.dylib             0x00007ff80c08fae3 thread_start + 15\n"
     ]
    }
   ],
   "execution_count": 51
  },
  {
   "metadata": {
    "ExecuteTime": {
     "end_time": "2024-07-18T07:14:48.417487Z",
     "start_time": "2024-07-18T07:14:48.370669Z"
    }
   },
   "cell_type": "code",
   "source": [
    "from selenium.webdriver.common.by import By\n",
    "browser.find_element(By.CLASS_NAME,'uU7dJb').text"
   ],
   "id": "7dfaf2a6191e46b5",
   "outputs": [
    {
     "data": {
      "text/plain": [
       "'대한민국'"
      ]
     },
     "execution_count": 44,
     "metadata": {},
     "output_type": "execute_result"
    }
   ],
   "execution_count": 44
  },
  {
   "metadata": {
    "ExecuteTime": {
     "end_time": "2024-07-18T07:28:26.131360Z",
     "start_time": "2024-07-18T07:28:26.087700Z"
    }
   },
   "cell_type": "code",
   "source": [
    "\n",
    "url='https://yes24.com/Product/Category/BestSeller?categoryNumber=001&pageNumber=1&pageSize=24'\n",
    "browser.get(url)"
   ],
   "id": "bf7abb144cf2d2da",
   "outputs": [
    {
     "ename": "NoSuchWindowException",
     "evalue": "Message: no such window: target window already closed\nfrom unknown error: web view not found\n  (Session info: chrome=126.0.6478.183)\nStacktrace:\n0   chromedriver                        0x0000000110004078 chromedriver + 5169272\n1   chromedriver                        0x000000010fffbf4a chromedriver + 5136202\n2   chromedriver                        0x000000010fb7836c chromedriver + 402284\n3   chromedriver                        0x000000010fb4d5f4 chromedriver + 226804\n4   chromedriver                        0x000000010fbf153d chromedriver + 898365\n5   chromedriver                        0x000000010fc07908 chromedriver + 989448\n6   chromedriver                        0x000000010fbe8853 chromedriver + 862291\n7   chromedriver                        0x000000010fbb85c6 chromedriver + 665030\n8   chromedriver                        0x000000010fbb8e4e chromedriver + 667214\n9   chromedriver                        0x000000010ffc6c90 chromedriver + 4918416\n10  chromedriver                        0x000000010ffcbc8d chromedriver + 4938893\n11  chromedriver                        0x000000010ffcc365 chromedriver + 4940645\n12  chromedriver                        0x000000010ffa7d74 chromedriver + 4791668\n13  chromedriver                        0x000000010ffcc659 chromedriver + 4941401\n14  chromedriver                        0x000000010ff99544 chromedriver + 4732228\n15  chromedriver                        0x000000010ffec828 chromedriver + 5072936\n16  chromedriver                        0x000000010ffec9e7 chromedriver + 5073383\n17  chromedriver                        0x000000010fffbafe chromedriver + 5135102\n18  libsystem_pthread.dylib             0x00007ff80c09418b _pthread_start + 99\n19  libsystem_pthread.dylib             0x00007ff80c08fae3 thread_start + 15\n",
     "output_type": "error",
     "traceback": [
      "\u001B[0;31m---------------------------------------------------------------------------\u001B[0m",
      "\u001B[0;31mNoSuchWindowException\u001B[0m                     Traceback (most recent call last)",
      "Cell \u001B[0;32mIn[50], line 2\u001B[0m\n\u001B[1;32m      1\u001B[0m url\u001B[38;5;241m=\u001B[39m\u001B[38;5;124m'\u001B[39m\u001B[38;5;124mhttps://yes24.com/Product/Category/BestSeller?categoryNumber=001&pageNumber=1&pageSize=24\u001B[39m\u001B[38;5;124m'\u001B[39m\n\u001B[0;32m----> 2\u001B[0m \u001B[43mbrowser\u001B[49m\u001B[38;5;241;43m.\u001B[39;49m\u001B[43mget\u001B[49m\u001B[43m(\u001B[49m\u001B[43murl\u001B[49m\u001B[43m)\u001B[49m\n",
      "File \u001B[0;32m/Library/Frameworks/Python.framework/Versions/3.12/lib/python3.12/site-packages/selenium/webdriver/remote/webdriver.py:363\u001B[0m, in \u001B[0;36mWebDriver.get\u001B[0;34m(self, url)\u001B[0m\n\u001B[1;32m    361\u001B[0m \u001B[38;5;28;01mdef\u001B[39;00m \u001B[38;5;21mget\u001B[39m(\u001B[38;5;28mself\u001B[39m, url: \u001B[38;5;28mstr\u001B[39m) \u001B[38;5;241m-\u001B[39m\u001B[38;5;241m>\u001B[39m \u001B[38;5;28;01mNone\u001B[39;00m:\n\u001B[1;32m    362\u001B[0m \u001B[38;5;250m    \u001B[39m\u001B[38;5;124;03m\"\"\"Loads a web page in the current browser session.\"\"\"\u001B[39;00m\n\u001B[0;32m--> 363\u001B[0m     \u001B[38;5;28;43mself\u001B[39;49m\u001B[38;5;241;43m.\u001B[39;49m\u001B[43mexecute\u001B[49m\u001B[43m(\u001B[49m\u001B[43mCommand\u001B[49m\u001B[38;5;241;43m.\u001B[39;49m\u001B[43mGET\u001B[49m\u001B[43m,\u001B[49m\u001B[43m \u001B[49m\u001B[43m{\u001B[49m\u001B[38;5;124;43m\"\u001B[39;49m\u001B[38;5;124;43murl\u001B[39;49m\u001B[38;5;124;43m\"\u001B[39;49m\u001B[43m:\u001B[49m\u001B[43m \u001B[49m\u001B[43murl\u001B[49m\u001B[43m}\u001B[49m\u001B[43m)\u001B[49m\n",
      "File \u001B[0;32m/Library/Frameworks/Python.framework/Versions/3.12/lib/python3.12/site-packages/selenium/webdriver/remote/webdriver.py:354\u001B[0m, in \u001B[0;36mWebDriver.execute\u001B[0;34m(self, driver_command, params)\u001B[0m\n\u001B[1;32m    352\u001B[0m response \u001B[38;5;241m=\u001B[39m \u001B[38;5;28mself\u001B[39m\u001B[38;5;241m.\u001B[39mcommand_executor\u001B[38;5;241m.\u001B[39mexecute(driver_command, params)\n\u001B[1;32m    353\u001B[0m \u001B[38;5;28;01mif\u001B[39;00m response:\n\u001B[0;32m--> 354\u001B[0m     \u001B[38;5;28;43mself\u001B[39;49m\u001B[38;5;241;43m.\u001B[39;49m\u001B[43merror_handler\u001B[49m\u001B[38;5;241;43m.\u001B[39;49m\u001B[43mcheck_response\u001B[49m\u001B[43m(\u001B[49m\u001B[43mresponse\u001B[49m\u001B[43m)\u001B[49m\n\u001B[1;32m    355\u001B[0m     response[\u001B[38;5;124m\"\u001B[39m\u001B[38;5;124mvalue\u001B[39m\u001B[38;5;124m\"\u001B[39m] \u001B[38;5;241m=\u001B[39m \u001B[38;5;28mself\u001B[39m\u001B[38;5;241m.\u001B[39m_unwrap_value(response\u001B[38;5;241m.\u001B[39mget(\u001B[38;5;124m\"\u001B[39m\u001B[38;5;124mvalue\u001B[39m\u001B[38;5;124m\"\u001B[39m, \u001B[38;5;28;01mNone\u001B[39;00m))\n\u001B[1;32m    356\u001B[0m     \u001B[38;5;28;01mreturn\u001B[39;00m response\n",
      "File \u001B[0;32m/Library/Frameworks/Python.framework/Versions/3.12/lib/python3.12/site-packages/selenium/webdriver/remote/errorhandler.py:229\u001B[0m, in \u001B[0;36mErrorHandler.check_response\u001B[0;34m(self, response)\u001B[0m\n\u001B[1;32m    227\u001B[0m         alert_text \u001B[38;5;241m=\u001B[39m value[\u001B[38;5;124m\"\u001B[39m\u001B[38;5;124malert\u001B[39m\u001B[38;5;124m\"\u001B[39m]\u001B[38;5;241m.\u001B[39mget(\u001B[38;5;124m\"\u001B[39m\u001B[38;5;124mtext\u001B[39m\u001B[38;5;124m\"\u001B[39m)\n\u001B[1;32m    228\u001B[0m     \u001B[38;5;28;01mraise\u001B[39;00m exception_class(message, screen, stacktrace, alert_text)  \u001B[38;5;66;03m# type: ignore[call-arg]  # mypy is not smart enough here\u001B[39;00m\n\u001B[0;32m--> 229\u001B[0m \u001B[38;5;28;01mraise\u001B[39;00m exception_class(message, screen, stacktrace)\n",
      "\u001B[0;31mNoSuchWindowException\u001B[0m: Message: no such window: target window already closed\nfrom unknown error: web view not found\n  (Session info: chrome=126.0.6478.183)\nStacktrace:\n0   chromedriver                        0x0000000110004078 chromedriver + 5169272\n1   chromedriver                        0x000000010fffbf4a chromedriver + 5136202\n2   chromedriver                        0x000000010fb7836c chromedriver + 402284\n3   chromedriver                        0x000000010fb4d5f4 chromedriver + 226804\n4   chromedriver                        0x000000010fbf153d chromedriver + 898365\n5   chromedriver                        0x000000010fc07908 chromedriver + 989448\n6   chromedriver                        0x000000010fbe8853 chromedriver + 862291\n7   chromedriver                        0x000000010fbb85c6 chromedriver + 665030\n8   chromedriver                        0x000000010fbb8e4e chromedriver + 667214\n9   chromedriver                        0x000000010ffc6c90 chromedriver + 4918416\n10  chromedriver                        0x000000010ffcbc8d chromedriver + 4938893\n11  chromedriver                        0x000000010ffcc365 chromedriver + 4940645\n12  chromedriver                        0x000000010ffa7d74 chromedriver + 4791668\n13  chromedriver                        0x000000010ffcc659 chromedriver + 4941401\n14  chromedriver                        0x000000010ff99544 chromedriver + 4732228\n15  chromedriver                        0x000000010ffec828 chromedriver + 5072936\n16  chromedriver                        0x000000010ffec9e7 chromedriver + 5073383\n17  chromedriver                        0x000000010fffbafe chromedriver + 5135102\n18  libsystem_pthread.dylib             0x00007ff80c09418b _pthread_start + 99\n19  libsystem_pthread.dylib             0x00007ff80c08fae3 thread_start + 15\n"
     ]
    }
   ],
   "execution_count": 50
  },
  {
   "metadata": {
    "ExecuteTime": {
     "end_time": "2024-07-18T07:14:59.482678Z",
     "start_time": "2024-07-18T07:14:56.105683Z"
    }
   },
   "cell_type": "code",
   "source": [
    "#1페이지 링크데이터 수집\n",
    "page=1\n",
    "url=f'https://yes24.com/Product/Category/BestSeller?categoryNumber=001&pageNumber={page}&pageSize=24'\n",
    "browser.get(url)\n",
    "#한개 링크 수집완료\n",
    "browser.find_element(By.CLASS_NAME,'gd_name').get_attribute('href') #element - 요소\n",
    "data = browser.find_elements(By.CLASS_NAME,'gd_name') #elements - 리스트\n",
    "for i in data:\n",
    "    print(i.get_attribute('href'))"
   ],
   "id": "990df5590948ba5d",
   "outputs": [
    {
     "name": "stdout",
     "output_type": "stream",
     "text": [
      "https://www.yes24.com/Product/Goods/125557465\n",
      "https://www.yes24.com/Product/Goods/128266166\n",
      "https://www.yes24.com/Product/Goods/124999476\n",
      "https://www.yes24.com/Product/Goods/123930880\n",
      "https://www.yes24.com/Product/Goods/124225606\n",
      "https://www.yes24.com/Product/Goods/127094902\n",
      "https://www.yes24.com/Product/Goods/128133897\n",
      "https://www.yes24.com/Product/Goods/104663596\n",
      "https://www.yes24.com/Product/Goods/123930891\n",
      "https://www.yes24.com/Product/Goods/117014613\n",
      "https://www.yes24.com/Product/Goods/124043812\n",
      "https://www.yes24.com/Product/Goods/124043802\n",
      "https://www.yes24.com/Product/Goods/126511412\n",
      "https://www.yes24.com/Product/Goods/126845471\n",
      "https://www.yes24.com/Product/Goods/126702038\n",
      "https://www.yes24.com/Product/Goods/125295101\n",
      "https://www.yes24.com/Product/Goods/126516935\n",
      "https://www.yes24.com/Product/Goods/126590468\n",
      "https://www.yes24.com/Product/Goods/124539805\n",
      "https://www.yes24.com/Product/Goods/8759796\n",
      "https://www.yes24.com/Product/Goods/125576919\n",
      "https://www.yes24.com/Product/Goods/122120495\n",
      "https://www.yes24.com/Product/Goods/96547408\n",
      "https://www.yes24.com/Product/Goods/123675187\n"
     ]
    }
   ],
   "execution_count": 45
  },
  {
   "metadata": {
    "ExecuteTime": {
     "end_time": "2024-07-18T07:15:22.774176Z",
     "start_time": "2024-07-18T07:15:20.530588Z"
    }
   },
   "cell_type": "code",
   "source": [
    "#2페이지 링크데이터 수집\n",
    "page=2\n",
    "url=f'https://yes24.com/Product/Category/BestSeller?categoryNumber=001&pageNumber={page}&pageSize=24'\n",
    "browser.get(url)\n",
    "#한개 링크 수집완료\n",
    "browser.find_element(By.CLASS_NAME,'gd_name').get_attribute('href') #element - 요소\n",
    "data = browser.find_elements(By.CLASS_NAME,'gd_name') #elements - 리스트\n",
    "for i in data:\n",
    "    print(i.get_attribute('href'))"
   ],
   "id": "44c032c91eca3f86",
   "outputs": [
    {
     "name": "stdout",
     "output_type": "stream",
     "text": [
      "https://www.yes24.com/Product/Goods/125992096\n",
      "https://www.yes24.com/Product/Goods/128913049\n",
      "https://www.yes24.com/Product/Goods/125969665\n",
      "https://www.yes24.com/Product/Goods/67362730\n",
      "https://www.yes24.com/Product/Goods/129043527\n",
      "https://www.yes24.com/Product/Goods/124702605\n",
      "https://www.yes24.com/Product/Goods/127050264\n",
      "https://www.yes24.com/Product/Goods/128251777\n",
      "https://www.yes24.com/Product/Goods/127098745\n",
      "https://www.yes24.com/Product/Goods/101864763\n",
      "https://www.yes24.com/Product/Goods/128196803\n",
      "https://www.yes24.com/Product/Goods/128710948\n",
      "https://www.yes24.com/Product/Goods/128218178\n",
      "https://www.yes24.com/Product/Goods/128829285\n",
      "https://www.yes24.com/Product/Goods/28995741\n",
      "https://www.yes24.com/Product/Goods/121826324\n",
      "https://www.yes24.com/Product/Goods/128917300\n",
      "https://www.yes24.com/Product/Goods/7320104\n",
      "https://www.yes24.com/Product/Goods/126670771\n",
      "https://www.yes24.com/Product/Goods/128182633\n",
      "https://www.yes24.com/Product/Goods/128869555\n",
      "https://www.yes24.com/Product/Goods/124219505\n",
      "https://www.yes24.com/Product/Goods/128869414\n",
      "https://www.yes24.com/Product/Goods/127095422\n"
     ]
    }
   ],
   "execution_count": 46
  },
  {
   "metadata": {
    "ExecuteTime": {
     "end_time": "2024-07-18T07:15:34.392980Z",
     "start_time": "2024-07-18T07:15:32.175995Z"
    }
   },
   "cell_type": "code",
   "source": [
    "#3페이지 링크데이터 수집\n",
    "page=3\n",
    "url=f'https://yes24.com/Product/Category/BestSeller?categoryNumber=001&pageNumber={page}&pageSize=24'\n",
    "browser.get(url)\n",
    "#한개 링크 수집완료\n",
    "browser.find_element(By.CLASS_NAME,'gd_name').get_attribute('href') #element - 요소\n",
    "data = browser.find_elements(By.CLASS_NAME,'gd_name') #elements - 리스트\n",
    "for i in data:\n",
    "    print(i.get_attribute('href'))"
   ],
   "id": "369297d65f1fb4b6",
   "outputs": [
    {
     "name": "stdout",
     "output_type": "stream",
     "text": [
      "https://www.yes24.com/Product/Goods/128702347\n",
      "https://www.yes24.com/Product/Goods/122090360\n",
      "https://www.yes24.com/Product/Goods/28995747\n",
      "https://www.yes24.com/Product/Goods/127095428\n",
      "https://www.yes24.com/Product/Goods/128849999\n",
      "https://www.yes24.com/Product/Goods/123400303\n",
      "https://www.yes24.com/Product/Goods/127086686\n",
      "https://www.yes24.com/Product/Goods/127012688\n",
      "https://www.yes24.com/Product/Goods/91868954\n",
      "https://www.yes24.com/Product/Goods/128869569\n",
      "https://www.yes24.com/Product/Goods/125384743\n",
      "https://www.yes24.com/Product/Goods/116467955\n",
      "https://www.yes24.com/Product/Goods/127044545\n",
      "https://www.yes24.com/Product/Goods/125448202\n",
      "https://www.yes24.com/Product/Goods/125971089\n",
      "https://www.yes24.com/Product/Goods/125806618\n",
      "https://www.yes24.com/Product/Goods/119458052\n",
      "https://www.yes24.com/Product/Goods/118578901\n",
      "https://www.yes24.com/Product/Goods/121911671\n",
      "https://www.yes24.com/Product/Goods/117933045\n",
      "https://www.yes24.com/Product/Goods/127047306\n",
      "https://www.yes24.com/Product/Goods/2312211\n",
      "https://www.yes24.com/Product/Goods/124489429\n",
      "https://www.yes24.com/Product/Goods/125117836\n"
     ]
    }
   ],
   "execution_count": 47
  },
  {
   "metadata": {
    "ExecuteTime": {
     "end_time": "2024-07-18T07:29:24.358047Z",
     "start_time": "2024-07-18T07:28:46.927676Z"
    }
   },
   "cell_type": "code",
   "source": [
    "import time\n",
    "#1~3페이지 링크데이터 수집\n",
    "\n",
    "link_data = []\n",
    "for page in range(1,4):\n",
    "    url=f'https://yes24.com/Product/Category/BestSeller?categoryNumber=001&pageNumber={page}&pageSize=24'\n",
    "    browser.get(url)\n",
    "    #한개 링크 수집완료\n",
    "    browser.find_element(By.CLASS_NAME,'gd_name').get_attribute('href') #element - 요소\n",
    "    data = browser.find_elements(By.CLASS_NAME,'gd_name') #elements - 리스트\n",
    "    for i in data:\n",
    "        print(i.get_attribute('href'))\n",
    "        link_data.append(i.get_attribute('href'))\n",
    "    time.sleep(10)"
   ],
   "id": "8a9f23a574030923",
   "outputs": [
    {
     "name": "stdout",
     "output_type": "stream",
     "text": [
      "https://www.yes24.com/Product/Goods/125557465\n",
      "https://www.yes24.com/Product/Goods/128266166\n",
      "https://www.yes24.com/Product/Goods/124999476\n",
      "https://www.yes24.com/Product/Goods/123930880\n",
      "https://www.yes24.com/Product/Goods/124225606\n",
      "https://www.yes24.com/Product/Goods/127094902\n",
      "https://www.yes24.com/Product/Goods/128133897\n",
      "https://www.yes24.com/Product/Goods/104663596\n",
      "https://www.yes24.com/Product/Goods/123930891\n",
      "https://www.yes24.com/Product/Goods/117014613\n",
      "https://www.yes24.com/Product/Goods/124043812\n",
      "https://www.yes24.com/Product/Goods/124043802\n",
      "https://www.yes24.com/Product/Goods/126511412\n",
      "https://www.yes24.com/Product/Goods/126845471\n",
      "https://www.yes24.com/Product/Goods/126702038\n",
      "https://www.yes24.com/Product/Goods/125295101\n",
      "https://www.yes24.com/Product/Goods/126516935\n",
      "https://www.yes24.com/Product/Goods/126590468\n",
      "https://www.yes24.com/Product/Goods/124539805\n",
      "https://www.yes24.com/Product/Goods/8759796\n",
      "https://www.yes24.com/Product/Goods/125576919\n",
      "https://www.yes24.com/Product/Goods/122120495\n",
      "https://www.yes24.com/Product/Goods/96547408\n",
      "https://www.yes24.com/Product/Goods/123675187\n",
      "https://www.yes24.com/Product/Goods/125992096\n",
      "https://www.yes24.com/Product/Goods/128913049\n",
      "https://www.yes24.com/Product/Goods/125969665\n",
      "https://www.yes24.com/Product/Goods/67362730\n",
      "https://www.yes24.com/Product/Goods/129043527\n",
      "https://www.yes24.com/Product/Goods/124702605\n",
      "https://www.yes24.com/Product/Goods/127050264\n",
      "https://www.yes24.com/Product/Goods/128251777\n",
      "https://www.yes24.com/Product/Goods/127098745\n",
      "https://www.yes24.com/Product/Goods/101864763\n",
      "https://www.yes24.com/Product/Goods/128196803\n",
      "https://www.yes24.com/Product/Goods/128710948\n",
      "https://www.yes24.com/Product/Goods/128218178\n",
      "https://www.yes24.com/Product/Goods/128829285\n",
      "https://www.yes24.com/Product/Goods/28995741\n",
      "https://www.yes24.com/Product/Goods/121826324\n",
      "https://www.yes24.com/Product/Goods/128917300\n",
      "https://www.yes24.com/Product/Goods/7320104\n",
      "https://www.yes24.com/Product/Goods/126670771\n",
      "https://www.yes24.com/Product/Goods/128182633\n",
      "https://www.yes24.com/Product/Goods/128869555\n",
      "https://www.yes24.com/Product/Goods/124219505\n",
      "https://www.yes24.com/Product/Goods/128869414\n",
      "https://www.yes24.com/Product/Goods/127095422\n",
      "https://www.yes24.com/Product/Goods/128702347\n",
      "https://www.yes24.com/Product/Goods/122090360\n",
      "https://www.yes24.com/Product/Goods/28995747\n",
      "https://www.yes24.com/Product/Goods/127095428\n",
      "https://www.yes24.com/Product/Goods/128849999\n",
      "https://www.yes24.com/Product/Goods/123400303\n",
      "https://www.yes24.com/Product/Goods/127086686\n",
      "https://www.yes24.com/Product/Goods/127012688\n",
      "https://www.yes24.com/Product/Goods/91868954\n",
      "https://www.yes24.com/Product/Goods/128869569\n",
      "https://www.yes24.com/Product/Goods/125384743\n",
      "https://www.yes24.com/Product/Goods/116467955\n",
      "https://www.yes24.com/Product/Goods/127044545\n",
      "https://www.yes24.com/Product/Goods/125448202\n",
      "https://www.yes24.com/Product/Goods/125971089\n",
      "https://www.yes24.com/Product/Goods/125806618\n",
      "https://www.yes24.com/Product/Goods/119458052\n",
      "https://www.yes24.com/Product/Goods/118578901\n",
      "https://www.yes24.com/Product/Goods/121911671\n",
      "https://www.yes24.com/Product/Goods/117933045\n",
      "https://www.yes24.com/Product/Goods/127047306\n",
      "https://www.yes24.com/Product/Goods/2312211\n",
      "https://www.yes24.com/Product/Goods/124489429\n",
      "https://www.yes24.com/Product/Goods/125117836\n"
     ]
    }
   ],
   "execution_count": 53
  },
  {
   "metadata": {
    "ExecuteTime": {
     "end_time": "2024-07-18T07:30:01.199774Z",
     "start_time": "2024-07-18T07:30:01.193996Z"
    }
   },
   "cell_type": "code",
   "source": "len(link_data)",
   "id": "b9e17b8fab5c7c7a",
   "outputs": [
    {
     "data": {
      "text/plain": [
       "72"
      ]
     },
     "execution_count": 54,
     "metadata": {},
     "output_type": "execute_result"
    }
   ],
   "execution_count": 54
  },
  {
   "metadata": {
    "ExecuteTime": {
     "end_time": "2024-07-18T07:54:41.358967Z",
     "start_time": "2024-07-18T07:54:38.116104Z"
    }
   },
   "cell_type": "code",
   "source": [
    "# for link in link_data:\n",
    "#     print(link)\n",
    "#     browser.get(link)\n",
    "\n",
    "browser.get(link_data[0])\n",
    "title = browser.find_element(By.CLASS_NAME,'gd_name').text\n",
    "author = browser.find_element(By.CLASS_NAME,'gd_auth').text\n",
    "publish=browser.find_element(By.CLASS_NAME,'gd_pub').text\n",
    "date=browser.find_element(By.CLASS_NAME,'gd_date').text\n",
    "rate=browser.find_element(By.CLASS_NAME,'yes_b').text\n",
    "review=browser.find_element(By.CLASS_NAME,'txC_blue').text\n",
    "sales=browser.find_element(By.CLASS_NAME,'gd_sellNum').text.split(' ')[2]\n",
    "price=browser.find_element(By.CLASS_NAME,'yes_m').text[:-1]\n",
    "ranking=browser.find_element(By.CLASS_NAME,'gd_best').text.split('|')[0]\n",
    "ranking_weeks=browser.find_element(By.CLASS_NAME,'gd_best_tp02').text.split('|')[1]\n",
    "\n",
    "print(ranking_weeks)"
   ],
   "id": "3e2e0955077b8ba0",
   "outputs": [
    {
     "name": "stdout",
     "output_type": "stream",
     "text": [
      " 국내도서 1위 1주\n"
     ]
    }
   ],
   "execution_count": 77
  },
  {
   "metadata": {
    "ExecuteTime": {
     "end_time": "2024-07-18T08:13:20.032018Z",
     "start_time": "2024-07-18T08:08:28.515919Z"
    }
   },
   "cell_type": "code",
   "source": [
    "#상세페이지 이동후 데이터 크롤링\n",
    "link_data = []\n",
    "for page in range(1,4):\n",
    "    url=f'https://yes24.com/Product/Category/BestSeller?categoryNumber=001&pageNumber={page}&pageSize=24'\n",
    "    browser.get(url)\n",
    "    #한개 링크 수집완료\n",
    "    browser.find_element(By.CLASS_NAME,'gd_name').get_attribute('href') #element - 요소\n",
    "    data = browser.find_elements(By.CLASS_NAME,'gd_name') #elements - 리스트\n",
    "    for i in data:\n",
    "        link_data.append(i.get_attribute('href'))\n",
    "    time.sleep(10)\n",
    "    book_data=[]\n",
    "for link in link_data:\n",
    "    browser.get(link)\n",
    "    title = browser.find_element(By.CLASS_NAME,'gd_name').text\n",
    "    author = browser.find_element(By.CLASS_NAME,'gd_auth').text\n",
    "    publish=browser.find_element(By.CLASS_NAME,'gd_pub').text\n",
    "    date=browser.find_element(By.CLASS_NAME,'gd_date').text\n",
    "    rate=browser.find_element(By.CLASS_NAME,'yes_b').text\n",
    "    review=browser.find_element(By.CLASS_NAME,'txC_blue').text\n",
    "    sales=browser.find_element(By.CLASS_NAME,'gd_sellNum').text.split(' ')[2]\n",
    "    price=browser.find_element(By.CLASS_NAME,'yes_m').text[:-1]\n",
    "    ranking=browser.find_element(By.CLASS_NAME,'gd_best').text.split('|')[0]\n",
    "    ranking_weeks=browser.find_element(By.CLASS_NAME,'gd_best_tp02').text.split('|')[1]\n",
    "    book_data.extend([title, author, publish, date, rate, sales, price, ranking_weeks])\n",
    "    time.sleep(7)\n",
    "    \n",
    "    print(book_data)\n",
    "    \n",
    "\n"
   ],
   "id": "92ba124cfbaa6073",
   "outputs": [
    {
     "name": "stdout",
     "output_type": "stream",
     "text": [
      "['하루 한 장 나의 어휘력을 위한 필사 노트', '유선경 저', '위즈덤하우스', '2024년 03월 28일', '9.6', '558,822', '23,800', ' 국내도서 1위 1주']\n",
      "['하루 한 장 나의 어휘력을 위한 필사 노트', '유선경 저', '위즈덤하우스', '2024년 03월 28일', '9.6', '558,822', '23,800', ' 국내도서 1위 1주', '너에게 들려주는 단단한 말', '김종원 저', '퍼스트펭귄', '2024년 07월 10일', '10.0', '183,114', '18,000', ' 국내도서 top20 1주']\n",
      "['하루 한 장 나의 어휘력을 위한 필사 노트', '유선경 저', '위즈덤하우스', '2024년 03월 28일', '9.6', '558,822', '23,800', ' 국내도서 1위 1주', '너에게 들려주는 단단한 말', '김종원 저', '퍼스트펭귄', '2024년 07월 10일', '10.0', '183,114', '18,000', ' 국내도서 top20 1주', '불변의 법칙', '모건 하우절 저/이수경 역', '서삼독', '2024년 02월 28일', '9.5', '586,242', '25,000', ' 국내도서 1위 6주']\n",
      "['하루 한 장 나의 어휘력을 위한 필사 노트', '유선경 저', '위즈덤하우스', '2024년 03월 28일', '9.6', '558,822', '23,800', ' 국내도서 1위 1주', '너에게 들려주는 단단한 말', '김종원 저', '퍼스트펭귄', '2024년 07월 10일', '10.0', '183,114', '18,000', ' 국내도서 top20 1주', '불변의 법칙', '모건 하우절 저/이수경 역', '서삼독', '2024년 02월 28일', '9.5', '586,242', '25,000', ' 국내도서 1위 6주', '2024 큰별쌤 최태성의 별별한국사 한국사능력검정시험 심화(1,2,3급) 상', '최태성 저', '이투스북', '2023년 12월 01일', '9.7', '408,498', '16,000', ' 국내도서 top20 11주']\n",
      "['하루 한 장 나의 어휘력을 위한 필사 노트', '유선경 저', '위즈덤하우스', '2024년 03월 28일', '9.6', '558,822', '23,800', ' 국내도서 1위 1주', '너에게 들려주는 단단한 말', '김종원 저', '퍼스트펭귄', '2024년 07월 10일', '10.0', '183,114', '18,000', ' 국내도서 top20 1주', '불변의 법칙', '모건 하우절 저/이수경 역', '서삼독', '2024년 02월 28일', '9.5', '586,242', '25,000', ' 국내도서 1위 6주', '2024 큰별쌤 최태성의 별별한국사 한국사능력검정시험 심화(1,2,3급) 상', '최태성 저', '이투스북', '2023년 12월 01일', '9.7', '408,498', '16,000', ' 국내도서 top20 11주', '내 몸 혁명', '박용우 저', '루미너스', '2024년 01월 10일', '9.8', '221,085', '19,500', ' 국내도서 top20 3주']\n",
      "['하루 한 장 나의 어휘력을 위한 필사 노트', '유선경 저', '위즈덤하우스', '2024년 03월 28일', '9.6', '558,822', '23,800', ' 국내도서 1위 1주', '너에게 들려주는 단단한 말', '김종원 저', '퍼스트펭귄', '2024년 07월 10일', '10.0', '183,114', '18,000', ' 국내도서 top20 1주', '불변의 법칙', '모건 하우절 저/이수경 역', '서삼독', '2024년 02월 28일', '9.5', '586,242', '25,000', ' 국내도서 1위 6주', '2024 큰별쌤 최태성의 별별한국사 한국사능력검정시험 심화(1,2,3급) 상', '최태성 저', '이투스북', '2023년 12월 01일', '9.7', '408,498', '16,000', ' 국내도서 top20 11주', '내 몸 혁명', '박용우 저', '루미너스', '2024년 01월 10일', '9.8', '221,085', '19,500', ' 국내도서 top20 3주', '그의 운명에 대한 아주 개인적인 생각', '유시민 저', '생각의길', '2024년 06월 19일', '9.1', '770,430', '16,800', ' 국내도서 1위 4주']\n",
      "['하루 한 장 나의 어휘력을 위한 필사 노트', '유선경 저', '위즈덤하우스', '2024년 03월 28일', '9.6', '558,822', '23,800', ' 국내도서 1위 1주', '너에게 들려주는 단단한 말', '김종원 저', '퍼스트펭귄', '2024년 07월 10일', '10.0', '183,114', '18,000', ' 국내도서 top20 1주', '불변의 법칙', '모건 하우절 저/이수경 역', '서삼독', '2024년 02월 28일', '9.5', '586,242', '25,000', ' 국내도서 1위 6주', '2024 큰별쌤 최태성의 별별한국사 한국사능력검정시험 심화(1,2,3급) 상', '최태성 저', '이투스북', '2023년 12월 01일', '9.7', '408,498', '16,000', ' 국내도서 top20 11주', '내 몸 혁명', '박용우 저', '루미너스', '2024년 01월 10일', '9.8', '221,085', '19,500', ' 국내도서 top20 3주', '그의 운명에 대한 아주 개인적인 생각', '유시민 저', '생각의길', '2024년 06월 19일', '9.1', '770,430', '16,800', ' 국내도서 1위 4주', '죽이고 싶은 아이 2', '이꽃님 저', '우리학교', '2024년 07월 01일', '9.9', '164,943', '14,000', ' 국내도서 top20 3주']\n",
      "['하루 한 장 나의 어휘력을 위한 필사 노트', '유선경 저', '위즈덤하우스', '2024년 03월 28일', '9.6', '558,822', '23,800', ' 국내도서 1위 1주', '너에게 들려주는 단단한 말', '김종원 저', '퍼스트펭귄', '2024년 07월 10일', '10.0', '183,114', '18,000', ' 국내도서 top20 1주', '불변의 법칙', '모건 하우절 저/이수경 역', '서삼독', '2024년 02월 28일', '9.5', '586,242', '25,000', ' 국내도서 1위 6주', '2024 큰별쌤 최태성의 별별한국사 한국사능력검정시험 심화(1,2,3급) 상', '최태성 저', '이투스북', '2023년 12월 01일', '9.7', '408,498', '16,000', ' 국내도서 top20 11주', '내 몸 혁명', '박용우 저', '루미너스', '2024년 01월 10일', '9.8', '221,085', '19,500', ' 국내도서 top20 3주', '그의 운명에 대한 아주 개인적인 생각', '유시민 저', '생각의길', '2024년 06월 19일', '9.1', '770,430', '16,800', ' 국내도서 1위 4주', '죽이고 싶은 아이 2', '이꽃님 저', '우리학교', '2024년 07월 01일', '9.9', '164,943', '14,000', ' 국내도서 top20 3주', '언젠가 우리가 같은 별을 바라본다면', '차인표 저', '해결책', '2021년 12월 15일', '9.8', '91,362', '12,000', ' 국내도서 top20 1주']\n",
      "['하루 한 장 나의 어휘력을 위한 필사 노트', '유선경 저', '위즈덤하우스', '2024년 03월 28일', '9.6', '558,822', '23,800', ' 국내도서 1위 1주', '너에게 들려주는 단단한 말', '김종원 저', '퍼스트펭귄', '2024년 07월 10일', '10.0', '183,114', '18,000', ' 국내도서 top20 1주', '불변의 법칙', '모건 하우절 저/이수경 역', '서삼독', '2024년 02월 28일', '9.5', '586,242', '25,000', ' 국내도서 1위 6주', '2024 큰별쌤 최태성의 별별한국사 한국사능력검정시험 심화(1,2,3급) 상', '최태성 저', '이투스북', '2023년 12월 01일', '9.7', '408,498', '16,000', ' 국내도서 top20 11주', '내 몸 혁명', '박용우 저', '루미너스', '2024년 01월 10일', '9.8', '221,085', '19,500', ' 국내도서 top20 3주', '그의 운명에 대한 아주 개인적인 생각', '유시민 저', '생각의길', '2024년 06월 19일', '9.1', '770,430', '16,800', ' 국내도서 1위 4주', '죽이고 싶은 아이 2', '이꽃님 저', '우리학교', '2024년 07월 01일', '9.9', '164,943', '14,000', ' 국내도서 top20 3주', '언젠가 우리가 같은 별을 바라본다면', '차인표 저', '해결책', '2021년 12월 15일', '9.8', '91,362', '12,000', ' 국내도서 top20 1주', '2024 큰별쌤 최태성의 별별한국사 한국사능력검정시험 심화(1,2,3급) 하', '최태성 저', '이투스북', '2023년 12월 01일', '10.0', '385,413', '15,500', ' 국내도서 top20 10주']\n",
      "['하루 한 장 나의 어휘력을 위한 필사 노트', '유선경 저', '위즈덤하우스', '2024년 03월 28일', '9.6', '558,822', '23,800', ' 국내도서 1위 1주', '너에게 들려주는 단단한 말', '김종원 저', '퍼스트펭귄', '2024년 07월 10일', '10.0', '183,114', '18,000', ' 국내도서 top20 1주', '불변의 법칙', '모건 하우절 저/이수경 역', '서삼독', '2024년 02월 28일', '9.5', '586,242', '25,000', ' 국내도서 1위 6주', '2024 큰별쌤 최태성의 별별한국사 한국사능력검정시험 심화(1,2,3급) 상', '최태성 저', '이투스북', '2023년 12월 01일', '9.7', '408,498', '16,000', ' 국내도서 top20 11주', '내 몸 혁명', '박용우 저', '루미너스', '2024년 01월 10일', '9.8', '221,085', '19,500', ' 국내도서 top20 3주', '그의 운명에 대한 아주 개인적인 생각', '유시민 저', '생각의길', '2024년 06월 19일', '9.1', '770,430', '16,800', ' 국내도서 1위 4주', '죽이고 싶은 아이 2', '이꽃님 저', '우리학교', '2024년 07월 01일', '9.9', '164,943', '14,000', ' 국내도서 top20 3주', '언젠가 우리가 같은 별을 바라본다면', '차인표 저', '해결책', '2021년 12월 15일', '9.8', '91,362', '12,000', ' 국내도서 top20 1주', '2024 큰별쌤 최태성의 별별한국사 한국사능력검정시험 심화(1,2,3급) 하', '최태성 저', '이투스북', '2023년 12월 01일', '10.0', '385,413', '15,500', ' 국내도서 top20 10주', '세이노의 가르침', '세이노(SayNo) 저', '데이원', '2023년 03월 02일', '9.0', '1,160,907', '7,200', ' 국내도서 1위 22주']\n",
      "['하루 한 장 나의 어휘력을 위한 필사 노트', '유선경 저', '위즈덤하우스', '2024년 03월 28일', '9.6', '558,822', '23,800', ' 국내도서 1위 1주', '너에게 들려주는 단단한 말', '김종원 저', '퍼스트펭귄', '2024년 07월 10일', '10.0', '183,114', '18,000', ' 국내도서 top20 1주', '불변의 법칙', '모건 하우절 저/이수경 역', '서삼독', '2024년 02월 28일', '9.5', '586,242', '25,000', ' 국내도서 1위 6주', '2024 큰별쌤 최태성의 별별한국사 한국사능력검정시험 심화(1,2,3급) 상', '최태성 저', '이투스북', '2023년 12월 01일', '9.7', '408,498', '16,000', ' 국내도서 top20 11주', '내 몸 혁명', '박용우 저', '루미너스', '2024년 01월 10일', '9.8', '221,085', '19,500', ' 국내도서 top20 3주', '그의 운명에 대한 아주 개인적인 생각', '유시민 저', '생각의길', '2024년 06월 19일', '9.1', '770,430', '16,800', ' 국내도서 1위 4주', '죽이고 싶은 아이 2', '이꽃님 저', '우리학교', '2024년 07월 01일', '9.9', '164,943', '14,000', ' 국내도서 top20 3주', '언젠가 우리가 같은 별을 바라본다면', '차인표 저', '해결책', '2021년 12월 15일', '9.8', '91,362', '12,000', ' 국내도서 top20 1주', '2024 큰별쌤 최태성의 별별한국사 한국사능력검정시험 심화(1,2,3급) 하', '최태성 저', '이투스북', '2023년 12월 01일', '10.0', '385,413', '15,500', ' 국내도서 top20 10주', '세이노의 가르침', '세이노(SayNo) 저', '데이원', '2023년 03월 02일', '9.0', '1,160,907', '7,200', ' 국내도서 1위 22주', 'ETS 토익 정기시험 기출문제집 1000 Vol. 4 RC', 'ETS 저', 'YBM(와이비엠)', '2023년 12월 20일', '9.6', '443,208', '19,800', ' 국내도서 top20 26주']\n",
      "['하루 한 장 나의 어휘력을 위한 필사 노트', '유선경 저', '위즈덤하우스', '2024년 03월 28일', '9.6', '558,822', '23,800', ' 국내도서 1위 1주', '너에게 들려주는 단단한 말', '김종원 저', '퍼스트펭귄', '2024년 07월 10일', '10.0', '183,114', '18,000', ' 국내도서 top20 1주', '불변의 법칙', '모건 하우절 저/이수경 역', '서삼독', '2024년 02월 28일', '9.5', '586,242', '25,000', ' 국내도서 1위 6주', '2024 큰별쌤 최태성의 별별한국사 한국사능력검정시험 심화(1,2,3급) 상', '최태성 저', '이투스북', '2023년 12월 01일', '9.7', '408,498', '16,000', ' 국내도서 top20 11주', '내 몸 혁명', '박용우 저', '루미너스', '2024년 01월 10일', '9.8', '221,085', '19,500', ' 국내도서 top20 3주', '그의 운명에 대한 아주 개인적인 생각', '유시민 저', '생각의길', '2024년 06월 19일', '9.1', '770,430', '16,800', ' 국내도서 1위 4주', '죽이고 싶은 아이 2', '이꽃님 저', '우리학교', '2024년 07월 01일', '9.9', '164,943', '14,000', ' 국내도서 top20 3주', '언젠가 우리가 같은 별을 바라본다면', '차인표 저', '해결책', '2021년 12월 15일', '9.8', '91,362', '12,000', ' 국내도서 top20 1주', '2024 큰별쌤 최태성의 별별한국사 한국사능력검정시험 심화(1,2,3급) 하', '최태성 저', '이투스북', '2023년 12월 01일', '10.0', '385,413', '15,500', ' 국내도서 top20 10주', '세이노의 가르침', '세이노(SayNo) 저', '데이원', '2023년 03월 02일', '9.0', '1,160,907', '7,200', ' 국내도서 1위 22주', 'ETS 토익 정기시험 기출문제집 1000 Vol. 4 RC', 'ETS 저', 'YBM(와이비엠)', '2023년 12월 20일', '9.6', '443,208', '19,800', ' 국내도서 top20 26주', 'ETS 토익 정기시험 기출문제집 1000 Vol. 4 LC', 'ETS 저', 'YBM(와이비엠)', '2023년 12월 20일', '9.8', '413,949', '19,800', ' 국내도서 top20 20주']\n",
      "['하루 한 장 나의 어휘력을 위한 필사 노트', '유선경 저', '위즈덤하우스', '2024년 03월 28일', '9.6', '558,822', '23,800', ' 국내도서 1위 1주', '너에게 들려주는 단단한 말', '김종원 저', '퍼스트펭귄', '2024년 07월 10일', '10.0', '183,114', '18,000', ' 국내도서 top20 1주', '불변의 법칙', '모건 하우절 저/이수경 역', '서삼독', '2024년 02월 28일', '9.5', '586,242', '25,000', ' 국내도서 1위 6주', '2024 큰별쌤 최태성의 별별한국사 한국사능력검정시험 심화(1,2,3급) 상', '최태성 저', '이투스북', '2023년 12월 01일', '9.7', '408,498', '16,000', ' 국내도서 top20 11주', '내 몸 혁명', '박용우 저', '루미너스', '2024년 01월 10일', '9.8', '221,085', '19,500', ' 국내도서 top20 3주', '그의 운명에 대한 아주 개인적인 생각', '유시민 저', '생각의길', '2024년 06월 19일', '9.1', '770,430', '16,800', ' 국내도서 1위 4주', '죽이고 싶은 아이 2', '이꽃님 저', '우리학교', '2024년 07월 01일', '9.9', '164,943', '14,000', ' 국내도서 top20 3주', '언젠가 우리가 같은 별을 바라본다면', '차인표 저', '해결책', '2021년 12월 15일', '9.8', '91,362', '12,000', ' 국내도서 top20 1주', '2024 큰별쌤 최태성의 별별한국사 한국사능력검정시험 심화(1,2,3급) 하', '최태성 저', '이투스북', '2023년 12월 01일', '10.0', '385,413', '15,500', ' 국내도서 top20 10주', '세이노의 가르침', '세이노(SayNo) 저', '데이원', '2023년 03월 02일', '9.0', '1,160,907', '7,200', ' 국내도서 1위 22주', 'ETS 토익 정기시험 기출문제집 1000 Vol. 4 RC', 'ETS 저', 'YBM(와이비엠)', '2023년 12월 20일', '9.6', '443,208', '19,800', ' 국내도서 top20 26주', 'ETS 토익 정기시험 기출문제집 1000 Vol. 4 LC', 'ETS 저', 'YBM(와이비엠)', '2023년 12월 20일', '9.8', '413,949', '19,800', ' 국내도서 top20 20주', '신화의 숲', '김헌 저', '포레스트북스', '2024년 05월 20일', '9.8', '173,127', '18,000', ' 국내도서 top20 6주']\n",
      "['하루 한 장 나의 어휘력을 위한 필사 노트', '유선경 저', '위즈덤하우스', '2024년 03월 28일', '9.6', '558,822', '23,800', ' 국내도서 1위 1주', '너에게 들려주는 단단한 말', '김종원 저', '퍼스트펭귄', '2024년 07월 10일', '10.0', '183,114', '18,000', ' 국내도서 top20 1주', '불변의 법칙', '모건 하우절 저/이수경 역', '서삼독', '2024년 02월 28일', '9.5', '586,242', '25,000', ' 국내도서 1위 6주', '2024 큰별쌤 최태성의 별별한국사 한국사능력검정시험 심화(1,2,3급) 상', '최태성 저', '이투스북', '2023년 12월 01일', '9.7', '408,498', '16,000', ' 국내도서 top20 11주', '내 몸 혁명', '박용우 저', '루미너스', '2024년 01월 10일', '9.8', '221,085', '19,500', ' 국내도서 top20 3주', '그의 운명에 대한 아주 개인적인 생각', '유시민 저', '생각의길', '2024년 06월 19일', '9.1', '770,430', '16,800', ' 국내도서 1위 4주', '죽이고 싶은 아이 2', '이꽃님 저', '우리학교', '2024년 07월 01일', '9.9', '164,943', '14,000', ' 국내도서 top20 3주', '언젠가 우리가 같은 별을 바라본다면', '차인표 저', '해결책', '2021년 12월 15일', '9.8', '91,362', '12,000', ' 국내도서 top20 1주', '2024 큰별쌤 최태성의 별별한국사 한국사능력검정시험 심화(1,2,3급) 하', '최태성 저', '이투스북', '2023년 12월 01일', '10.0', '385,413', '15,500', ' 국내도서 top20 10주', '세이노의 가르침', '세이노(SayNo) 저', '데이원', '2023년 03월 02일', '9.0', '1,160,907', '7,200', ' 국내도서 1위 22주', 'ETS 토익 정기시험 기출문제집 1000 Vol. 4 RC', 'ETS 저', 'YBM(와이비엠)', '2023년 12월 20일', '9.6', '443,208', '19,800', ' 국내도서 top20 26주', 'ETS 토익 정기시험 기출문제집 1000 Vol. 4 LC', 'ETS 저', 'YBM(와이비엠)', '2023년 12월 20일', '9.8', '413,949', '19,800', ' 국내도서 top20 20주', '신화의 숲', '김헌 저', '포레스트북스', '2024년 05월 20일', '9.8', '173,127', '18,000', ' 국내도서 top20 6주', '허송세월', '김훈 저', '나남', '2024년 06월 20일', '9.3', '218,850', '18,000', ' 국내도서 top20 4주']\n",
      "['하루 한 장 나의 어휘력을 위한 필사 노트', '유선경 저', '위즈덤하우스', '2024년 03월 28일', '9.6', '558,822', '23,800', ' 국내도서 1위 1주', '너에게 들려주는 단단한 말', '김종원 저', '퍼스트펭귄', '2024년 07월 10일', '10.0', '183,114', '18,000', ' 국내도서 top20 1주', '불변의 법칙', '모건 하우절 저/이수경 역', '서삼독', '2024년 02월 28일', '9.5', '586,242', '25,000', ' 국내도서 1위 6주', '2024 큰별쌤 최태성의 별별한국사 한국사능력검정시험 심화(1,2,3급) 상', '최태성 저', '이투스북', '2023년 12월 01일', '9.7', '408,498', '16,000', ' 국내도서 top20 11주', '내 몸 혁명', '박용우 저', '루미너스', '2024년 01월 10일', '9.8', '221,085', '19,500', ' 국내도서 top20 3주', '그의 운명에 대한 아주 개인적인 생각', '유시민 저', '생각의길', '2024년 06월 19일', '9.1', '770,430', '16,800', ' 국내도서 1위 4주', '죽이고 싶은 아이 2', '이꽃님 저', '우리학교', '2024년 07월 01일', '9.9', '164,943', '14,000', ' 국내도서 top20 3주', '언젠가 우리가 같은 별을 바라본다면', '차인표 저', '해결책', '2021년 12월 15일', '9.8', '91,362', '12,000', ' 국내도서 top20 1주', '2024 큰별쌤 최태성의 별별한국사 한국사능력검정시험 심화(1,2,3급) 하', '최태성 저', '이투스북', '2023년 12월 01일', '10.0', '385,413', '15,500', ' 국내도서 top20 10주', '세이노의 가르침', '세이노(SayNo) 저', '데이원', '2023년 03월 02일', '9.0', '1,160,907', '7,200', ' 국내도서 1위 22주', 'ETS 토익 정기시험 기출문제집 1000 Vol. 4 RC', 'ETS 저', 'YBM(와이비엠)', '2023년 12월 20일', '9.6', '443,208', '19,800', ' 국내도서 top20 26주', 'ETS 토익 정기시험 기출문제집 1000 Vol. 4 LC', 'ETS 저', 'YBM(와이비엠)', '2023년 12월 20일', '9.8', '413,949', '19,800', ' 국내도서 top20 20주', '신화의 숲', '김헌 저', '포레스트북스', '2024년 05월 20일', '9.8', '173,127', '18,000', ' 국내도서 top20 6주', '허송세월', '김훈 저', '나남', '2024년 06월 20일', '9.3', '218,850', '18,000', ' 국내도서 top20 4주', 'THE MONEY BOOK 더 머니북', '토스 저', '비바리퍼블리카', '2024년 05월 27일', '9.0', '209,004', '22,000', ' 국내도서 top20 7주']\n",
      "['하루 한 장 나의 어휘력을 위한 필사 노트', '유선경 저', '위즈덤하우스', '2024년 03월 28일', '9.6', '558,822', '23,800', ' 국내도서 1위 1주', '너에게 들려주는 단단한 말', '김종원 저', '퍼스트펭귄', '2024년 07월 10일', '10.0', '183,114', '18,000', ' 국내도서 top20 1주', '불변의 법칙', '모건 하우절 저/이수경 역', '서삼독', '2024년 02월 28일', '9.5', '586,242', '25,000', ' 국내도서 1위 6주', '2024 큰별쌤 최태성의 별별한국사 한국사능력검정시험 심화(1,2,3급) 상', '최태성 저', '이투스북', '2023년 12월 01일', '9.7', '408,498', '16,000', ' 국내도서 top20 11주', '내 몸 혁명', '박용우 저', '루미너스', '2024년 01월 10일', '9.8', '221,085', '19,500', ' 국내도서 top20 3주', '그의 운명에 대한 아주 개인적인 생각', '유시민 저', '생각의길', '2024년 06월 19일', '9.1', '770,430', '16,800', ' 국내도서 1위 4주', '죽이고 싶은 아이 2', '이꽃님 저', '우리학교', '2024년 07월 01일', '9.9', '164,943', '14,000', ' 국내도서 top20 3주', '언젠가 우리가 같은 별을 바라본다면', '차인표 저', '해결책', '2021년 12월 15일', '9.8', '91,362', '12,000', ' 국내도서 top20 1주', '2024 큰별쌤 최태성의 별별한국사 한국사능력검정시험 심화(1,2,3급) 하', '최태성 저', '이투스북', '2023년 12월 01일', '10.0', '385,413', '15,500', ' 국내도서 top20 10주', '세이노의 가르침', '세이노(SayNo) 저', '데이원', '2023년 03월 02일', '9.0', '1,160,907', '7,200', ' 국내도서 1위 22주', 'ETS 토익 정기시험 기출문제집 1000 Vol. 4 RC', 'ETS 저', 'YBM(와이비엠)', '2023년 12월 20일', '9.6', '443,208', '19,800', ' 국내도서 top20 26주', 'ETS 토익 정기시험 기출문제집 1000 Vol. 4 LC', 'ETS 저', 'YBM(와이비엠)', '2023년 12월 20일', '9.8', '413,949', '19,800', ' 국내도서 top20 20주', '신화의 숲', '김헌 저', '포레스트북스', '2024년 05월 20일', '9.8', '173,127', '18,000', ' 국내도서 top20 6주', '허송세월', '김훈 저', '나남', '2024년 06월 20일', '9.3', '218,850', '18,000', ' 국내도서 top20 4주', 'THE MONEY BOOK 더 머니북', '토스 저', '비바리퍼블리카', '2024년 05월 27일', '9.0', '209,004', '22,000', ' 국내도서 top20 7주', '나를 소모하지 않는 현명한 태도에 관하여', '마티아스 뇔케 저/이미옥 역', '퍼스트펭귄', '2024년 03월 10일', '8.7', '403,788', '17,800', ' 국내도서 1위 2주']\n",
      "['하루 한 장 나의 어휘력을 위한 필사 노트', '유선경 저', '위즈덤하우스', '2024년 03월 28일', '9.6', '558,822', '23,800', ' 국내도서 1위 1주', '너에게 들려주는 단단한 말', '김종원 저', '퍼스트펭귄', '2024년 07월 10일', '10.0', '183,114', '18,000', ' 국내도서 top20 1주', '불변의 법칙', '모건 하우절 저/이수경 역', '서삼독', '2024년 02월 28일', '9.5', '586,242', '25,000', ' 국내도서 1위 6주', '2024 큰별쌤 최태성의 별별한국사 한국사능력검정시험 심화(1,2,3급) 상', '최태성 저', '이투스북', '2023년 12월 01일', '9.7', '408,498', '16,000', ' 국내도서 top20 11주', '내 몸 혁명', '박용우 저', '루미너스', '2024년 01월 10일', '9.8', '221,085', '19,500', ' 국내도서 top20 3주', '그의 운명에 대한 아주 개인적인 생각', '유시민 저', '생각의길', '2024년 06월 19일', '9.1', '770,430', '16,800', ' 국내도서 1위 4주', '죽이고 싶은 아이 2', '이꽃님 저', '우리학교', '2024년 07월 01일', '9.9', '164,943', '14,000', ' 국내도서 top20 3주', '언젠가 우리가 같은 별을 바라본다면', '차인표 저', '해결책', '2021년 12월 15일', '9.8', '91,362', '12,000', ' 국내도서 top20 1주', '2024 큰별쌤 최태성의 별별한국사 한국사능력검정시험 심화(1,2,3급) 하', '최태성 저', '이투스북', '2023년 12월 01일', '10.0', '385,413', '15,500', ' 국내도서 top20 10주', '세이노의 가르침', '세이노(SayNo) 저', '데이원', '2023년 03월 02일', '9.0', '1,160,907', '7,200', ' 국내도서 1위 22주', 'ETS 토익 정기시험 기출문제집 1000 Vol. 4 RC', 'ETS 저', 'YBM(와이비엠)', '2023년 12월 20일', '9.6', '443,208', '19,800', ' 국내도서 top20 26주', 'ETS 토익 정기시험 기출문제집 1000 Vol. 4 LC', 'ETS 저', 'YBM(와이비엠)', '2023년 12월 20일', '9.8', '413,949', '19,800', ' 국내도서 top20 20주', '신화의 숲', '김헌 저', '포레스트북스', '2024년 05월 20일', '9.8', '173,127', '18,000', ' 국내도서 top20 6주', '허송세월', '김훈 저', '나남', '2024년 06월 20일', '9.3', '218,850', '18,000', ' 국내도서 top20 4주', 'THE MONEY BOOK 더 머니북', '토스 저', '비바리퍼블리카', '2024년 05월 27일', '9.0', '209,004', '22,000', ' 국내도서 top20 7주', '나를 소모하지 않는 현명한 태도에 관하여', '마티아스 뇔케 저/이미옥 역', '퍼스트펭귄', '2024년 03월 10일', '8.7', '403,788', '17,800', ' 국내도서 1위 2주', '나는 다정한 관찰자가 되기로 했다', '이은경 저', '서교책방', '2024년 05월 30일', '9.6', '233,604', '17,800', ' 국내도서 top20 8주']\n",
      "['하루 한 장 나의 어휘력을 위한 필사 노트', '유선경 저', '위즈덤하우스', '2024년 03월 28일', '9.6', '558,822', '23,800', ' 국내도서 1위 1주', '너에게 들려주는 단단한 말', '김종원 저', '퍼스트펭귄', '2024년 07월 10일', '10.0', '183,114', '18,000', ' 국내도서 top20 1주', '불변의 법칙', '모건 하우절 저/이수경 역', '서삼독', '2024년 02월 28일', '9.5', '586,242', '25,000', ' 국내도서 1위 6주', '2024 큰별쌤 최태성의 별별한국사 한국사능력검정시험 심화(1,2,3급) 상', '최태성 저', '이투스북', '2023년 12월 01일', '9.7', '408,498', '16,000', ' 국내도서 top20 11주', '내 몸 혁명', '박용우 저', '루미너스', '2024년 01월 10일', '9.8', '221,085', '19,500', ' 국내도서 top20 3주', '그의 운명에 대한 아주 개인적인 생각', '유시민 저', '생각의길', '2024년 06월 19일', '9.1', '770,430', '16,800', ' 국내도서 1위 4주', '죽이고 싶은 아이 2', '이꽃님 저', '우리학교', '2024년 07월 01일', '9.9', '164,943', '14,000', ' 국내도서 top20 3주', '언젠가 우리가 같은 별을 바라본다면', '차인표 저', '해결책', '2021년 12월 15일', '9.8', '91,362', '12,000', ' 국내도서 top20 1주', '2024 큰별쌤 최태성의 별별한국사 한국사능력검정시험 심화(1,2,3급) 하', '최태성 저', '이투스북', '2023년 12월 01일', '10.0', '385,413', '15,500', ' 국내도서 top20 10주', '세이노의 가르침', '세이노(SayNo) 저', '데이원', '2023년 03월 02일', '9.0', '1,160,907', '7,200', ' 국내도서 1위 22주', 'ETS 토익 정기시험 기출문제집 1000 Vol. 4 RC', 'ETS 저', 'YBM(와이비엠)', '2023년 12월 20일', '9.6', '443,208', '19,800', ' 국내도서 top20 26주', 'ETS 토익 정기시험 기출문제집 1000 Vol. 4 LC', 'ETS 저', 'YBM(와이비엠)', '2023년 12월 20일', '9.8', '413,949', '19,800', ' 국내도서 top20 20주', '신화의 숲', '김헌 저', '포레스트북스', '2024년 05월 20일', '9.8', '173,127', '18,000', ' 국내도서 top20 6주', '허송세월', '김훈 저', '나남', '2024년 06월 20일', '9.3', '218,850', '18,000', ' 국내도서 top20 4주', 'THE MONEY BOOK 더 머니북', '토스 저', '비바리퍼블리카', '2024년 05월 27일', '9.0', '209,004', '22,000', ' 국내도서 top20 7주', '나를 소모하지 않는 현명한 태도에 관하여', '마티아스 뇔케 저/이미옥 역', '퍼스트펭귄', '2024년 03월 10일', '8.7', '403,788', '17,800', ' 국내도서 1위 2주', '나는 다정한 관찰자가 되기로 했다', '이은경 저', '서교책방', '2024년 05월 30일', '9.6', '233,604', '17,800', ' 국내도서 top20 8주', '초역 부처의 말', '코이케 류노스케 저/박재현 역', '포레스트북스', '2024년 05월 30일', '9.7', '181,944', '17,800', ' 국내도서 top20 5주']\n",
      "['하루 한 장 나의 어휘력을 위한 필사 노트', '유선경 저', '위즈덤하우스', '2024년 03월 28일', '9.6', '558,822', '23,800', ' 국내도서 1위 1주', '너에게 들려주는 단단한 말', '김종원 저', '퍼스트펭귄', '2024년 07월 10일', '10.0', '183,114', '18,000', ' 국내도서 top20 1주', '불변의 법칙', '모건 하우절 저/이수경 역', '서삼독', '2024년 02월 28일', '9.5', '586,242', '25,000', ' 국내도서 1위 6주', '2024 큰별쌤 최태성의 별별한국사 한국사능력검정시험 심화(1,2,3급) 상', '최태성 저', '이투스북', '2023년 12월 01일', '9.7', '408,498', '16,000', ' 국내도서 top20 11주', '내 몸 혁명', '박용우 저', '루미너스', '2024년 01월 10일', '9.8', '221,085', '19,500', ' 국내도서 top20 3주', '그의 운명에 대한 아주 개인적인 생각', '유시민 저', '생각의길', '2024년 06월 19일', '9.1', '770,430', '16,800', ' 국내도서 1위 4주', '죽이고 싶은 아이 2', '이꽃님 저', '우리학교', '2024년 07월 01일', '9.9', '164,943', '14,000', ' 국내도서 top20 3주', '언젠가 우리가 같은 별을 바라본다면', '차인표 저', '해결책', '2021년 12월 15일', '9.8', '91,362', '12,000', ' 국내도서 top20 1주', '2024 큰별쌤 최태성의 별별한국사 한국사능력검정시험 심화(1,2,3급) 하', '최태성 저', '이투스북', '2023년 12월 01일', '10.0', '385,413', '15,500', ' 국내도서 top20 10주', '세이노의 가르침', '세이노(SayNo) 저', '데이원', '2023년 03월 02일', '9.0', '1,160,907', '7,200', ' 국내도서 1위 22주', 'ETS 토익 정기시험 기출문제집 1000 Vol. 4 RC', 'ETS 저', 'YBM(와이비엠)', '2023년 12월 20일', '9.6', '443,208', '19,800', ' 국내도서 top20 26주', 'ETS 토익 정기시험 기출문제집 1000 Vol. 4 LC', 'ETS 저', 'YBM(와이비엠)', '2023년 12월 20일', '9.8', '413,949', '19,800', ' 국내도서 top20 20주', '신화의 숲', '김헌 저', '포레스트북스', '2024년 05월 20일', '9.8', '173,127', '18,000', ' 국내도서 top20 6주', '허송세월', '김훈 저', '나남', '2024년 06월 20일', '9.3', '218,850', '18,000', ' 국내도서 top20 4주', 'THE MONEY BOOK 더 머니북', '토스 저', '비바리퍼블리카', '2024년 05월 27일', '9.0', '209,004', '22,000', ' 국내도서 top20 7주', '나를 소모하지 않는 현명한 태도에 관하여', '마티아스 뇔케 저/이미옥 역', '퍼스트펭귄', '2024년 03월 10일', '8.7', '403,788', '17,800', ' 국내도서 1위 2주', '나는 다정한 관찰자가 되기로 했다', '이은경 저', '서교책방', '2024년 05월 30일', '9.6', '233,604', '17,800', ' 국내도서 top20 8주', '초역 부처의 말', '코이케 류노스케 저/박재현 역', '포레스트북스', '2024년 05월 30일', '9.7', '181,944', '17,800', ' 국내도서 top20 5주', '2024 큰별쌤 최태성의 별별한국사 기출 500제 한국사능력검정시험 심화 (1,2,3급)', '최태성 저', '이투스북', '2024년 01월 17일', '9.9', '186,156', '19,500', ' 국내도서 top20 3주']\n",
      "['하루 한 장 나의 어휘력을 위한 필사 노트', '유선경 저', '위즈덤하우스', '2024년 03월 28일', '9.6', '558,822', '23,800', ' 국내도서 1위 1주', '너에게 들려주는 단단한 말', '김종원 저', '퍼스트펭귄', '2024년 07월 10일', '10.0', '183,114', '18,000', ' 국내도서 top20 1주', '불변의 법칙', '모건 하우절 저/이수경 역', '서삼독', '2024년 02월 28일', '9.5', '586,242', '25,000', ' 국내도서 1위 6주', '2024 큰별쌤 최태성의 별별한국사 한국사능력검정시험 심화(1,2,3급) 상', '최태성 저', '이투스북', '2023년 12월 01일', '9.7', '408,498', '16,000', ' 국내도서 top20 11주', '내 몸 혁명', '박용우 저', '루미너스', '2024년 01월 10일', '9.8', '221,085', '19,500', ' 국내도서 top20 3주', '그의 운명에 대한 아주 개인적인 생각', '유시민 저', '생각의길', '2024년 06월 19일', '9.1', '770,430', '16,800', ' 국내도서 1위 4주', '죽이고 싶은 아이 2', '이꽃님 저', '우리학교', '2024년 07월 01일', '9.9', '164,943', '14,000', ' 국내도서 top20 3주', '언젠가 우리가 같은 별을 바라본다면', '차인표 저', '해결책', '2021년 12월 15일', '9.8', '91,362', '12,000', ' 국내도서 top20 1주', '2024 큰별쌤 최태성의 별별한국사 한국사능력검정시험 심화(1,2,3급) 하', '최태성 저', '이투스북', '2023년 12월 01일', '10.0', '385,413', '15,500', ' 국내도서 top20 10주', '세이노의 가르침', '세이노(SayNo) 저', '데이원', '2023년 03월 02일', '9.0', '1,160,907', '7,200', ' 국내도서 1위 22주', 'ETS 토익 정기시험 기출문제집 1000 Vol. 4 RC', 'ETS 저', 'YBM(와이비엠)', '2023년 12월 20일', '9.6', '443,208', '19,800', ' 국내도서 top20 26주', 'ETS 토익 정기시험 기출문제집 1000 Vol. 4 LC', 'ETS 저', 'YBM(와이비엠)', '2023년 12월 20일', '9.8', '413,949', '19,800', ' 국내도서 top20 20주', '신화의 숲', '김헌 저', '포레스트북스', '2024년 05월 20일', '9.8', '173,127', '18,000', ' 국내도서 top20 6주', '허송세월', '김훈 저', '나남', '2024년 06월 20일', '9.3', '218,850', '18,000', ' 국내도서 top20 4주', 'THE MONEY BOOK 더 머니북', '토스 저', '비바리퍼블리카', '2024년 05월 27일', '9.0', '209,004', '22,000', ' 국내도서 top20 7주', '나를 소모하지 않는 현명한 태도에 관하여', '마티아스 뇔케 저/이미옥 역', '퍼스트펭귄', '2024년 03월 10일', '8.7', '403,788', '17,800', ' 국내도서 1위 2주', '나는 다정한 관찰자가 되기로 했다', '이은경 저', '서교책방', '2024년 05월 30일', '9.6', '233,604', '17,800', ' 국내도서 top20 8주', '초역 부처의 말', '코이케 류노스케 저/박재현 역', '포레스트북스', '2024년 05월 30일', '9.7', '181,944', '17,800', ' 국내도서 top20 5주', '2024 큰별쌤 최태성의 별별한국사 기출 500제 한국사능력검정시험 심화 (1,2,3급)', '최태성 저', '이투스북', '2024년 01월 17일', '9.9', '186,156', '19,500', ' 국내도서 top20 3주', '모순', '양귀자 저', '쓰다', '2013년 04월 01일', '9.6', '334,107', '13,000', ' 국내도서 top20 1주']\n",
      "['하루 한 장 나의 어휘력을 위한 필사 노트', '유선경 저', '위즈덤하우스', '2024년 03월 28일', '9.6', '558,822', '23,800', ' 국내도서 1위 1주', '너에게 들려주는 단단한 말', '김종원 저', '퍼스트펭귄', '2024년 07월 10일', '10.0', '183,114', '18,000', ' 국내도서 top20 1주', '불변의 법칙', '모건 하우절 저/이수경 역', '서삼독', '2024년 02월 28일', '9.5', '586,242', '25,000', ' 국내도서 1위 6주', '2024 큰별쌤 최태성의 별별한국사 한국사능력검정시험 심화(1,2,3급) 상', '최태성 저', '이투스북', '2023년 12월 01일', '9.7', '408,498', '16,000', ' 국내도서 top20 11주', '내 몸 혁명', '박용우 저', '루미너스', '2024년 01월 10일', '9.8', '221,085', '19,500', ' 국내도서 top20 3주', '그의 운명에 대한 아주 개인적인 생각', '유시민 저', '생각의길', '2024년 06월 19일', '9.1', '770,430', '16,800', ' 국내도서 1위 4주', '죽이고 싶은 아이 2', '이꽃님 저', '우리학교', '2024년 07월 01일', '9.9', '164,943', '14,000', ' 국내도서 top20 3주', '언젠가 우리가 같은 별을 바라본다면', '차인표 저', '해결책', '2021년 12월 15일', '9.8', '91,362', '12,000', ' 국내도서 top20 1주', '2024 큰별쌤 최태성의 별별한국사 한국사능력검정시험 심화(1,2,3급) 하', '최태성 저', '이투스북', '2023년 12월 01일', '10.0', '385,413', '15,500', ' 국내도서 top20 10주', '세이노의 가르침', '세이노(SayNo) 저', '데이원', '2023년 03월 02일', '9.0', '1,160,907', '7,200', ' 국내도서 1위 22주', 'ETS 토익 정기시험 기출문제집 1000 Vol. 4 RC', 'ETS 저', 'YBM(와이비엠)', '2023년 12월 20일', '9.6', '443,208', '19,800', ' 국내도서 top20 26주', 'ETS 토익 정기시험 기출문제집 1000 Vol. 4 LC', 'ETS 저', 'YBM(와이비엠)', '2023년 12월 20일', '9.8', '413,949', '19,800', ' 국내도서 top20 20주', '신화의 숲', '김헌 저', '포레스트북스', '2024년 05월 20일', '9.8', '173,127', '18,000', ' 국내도서 top20 6주', '허송세월', '김훈 저', '나남', '2024년 06월 20일', '9.3', '218,850', '18,000', ' 국내도서 top20 4주', 'THE MONEY BOOK 더 머니북', '토스 저', '비바리퍼블리카', '2024년 05월 27일', '9.0', '209,004', '22,000', ' 국내도서 top20 7주', '나를 소모하지 않는 현명한 태도에 관하여', '마티아스 뇔케 저/이미옥 역', '퍼스트펭귄', '2024년 03월 10일', '8.7', '403,788', '17,800', ' 국내도서 1위 2주', '나는 다정한 관찰자가 되기로 했다', '이은경 저', '서교책방', '2024년 05월 30일', '9.6', '233,604', '17,800', ' 국내도서 top20 8주', '초역 부처의 말', '코이케 류노스케 저/박재현 역', '포레스트북스', '2024년 05월 30일', '9.7', '181,944', '17,800', ' 국내도서 top20 5주', '2024 큰별쌤 최태성의 별별한국사 기출 500제 한국사능력검정시험 심화 (1,2,3급)', '최태성 저', '이투스북', '2024년 01월 17일', '9.9', '186,156', '19,500', ' 국내도서 top20 3주', '모순', '양귀자 저', '쓰다', '2013년 04월 01일', '9.6', '334,107', '13,000', ' 국내도서 top20 1주', '꽃길이 따로 있나, 내 삶이 꽃인 것을', '오평선 저', '포레스트북스', '2024년 03월 22일', '9.6', '216,789', '16,800', ' 국내도서 top20 10주']\n",
      "['하루 한 장 나의 어휘력을 위한 필사 노트', '유선경 저', '위즈덤하우스', '2024년 03월 28일', '9.6', '558,822', '23,800', ' 국내도서 1위 1주', '너에게 들려주는 단단한 말', '김종원 저', '퍼스트펭귄', '2024년 07월 10일', '10.0', '183,114', '18,000', ' 국내도서 top20 1주', '불변의 법칙', '모건 하우절 저/이수경 역', '서삼독', '2024년 02월 28일', '9.5', '586,242', '25,000', ' 국내도서 1위 6주', '2024 큰별쌤 최태성의 별별한국사 한국사능력검정시험 심화(1,2,3급) 상', '최태성 저', '이투스북', '2023년 12월 01일', '9.7', '408,498', '16,000', ' 국내도서 top20 11주', '내 몸 혁명', '박용우 저', '루미너스', '2024년 01월 10일', '9.8', '221,085', '19,500', ' 국내도서 top20 3주', '그의 운명에 대한 아주 개인적인 생각', '유시민 저', '생각의길', '2024년 06월 19일', '9.1', '770,430', '16,800', ' 국내도서 1위 4주', '죽이고 싶은 아이 2', '이꽃님 저', '우리학교', '2024년 07월 01일', '9.9', '164,943', '14,000', ' 국내도서 top20 3주', '언젠가 우리가 같은 별을 바라본다면', '차인표 저', '해결책', '2021년 12월 15일', '9.8', '91,362', '12,000', ' 국내도서 top20 1주', '2024 큰별쌤 최태성의 별별한국사 한국사능력검정시험 심화(1,2,3급) 하', '최태성 저', '이투스북', '2023년 12월 01일', '10.0', '385,413', '15,500', ' 국내도서 top20 10주', '세이노의 가르침', '세이노(SayNo) 저', '데이원', '2023년 03월 02일', '9.0', '1,160,907', '7,200', ' 국내도서 1위 22주', 'ETS 토익 정기시험 기출문제집 1000 Vol. 4 RC', 'ETS 저', 'YBM(와이비엠)', '2023년 12월 20일', '9.6', '443,208', '19,800', ' 국내도서 top20 26주', 'ETS 토익 정기시험 기출문제집 1000 Vol. 4 LC', 'ETS 저', 'YBM(와이비엠)', '2023년 12월 20일', '9.8', '413,949', '19,800', ' 국내도서 top20 20주', '신화의 숲', '김헌 저', '포레스트북스', '2024년 05월 20일', '9.8', '173,127', '18,000', ' 국내도서 top20 6주', '허송세월', '김훈 저', '나남', '2024년 06월 20일', '9.3', '218,850', '18,000', ' 국내도서 top20 4주', 'THE MONEY BOOK 더 머니북', '토스 저', '비바리퍼블리카', '2024년 05월 27일', '9.0', '209,004', '22,000', ' 국내도서 top20 7주', '나를 소모하지 않는 현명한 태도에 관하여', '마티아스 뇔케 저/이미옥 역', '퍼스트펭귄', '2024년 03월 10일', '8.7', '403,788', '17,800', ' 국내도서 1위 2주', '나는 다정한 관찰자가 되기로 했다', '이은경 저', '서교책방', '2024년 05월 30일', '9.6', '233,604', '17,800', ' 국내도서 top20 8주', '초역 부처의 말', '코이케 류노스케 저/박재현 역', '포레스트북스', '2024년 05월 30일', '9.7', '181,944', '17,800', ' 국내도서 top20 5주', '2024 큰별쌤 최태성의 별별한국사 기출 500제 한국사능력검정시험 심화 (1,2,3급)', '최태성 저', '이투스북', '2024년 01월 17일', '9.9', '186,156', '19,500', ' 국내도서 top20 3주', '모순', '양귀자 저', '쓰다', '2013년 04월 01일', '9.6', '334,107', '13,000', ' 국내도서 top20 1주', '꽃길이 따로 있나, 내 삶이 꽃인 것을', '오평선 저', '포레스트북스', '2024년 03월 22일', '9.6', '216,789', '16,800', ' 국내도서 top20 10주', '마흔에 읽는 쇼펜하우어 (200쇄 기념 확장판)', '강용수 저', '유노북스', '2023년 09월 07일', '8.6', '945,423', '17,000', ' 국내도서 1위 12주']\n",
      "['하루 한 장 나의 어휘력을 위한 필사 노트', '유선경 저', '위즈덤하우스', '2024년 03월 28일', '9.6', '558,822', '23,800', ' 국내도서 1위 1주', '너에게 들려주는 단단한 말', '김종원 저', '퍼스트펭귄', '2024년 07월 10일', '10.0', '183,114', '18,000', ' 국내도서 top20 1주', '불변의 법칙', '모건 하우절 저/이수경 역', '서삼독', '2024년 02월 28일', '9.5', '586,242', '25,000', ' 국내도서 1위 6주', '2024 큰별쌤 최태성의 별별한국사 한국사능력검정시험 심화(1,2,3급) 상', '최태성 저', '이투스북', '2023년 12월 01일', '9.7', '408,498', '16,000', ' 국내도서 top20 11주', '내 몸 혁명', '박용우 저', '루미너스', '2024년 01월 10일', '9.8', '221,085', '19,500', ' 국내도서 top20 3주', '그의 운명에 대한 아주 개인적인 생각', '유시민 저', '생각의길', '2024년 06월 19일', '9.1', '770,430', '16,800', ' 국내도서 1위 4주', '죽이고 싶은 아이 2', '이꽃님 저', '우리학교', '2024년 07월 01일', '9.9', '164,943', '14,000', ' 국내도서 top20 3주', '언젠가 우리가 같은 별을 바라본다면', '차인표 저', '해결책', '2021년 12월 15일', '9.8', '91,362', '12,000', ' 국내도서 top20 1주', '2024 큰별쌤 최태성의 별별한국사 한국사능력검정시험 심화(1,2,3급) 하', '최태성 저', '이투스북', '2023년 12월 01일', '10.0', '385,413', '15,500', ' 국내도서 top20 10주', '세이노의 가르침', '세이노(SayNo) 저', '데이원', '2023년 03월 02일', '9.0', '1,160,907', '7,200', ' 국내도서 1위 22주', 'ETS 토익 정기시험 기출문제집 1000 Vol. 4 RC', 'ETS 저', 'YBM(와이비엠)', '2023년 12월 20일', '9.6', '443,208', '19,800', ' 국내도서 top20 26주', 'ETS 토익 정기시험 기출문제집 1000 Vol. 4 LC', 'ETS 저', 'YBM(와이비엠)', '2023년 12월 20일', '9.8', '413,949', '19,800', ' 국내도서 top20 20주', '신화의 숲', '김헌 저', '포레스트북스', '2024년 05월 20일', '9.8', '173,127', '18,000', ' 국내도서 top20 6주', '허송세월', '김훈 저', '나남', '2024년 06월 20일', '9.3', '218,850', '18,000', ' 국내도서 top20 4주', 'THE MONEY BOOK 더 머니북', '토스 저', '비바리퍼블리카', '2024년 05월 27일', '9.0', '209,004', '22,000', ' 국내도서 top20 7주', '나를 소모하지 않는 현명한 태도에 관하여', '마티아스 뇔케 저/이미옥 역', '퍼스트펭귄', '2024년 03월 10일', '8.7', '403,788', '17,800', ' 국내도서 1위 2주', '나는 다정한 관찰자가 되기로 했다', '이은경 저', '서교책방', '2024년 05월 30일', '9.6', '233,604', '17,800', ' 국내도서 top20 8주', '초역 부처의 말', '코이케 류노스케 저/박재현 역', '포레스트북스', '2024년 05월 30일', '9.7', '181,944', '17,800', ' 국내도서 top20 5주', '2024 큰별쌤 최태성의 별별한국사 기출 500제 한국사능력검정시험 심화 (1,2,3급)', '최태성 저', '이투스북', '2024년 01월 17일', '9.9', '186,156', '19,500', ' 국내도서 top20 3주', '모순', '양귀자 저', '쓰다', '2013년 04월 01일', '9.6', '334,107', '13,000', ' 국내도서 top20 1주', '꽃길이 따로 있나, 내 삶이 꽃인 것을', '오평선 저', '포레스트북스', '2024년 03월 22일', '9.6', '216,789', '16,800', ' 국내도서 top20 10주', '마흔에 읽는 쇼펜하우어 (200쇄 기념 확장판)', '강용수 저', '유노북스', '2023년 09월 07일', '8.6', '945,423', '17,000', ' 국내도서 1위 12주', '돈의 심리학 (30만 부 기념 스페셜 에디션)', '모건 하우절 저/이지연 역', '인플루엔셜', '2021년 01월 13일', '9.3', '293,445', '19,800', ' 국내도서 top20 28주']\n",
      "['하루 한 장 나의 어휘력을 위한 필사 노트', '유선경 저', '위즈덤하우스', '2024년 03월 28일', '9.6', '558,822', '23,800', ' 국내도서 1위 1주', '너에게 들려주는 단단한 말', '김종원 저', '퍼스트펭귄', '2024년 07월 10일', '10.0', '183,114', '18,000', ' 국내도서 top20 1주', '불변의 법칙', '모건 하우절 저/이수경 역', '서삼독', '2024년 02월 28일', '9.5', '586,242', '25,000', ' 국내도서 1위 6주', '2024 큰별쌤 최태성의 별별한국사 한국사능력검정시험 심화(1,2,3급) 상', '최태성 저', '이투스북', '2023년 12월 01일', '9.7', '408,498', '16,000', ' 국내도서 top20 11주', '내 몸 혁명', '박용우 저', '루미너스', '2024년 01월 10일', '9.8', '221,085', '19,500', ' 국내도서 top20 3주', '그의 운명에 대한 아주 개인적인 생각', '유시민 저', '생각의길', '2024년 06월 19일', '9.1', '770,430', '16,800', ' 국내도서 1위 4주', '죽이고 싶은 아이 2', '이꽃님 저', '우리학교', '2024년 07월 01일', '9.9', '164,943', '14,000', ' 국내도서 top20 3주', '언젠가 우리가 같은 별을 바라본다면', '차인표 저', '해결책', '2021년 12월 15일', '9.8', '91,362', '12,000', ' 국내도서 top20 1주', '2024 큰별쌤 최태성의 별별한국사 한국사능력검정시험 심화(1,2,3급) 하', '최태성 저', '이투스북', '2023년 12월 01일', '10.0', '385,413', '15,500', ' 국내도서 top20 10주', '세이노의 가르침', '세이노(SayNo) 저', '데이원', '2023년 03월 02일', '9.0', '1,160,907', '7,200', ' 국내도서 1위 22주', 'ETS 토익 정기시험 기출문제집 1000 Vol. 4 RC', 'ETS 저', 'YBM(와이비엠)', '2023년 12월 20일', '9.6', '443,208', '19,800', ' 국내도서 top20 26주', 'ETS 토익 정기시험 기출문제집 1000 Vol. 4 LC', 'ETS 저', 'YBM(와이비엠)', '2023년 12월 20일', '9.8', '413,949', '19,800', ' 국내도서 top20 20주', '신화의 숲', '김헌 저', '포레스트북스', '2024년 05월 20일', '9.8', '173,127', '18,000', ' 국내도서 top20 6주', '허송세월', '김훈 저', '나남', '2024년 06월 20일', '9.3', '218,850', '18,000', ' 국내도서 top20 4주', 'THE MONEY BOOK 더 머니북', '토스 저', '비바리퍼블리카', '2024년 05월 27일', '9.0', '209,004', '22,000', ' 국내도서 top20 7주', '나를 소모하지 않는 현명한 태도에 관하여', '마티아스 뇔케 저/이미옥 역', '퍼스트펭귄', '2024년 03월 10일', '8.7', '403,788', '17,800', ' 국내도서 1위 2주', '나는 다정한 관찰자가 되기로 했다', '이은경 저', '서교책방', '2024년 05월 30일', '9.6', '233,604', '17,800', ' 국내도서 top20 8주', '초역 부처의 말', '코이케 류노스케 저/박재현 역', '포레스트북스', '2024년 05월 30일', '9.7', '181,944', '17,800', ' 국내도서 top20 5주', '2024 큰별쌤 최태성의 별별한국사 기출 500제 한국사능력검정시험 심화 (1,2,3급)', '최태성 저', '이투스북', '2024년 01월 17일', '9.9', '186,156', '19,500', ' 국내도서 top20 3주', '모순', '양귀자 저', '쓰다', '2013년 04월 01일', '9.6', '334,107', '13,000', ' 국내도서 top20 1주', '꽃길이 따로 있나, 내 삶이 꽃인 것을', '오평선 저', '포레스트북스', '2024년 03월 22일', '9.6', '216,789', '16,800', ' 국내도서 top20 10주', '마흔에 읽는 쇼펜하우어 (200쇄 기념 확장판)', '강용수 저', '유노북스', '2023년 09월 07일', '8.6', '945,423', '17,000', ' 국내도서 1위 12주', '돈의 심리학 (30만 부 기념 스페셜 에디션)', '모건 하우절 저/이지연 역', '인플루엔셜', '2021년 01월 13일', '9.3', '293,445', '19,800', ' 국내도서 top20 28주', '나는 메트로폴리탄 미술관의 경비원입니다', '패트릭 브링리 저/김희정, 조현주 역', '웅진지식하우스', '2023년 11월 24일', '9.0', '454,899', '17,500', ' 국내도서 top20 21주']\n",
      "['하루 한 장 나의 어휘력을 위한 필사 노트', '유선경 저', '위즈덤하우스', '2024년 03월 28일', '9.6', '558,822', '23,800', ' 국내도서 1위 1주', '너에게 들려주는 단단한 말', '김종원 저', '퍼스트펭귄', '2024년 07월 10일', '10.0', '183,114', '18,000', ' 국내도서 top20 1주', '불변의 법칙', '모건 하우절 저/이수경 역', '서삼독', '2024년 02월 28일', '9.5', '586,242', '25,000', ' 국내도서 1위 6주', '2024 큰별쌤 최태성의 별별한국사 한국사능력검정시험 심화(1,2,3급) 상', '최태성 저', '이투스북', '2023년 12월 01일', '9.7', '408,498', '16,000', ' 국내도서 top20 11주', '내 몸 혁명', '박용우 저', '루미너스', '2024년 01월 10일', '9.8', '221,085', '19,500', ' 국내도서 top20 3주', '그의 운명에 대한 아주 개인적인 생각', '유시민 저', '생각의길', '2024년 06월 19일', '9.1', '770,430', '16,800', ' 국내도서 1위 4주', '죽이고 싶은 아이 2', '이꽃님 저', '우리학교', '2024년 07월 01일', '9.9', '164,943', '14,000', ' 국내도서 top20 3주', '언젠가 우리가 같은 별을 바라본다면', '차인표 저', '해결책', '2021년 12월 15일', '9.8', '91,362', '12,000', ' 국내도서 top20 1주', '2024 큰별쌤 최태성의 별별한국사 한국사능력검정시험 심화(1,2,3급) 하', '최태성 저', '이투스북', '2023년 12월 01일', '10.0', '385,413', '15,500', ' 국내도서 top20 10주', '세이노의 가르침', '세이노(SayNo) 저', '데이원', '2023년 03월 02일', '9.0', '1,160,907', '7,200', ' 국내도서 1위 22주', 'ETS 토익 정기시험 기출문제집 1000 Vol. 4 RC', 'ETS 저', 'YBM(와이비엠)', '2023년 12월 20일', '9.6', '443,208', '19,800', ' 국내도서 top20 26주', 'ETS 토익 정기시험 기출문제집 1000 Vol. 4 LC', 'ETS 저', 'YBM(와이비엠)', '2023년 12월 20일', '9.8', '413,949', '19,800', ' 국내도서 top20 20주', '신화의 숲', '김헌 저', '포레스트북스', '2024년 05월 20일', '9.8', '173,127', '18,000', ' 국내도서 top20 6주', '허송세월', '김훈 저', '나남', '2024년 06월 20일', '9.3', '218,850', '18,000', ' 국내도서 top20 4주', 'THE MONEY BOOK 더 머니북', '토스 저', '비바리퍼블리카', '2024년 05월 27일', '9.0', '209,004', '22,000', ' 국내도서 top20 7주', '나를 소모하지 않는 현명한 태도에 관하여', '마티아스 뇔케 저/이미옥 역', '퍼스트펭귄', '2024년 03월 10일', '8.7', '403,788', '17,800', ' 국내도서 1위 2주', '나는 다정한 관찰자가 되기로 했다', '이은경 저', '서교책방', '2024년 05월 30일', '9.6', '233,604', '17,800', ' 국내도서 top20 8주', '초역 부처의 말', '코이케 류노스케 저/박재현 역', '포레스트북스', '2024년 05월 30일', '9.7', '181,944', '17,800', ' 국내도서 top20 5주', '2024 큰별쌤 최태성의 별별한국사 기출 500제 한국사능력검정시험 심화 (1,2,3급)', '최태성 저', '이투스북', '2024년 01월 17일', '9.9', '186,156', '19,500', ' 국내도서 top20 3주', '모순', '양귀자 저', '쓰다', '2013년 04월 01일', '9.6', '334,107', '13,000', ' 국내도서 top20 1주', '꽃길이 따로 있나, 내 삶이 꽃인 것을', '오평선 저', '포레스트북스', '2024년 03월 22일', '9.6', '216,789', '16,800', ' 국내도서 top20 10주', '마흔에 읽는 쇼펜하우어 (200쇄 기념 확장판)', '강용수 저', '유노북스', '2023년 09월 07일', '8.6', '945,423', '17,000', ' 국내도서 1위 12주', '돈의 심리학 (30만 부 기념 스페셜 에디션)', '모건 하우절 저/이지연 역', '인플루엔셜', '2021년 01월 13일', '9.3', '293,445', '19,800', ' 국내도서 top20 28주', '나는 메트로폴리탄 미술관의 경비원입니다', '패트릭 브링리 저/김희정, 조현주 역', '웅진지식하우스', '2023년 11월 24일', '9.0', '454,899', '17,500', ' 국내도서 top20 21주', '빨모쌤의 라이브 영어회화', '신용하 저', '웅진지식하우스', '2024년 04월 24일', '9.7', '214,860', '22,000', ' 국내도서 top20 8주']\n",
      "['하루 한 장 나의 어휘력을 위한 필사 노트', '유선경 저', '위즈덤하우스', '2024년 03월 28일', '9.6', '558,822', '23,800', ' 국내도서 1위 1주', '너에게 들려주는 단단한 말', '김종원 저', '퍼스트펭귄', '2024년 07월 10일', '10.0', '183,114', '18,000', ' 국내도서 top20 1주', '불변의 법칙', '모건 하우절 저/이수경 역', '서삼독', '2024년 02월 28일', '9.5', '586,242', '25,000', ' 국내도서 1위 6주', '2024 큰별쌤 최태성의 별별한국사 한국사능력검정시험 심화(1,2,3급) 상', '최태성 저', '이투스북', '2023년 12월 01일', '9.7', '408,498', '16,000', ' 국내도서 top20 11주', '내 몸 혁명', '박용우 저', '루미너스', '2024년 01월 10일', '9.8', '221,085', '19,500', ' 국내도서 top20 3주', '그의 운명에 대한 아주 개인적인 생각', '유시민 저', '생각의길', '2024년 06월 19일', '9.1', '770,430', '16,800', ' 국내도서 1위 4주', '죽이고 싶은 아이 2', '이꽃님 저', '우리학교', '2024년 07월 01일', '9.9', '164,943', '14,000', ' 국내도서 top20 3주', '언젠가 우리가 같은 별을 바라본다면', '차인표 저', '해결책', '2021년 12월 15일', '9.8', '91,362', '12,000', ' 국내도서 top20 1주', '2024 큰별쌤 최태성의 별별한국사 한국사능력검정시험 심화(1,2,3급) 하', '최태성 저', '이투스북', '2023년 12월 01일', '10.0', '385,413', '15,500', ' 국내도서 top20 10주', '세이노의 가르침', '세이노(SayNo) 저', '데이원', '2023년 03월 02일', '9.0', '1,160,907', '7,200', ' 국내도서 1위 22주', 'ETS 토익 정기시험 기출문제집 1000 Vol. 4 RC', 'ETS 저', 'YBM(와이비엠)', '2023년 12월 20일', '9.6', '443,208', '19,800', ' 국내도서 top20 26주', 'ETS 토익 정기시험 기출문제집 1000 Vol. 4 LC', 'ETS 저', 'YBM(와이비엠)', '2023년 12월 20일', '9.8', '413,949', '19,800', ' 국내도서 top20 20주', '신화의 숲', '김헌 저', '포레스트북스', '2024년 05월 20일', '9.8', '173,127', '18,000', ' 국내도서 top20 6주', '허송세월', '김훈 저', '나남', '2024년 06월 20일', '9.3', '218,850', '18,000', ' 국내도서 top20 4주', 'THE MONEY BOOK 더 머니북', '토스 저', '비바리퍼블리카', '2024년 05월 27일', '9.0', '209,004', '22,000', ' 국내도서 top20 7주', '나를 소모하지 않는 현명한 태도에 관하여', '마티아스 뇔케 저/이미옥 역', '퍼스트펭귄', '2024년 03월 10일', '8.7', '403,788', '17,800', ' 국내도서 1위 2주', '나는 다정한 관찰자가 되기로 했다', '이은경 저', '서교책방', '2024년 05월 30일', '9.6', '233,604', '17,800', ' 국내도서 top20 8주', '초역 부처의 말', '코이케 류노스케 저/박재현 역', '포레스트북스', '2024년 05월 30일', '9.7', '181,944', '17,800', ' 국내도서 top20 5주', '2024 큰별쌤 최태성의 별별한국사 기출 500제 한국사능력검정시험 심화 (1,2,3급)', '최태성 저', '이투스북', '2024년 01월 17일', '9.9', '186,156', '19,500', ' 국내도서 top20 3주', '모순', '양귀자 저', '쓰다', '2013년 04월 01일', '9.6', '334,107', '13,000', ' 국내도서 top20 1주', '꽃길이 따로 있나, 내 삶이 꽃인 것을', '오평선 저', '포레스트북스', '2024년 03월 22일', '9.6', '216,789', '16,800', ' 국내도서 top20 10주', '마흔에 읽는 쇼펜하우어 (200쇄 기념 확장판)', '강용수 저', '유노북스', '2023년 09월 07일', '8.6', '945,423', '17,000', ' 국내도서 1위 12주', '돈의 심리학 (30만 부 기념 스페셜 에디션)', '모건 하우절 저/이지연 역', '인플루엔셜', '2021년 01월 13일', '9.3', '293,445', '19,800', ' 국내도서 top20 28주', '나는 메트로폴리탄 미술관의 경비원입니다', '패트릭 브링리 저/김희정, 조현주 역', '웅진지식하우스', '2023년 11월 24일', '9.0', '454,899', '17,500', ' 국내도서 top20 21주', '빨모쌤의 라이브 영어회화', '신용하 저', '웅진지식하우스', '2024년 04월 24일', '9.7', '214,860', '22,000', ' 국내도서 top20 8주', '얼굴만으론 좋아할 수 없어요 10 더블특장판', '안자이 카린 글그림/이소연 역', '서울미디어코믹스(서울문화사)', '2024년 07월 12일', '9.8', '30,990', '6,000', ' 국내도서 top100 1주']\n",
      "['하루 한 장 나의 어휘력을 위한 필사 노트', '유선경 저', '위즈덤하우스', '2024년 03월 28일', '9.6', '558,822', '23,800', ' 국내도서 1위 1주', '너에게 들려주는 단단한 말', '김종원 저', '퍼스트펭귄', '2024년 07월 10일', '10.0', '183,114', '18,000', ' 국내도서 top20 1주', '불변의 법칙', '모건 하우절 저/이수경 역', '서삼독', '2024년 02월 28일', '9.5', '586,242', '25,000', ' 국내도서 1위 6주', '2024 큰별쌤 최태성의 별별한국사 한국사능력검정시험 심화(1,2,3급) 상', '최태성 저', '이투스북', '2023년 12월 01일', '9.7', '408,498', '16,000', ' 국내도서 top20 11주', '내 몸 혁명', '박용우 저', '루미너스', '2024년 01월 10일', '9.8', '221,085', '19,500', ' 국내도서 top20 3주', '그의 운명에 대한 아주 개인적인 생각', '유시민 저', '생각의길', '2024년 06월 19일', '9.1', '770,430', '16,800', ' 국내도서 1위 4주', '죽이고 싶은 아이 2', '이꽃님 저', '우리학교', '2024년 07월 01일', '9.9', '164,943', '14,000', ' 국내도서 top20 3주', '언젠가 우리가 같은 별을 바라본다면', '차인표 저', '해결책', '2021년 12월 15일', '9.8', '91,362', '12,000', ' 국내도서 top20 1주', '2024 큰별쌤 최태성의 별별한국사 한국사능력검정시험 심화(1,2,3급) 하', '최태성 저', '이투스북', '2023년 12월 01일', '10.0', '385,413', '15,500', ' 국내도서 top20 10주', '세이노의 가르침', '세이노(SayNo) 저', '데이원', '2023년 03월 02일', '9.0', '1,160,907', '7,200', ' 국내도서 1위 22주', 'ETS 토익 정기시험 기출문제집 1000 Vol. 4 RC', 'ETS 저', 'YBM(와이비엠)', '2023년 12월 20일', '9.6', '443,208', '19,800', ' 국내도서 top20 26주', 'ETS 토익 정기시험 기출문제집 1000 Vol. 4 LC', 'ETS 저', 'YBM(와이비엠)', '2023년 12월 20일', '9.8', '413,949', '19,800', ' 국내도서 top20 20주', '신화의 숲', '김헌 저', '포레스트북스', '2024년 05월 20일', '9.8', '173,127', '18,000', ' 국내도서 top20 6주', '허송세월', '김훈 저', '나남', '2024년 06월 20일', '9.3', '218,850', '18,000', ' 국내도서 top20 4주', 'THE MONEY BOOK 더 머니북', '토스 저', '비바리퍼블리카', '2024년 05월 27일', '9.0', '209,004', '22,000', ' 국내도서 top20 7주', '나를 소모하지 않는 현명한 태도에 관하여', '마티아스 뇔케 저/이미옥 역', '퍼스트펭귄', '2024년 03월 10일', '8.7', '403,788', '17,800', ' 국내도서 1위 2주', '나는 다정한 관찰자가 되기로 했다', '이은경 저', '서교책방', '2024년 05월 30일', '9.6', '233,604', '17,800', ' 국내도서 top20 8주', '초역 부처의 말', '코이케 류노스케 저/박재현 역', '포레스트북스', '2024년 05월 30일', '9.7', '181,944', '17,800', ' 국내도서 top20 5주', '2024 큰별쌤 최태성의 별별한국사 기출 500제 한국사능력검정시험 심화 (1,2,3급)', '최태성 저', '이투스북', '2024년 01월 17일', '9.9', '186,156', '19,500', ' 국내도서 top20 3주', '모순', '양귀자 저', '쓰다', '2013년 04월 01일', '9.6', '334,107', '13,000', ' 국내도서 top20 1주', '꽃길이 따로 있나, 내 삶이 꽃인 것을', '오평선 저', '포레스트북스', '2024년 03월 22일', '9.6', '216,789', '16,800', ' 국내도서 top20 10주', '마흔에 읽는 쇼펜하우어 (200쇄 기념 확장판)', '강용수 저', '유노북스', '2023년 09월 07일', '8.6', '945,423', '17,000', ' 국내도서 1위 12주', '돈의 심리학 (30만 부 기념 스페셜 에디션)', '모건 하우절 저/이지연 역', '인플루엔셜', '2021년 01월 13일', '9.3', '293,445', '19,800', ' 국내도서 top20 28주', '나는 메트로폴리탄 미술관의 경비원입니다', '패트릭 브링리 저/김희정, 조현주 역', '웅진지식하우스', '2023년 11월 24일', '9.0', '454,899', '17,500', ' 국내도서 top20 21주', '빨모쌤의 라이브 영어회화', '신용하 저', '웅진지식하우스', '2024년 04월 24일', '9.7', '214,860', '22,000', ' 국내도서 top20 8주', '얼굴만으론 좋아할 수 없어요 10 더블특장판', '안자이 카린 글그림/이소연 역', '서울미디어코믹스(서울문화사)', '2024년 07월 12일', '9.8', '30,990', '6,000', ' 국내도서 top100 1주', '나의 돈키호테', '김호연 저', '나무옆의자', '2024년 04월 25일', '9.7', '159,228', '18,000', ' 국내도서 top20 4주']\n",
      "['하루 한 장 나의 어휘력을 위한 필사 노트', '유선경 저', '위즈덤하우스', '2024년 03월 28일', '9.6', '558,822', '23,800', ' 국내도서 1위 1주', '너에게 들려주는 단단한 말', '김종원 저', '퍼스트펭귄', '2024년 07월 10일', '10.0', '183,114', '18,000', ' 국내도서 top20 1주', '불변의 법칙', '모건 하우절 저/이수경 역', '서삼독', '2024년 02월 28일', '9.5', '586,242', '25,000', ' 국내도서 1위 6주', '2024 큰별쌤 최태성의 별별한국사 한국사능력검정시험 심화(1,2,3급) 상', '최태성 저', '이투스북', '2023년 12월 01일', '9.7', '408,498', '16,000', ' 국내도서 top20 11주', '내 몸 혁명', '박용우 저', '루미너스', '2024년 01월 10일', '9.8', '221,085', '19,500', ' 국내도서 top20 3주', '그의 운명에 대한 아주 개인적인 생각', '유시민 저', '생각의길', '2024년 06월 19일', '9.1', '770,430', '16,800', ' 국내도서 1위 4주', '죽이고 싶은 아이 2', '이꽃님 저', '우리학교', '2024년 07월 01일', '9.9', '164,943', '14,000', ' 국내도서 top20 3주', '언젠가 우리가 같은 별을 바라본다면', '차인표 저', '해결책', '2021년 12월 15일', '9.8', '91,362', '12,000', ' 국내도서 top20 1주', '2024 큰별쌤 최태성의 별별한국사 한국사능력검정시험 심화(1,2,3급) 하', '최태성 저', '이투스북', '2023년 12월 01일', '10.0', '385,413', '15,500', ' 국내도서 top20 10주', '세이노의 가르침', '세이노(SayNo) 저', '데이원', '2023년 03월 02일', '9.0', '1,160,907', '7,200', ' 국내도서 1위 22주', 'ETS 토익 정기시험 기출문제집 1000 Vol. 4 RC', 'ETS 저', 'YBM(와이비엠)', '2023년 12월 20일', '9.6', '443,208', '19,800', ' 국내도서 top20 26주', 'ETS 토익 정기시험 기출문제집 1000 Vol. 4 LC', 'ETS 저', 'YBM(와이비엠)', '2023년 12월 20일', '9.8', '413,949', '19,800', ' 국내도서 top20 20주', '신화의 숲', '김헌 저', '포레스트북스', '2024년 05월 20일', '9.8', '173,127', '18,000', ' 국내도서 top20 6주', '허송세월', '김훈 저', '나남', '2024년 06월 20일', '9.3', '218,850', '18,000', ' 국내도서 top20 4주', 'THE MONEY BOOK 더 머니북', '토스 저', '비바리퍼블리카', '2024년 05월 27일', '9.0', '209,004', '22,000', ' 국내도서 top20 7주', '나를 소모하지 않는 현명한 태도에 관하여', '마티아스 뇔케 저/이미옥 역', '퍼스트펭귄', '2024년 03월 10일', '8.7', '403,788', '17,800', ' 국내도서 1위 2주', '나는 다정한 관찰자가 되기로 했다', '이은경 저', '서교책방', '2024년 05월 30일', '9.6', '233,604', '17,800', ' 국내도서 top20 8주', '초역 부처의 말', '코이케 류노스케 저/박재현 역', '포레스트북스', '2024년 05월 30일', '9.7', '181,944', '17,800', ' 국내도서 top20 5주', '2024 큰별쌤 최태성의 별별한국사 기출 500제 한국사능력검정시험 심화 (1,2,3급)', '최태성 저', '이투스북', '2024년 01월 17일', '9.9', '186,156', '19,500', ' 국내도서 top20 3주', '모순', '양귀자 저', '쓰다', '2013년 04월 01일', '9.6', '334,107', '13,000', ' 국내도서 top20 1주', '꽃길이 따로 있나, 내 삶이 꽃인 것을', '오평선 저', '포레스트북스', '2024년 03월 22일', '9.6', '216,789', '16,800', ' 국내도서 top20 10주', '마흔에 읽는 쇼펜하우어 (200쇄 기념 확장판)', '강용수 저', '유노북스', '2023년 09월 07일', '8.6', '945,423', '17,000', ' 국내도서 1위 12주', '돈의 심리학 (30만 부 기념 스페셜 에디션)', '모건 하우절 저/이지연 역', '인플루엔셜', '2021년 01월 13일', '9.3', '293,445', '19,800', ' 국내도서 top20 28주', '나는 메트로폴리탄 미술관의 경비원입니다', '패트릭 브링리 저/김희정, 조현주 역', '웅진지식하우스', '2023년 11월 24일', '9.0', '454,899', '17,500', ' 국내도서 top20 21주', '빨모쌤의 라이브 영어회화', '신용하 저', '웅진지식하우스', '2024년 04월 24일', '9.7', '214,860', '22,000', ' 국내도서 top20 8주', '얼굴만으론 좋아할 수 없어요 10 더블특장판', '안자이 카린 글그림/이소연 역', '서울미디어코믹스(서울문화사)', '2024년 07월 12일', '9.8', '30,990', '6,000', ' 국내도서 top100 1주', '나의 돈키호테', '김호연 저', '나무옆의자', '2024년 04월 25일', '9.7', '159,228', '18,000', ' 국내도서 top20 4주', '해커스 토익 기출 VOCA (보카)', 'David Cho 저', '해커스어학연구소', '2023년 07월 24일', '9.5', '375,762', '12,900', ' 국내도서 top20 64주']\n"
     ]
    },
    {
     "ename": "IndexError",
     "evalue": "list index out of range",
     "output_type": "error",
     "traceback": [
      "\u001B[0;31m---------------------------------------------------------------------------\u001B[0m",
      "\u001B[0;31mIndexError\u001B[0m                                Traceback (most recent call last)",
      "Cell \u001B[0;32mIn[79], line 24\u001B[0m\n\u001B[1;32m     22\u001B[0m price\u001B[38;5;241m=\u001B[39mbrowser\u001B[38;5;241m.\u001B[39mfind_element(By\u001B[38;5;241m.\u001B[39mCLASS_NAME,\u001B[38;5;124m'\u001B[39m\u001B[38;5;124myes_m\u001B[39m\u001B[38;5;124m'\u001B[39m)\u001B[38;5;241m.\u001B[39mtext[:\u001B[38;5;241m-\u001B[39m\u001B[38;5;241m1\u001B[39m]\n\u001B[1;32m     23\u001B[0m ranking\u001B[38;5;241m=\u001B[39mbrowser\u001B[38;5;241m.\u001B[39mfind_element(By\u001B[38;5;241m.\u001B[39mCLASS_NAME,\u001B[38;5;124m'\u001B[39m\u001B[38;5;124mgd_best\u001B[39m\u001B[38;5;124m'\u001B[39m)\u001B[38;5;241m.\u001B[39mtext\u001B[38;5;241m.\u001B[39msplit(\u001B[38;5;124m'\u001B[39m\u001B[38;5;124m|\u001B[39m\u001B[38;5;124m'\u001B[39m)[\u001B[38;5;241m0\u001B[39m]\n\u001B[0;32m---> 24\u001B[0m ranking_weeks\u001B[38;5;241m=\u001B[39m\u001B[43mbrowser\u001B[49m\u001B[38;5;241;43m.\u001B[39;49m\u001B[43mfind_element\u001B[49m\u001B[43m(\u001B[49m\u001B[43mBy\u001B[49m\u001B[38;5;241;43m.\u001B[39;49m\u001B[43mCLASS_NAME\u001B[49m\u001B[43m,\u001B[49m\u001B[38;5;124;43m'\u001B[39;49m\u001B[38;5;124;43mgd_best_tp02\u001B[39;49m\u001B[38;5;124;43m'\u001B[39;49m\u001B[43m)\u001B[49m\u001B[38;5;241;43m.\u001B[39;49m\u001B[43mtext\u001B[49m\u001B[38;5;241;43m.\u001B[39;49m\u001B[43msplit\u001B[49m\u001B[43m(\u001B[49m\u001B[38;5;124;43m'\u001B[39;49m\u001B[38;5;124;43m|\u001B[39;49m\u001B[38;5;124;43m'\u001B[39;49m\u001B[43m)\u001B[49m\u001B[43m[\u001B[49m\u001B[38;5;241;43m1\u001B[39;49m\u001B[43m]\u001B[49m\n\u001B[1;32m     25\u001B[0m book_data\u001B[38;5;241m.\u001B[39mextend([title, author, publish, date, rate, sales, price, ranking_weeks])\n\u001B[1;32m     26\u001B[0m time\u001B[38;5;241m.\u001B[39msleep(\u001B[38;5;241m7\u001B[39m)\n",
      "\u001B[0;31mIndexError\u001B[0m: list index out of range"
     ]
    }
   ],
   "execution_count": 79
  },
  {
   "metadata": {},
   "cell_type": "code",
   "outputs": [],
   "execution_count": null,
   "source": "",
   "id": "609690e0c2d91d58"
  },
  {
   "metadata": {},
   "cell_type": "code",
   "outputs": [],
   "execution_count": null,
   "source": "",
   "id": "9d00b56eaee8b414"
  }
 ],
 "metadata": {
  "kernelspec": {
   "display_name": "Python 3",
   "language": "python",
   "name": "python3"
  },
  "language_info": {
   "codemirror_mode": {
    "name": "ipython",
    "version": 2
   },
   "file_extension": ".py",
   "mimetype": "text/x-python",
   "name": "python",
   "nbconvert_exporter": "python",
   "pygments_lexer": "ipython2",
   "version": "2.7.6"
  }
 },
 "nbformat": 4,
 "nbformat_minor": 5
}
