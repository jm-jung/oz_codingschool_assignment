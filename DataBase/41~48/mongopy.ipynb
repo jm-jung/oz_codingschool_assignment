{
 "cells": [
  {
   "cell_type": "code",
   "id": "initial_id",
   "metadata": {
    "collapsed": true,
    "ExecuteTime": {
     "end_time": "2024-07-23T15:50:09.247948Z",
     "start_time": "2024-07-23T15:50:06.451845Z"
    }
   },
   "source": "%pip install pymongo",
   "outputs": [
    {
     "name": "stdout",
     "output_type": "stream",
     "text": [
      "Collecting pymongo\r\n",
      "  Downloading pymongo-4.8.0-cp312-cp312-macosx_10_9_x86_64.whl.metadata (22 kB)\r\n",
      "Requirement already satisfied: dnspython<3.0.0,>=1.16.0 in /Library/Frameworks/Python.framework/Versions/3.12/lib/python3.12/site-packages (from pymongo) (2.6.1)\r\n",
      "Downloading pymongo-4.8.0-cp312-cp312-macosx_10_9_x86_64.whl (699 kB)\r\n",
      "\u001B[2K   \u001B[90m━━━━━━━━━━━━━━━━━━━━━━━━━━━━━━━━━━━━━━━━\u001B[0m \u001B[32m699.1/699.1 kB\u001B[0m \u001B[31m2.2 MB/s\u001B[0m eta \u001B[36m0:00:00\u001B[0m00:01\u001B[0m00:01\u001B[0mm\r\n",
      "\u001B[?25hInstalling collected packages: pymongo\r\n",
      "Successfully installed pymongo-4.8.0\r\n",
      "Note: you may need to restart the kernel to use updated packages.\n"
     ]
    }
   ],
   "execution_count": 1
  },
  {
   "metadata": {
    "ExecuteTime": {
     "end_time": "2024-07-23T15:50:52.593755Z",
     "start_time": "2024-07-23T15:50:52.495403Z"
    }
   },
   "cell_type": "code",
   "source": [
    "from pymongo import MongoClient\n",
    "\n",
    "client = MongoClient('localhost', 27017)"
   ],
   "id": "fe2330c1a2e467e7",
   "outputs": [],
   "execution_count": 2
  },
  {
   "metadata": {
    "ExecuteTime": {
     "end_time": "2024-07-23T15:52:08.048604Z",
     "start_time": "2024-07-23T15:52:08.041395Z"
    }
   },
   "cell_type": "code",
   "source": [
    "db=client['test_db']\n",
    "db"
   ],
   "id": "175d88b01f651a87",
   "outputs": [
    {
     "data": {
      "text/plain": [
       "Database(MongoClient(host=['localhost:27017'], document_class=dict, tz_aware=False, connect=True), 'test_db')"
      ]
     },
     "execution_count": 3,
     "metadata": {},
     "output_type": "execute_result"
    }
   ],
   "execution_count": 3
  },
  {
   "metadata": {
    "ExecuteTime": {
     "end_time": "2024-07-23T15:52:51.021060Z",
     "start_time": "2024-07-23T15:52:51.017680Z"
    }
   },
   "cell_type": "code",
   "source": [
    "collection = db['test_collection']\n",
    "collection"
   ],
   "id": "b432c117c6267b37",
   "outputs": [
    {
     "data": {
      "text/plain": [
       "Collection(Database(MongoClient(host=['localhost:27017'], document_class=dict, tz_aware=False, connect=True), 'test_db'), 'test_collection')"
      ]
     },
     "execution_count": 5,
     "metadata": {},
     "output_type": "execute_result"
    }
   ],
   "execution_count": 5
  },
  {
   "metadata": {
    "ExecuteTime": {
     "end_time": "2024-07-23T16:07:23.961851Z",
     "start_time": "2024-07-23T16:07:23.683248Z"
    }
   },
   "cell_type": "code",
   "source": [
    "#insert\n",
    "example={\"name\": \"민준\", \"age\": 23,\"city\": \"New York\"}\n",
    "collection.insert_one(example)"
   ],
   "id": "ae321e1cbab49821",
   "outputs": [
    {
     "ename": "TypeError",
     "evalue": "documents must be a non-empty list",
     "output_type": "error",
     "traceback": [
      "\u001B[0;31m---------------------------------------------------------------------------\u001B[0m",
      "\u001B[0;31mTypeError\u001B[0m                                 Traceback (most recent call last)",
      "Cell \u001B[0;32mIn[13], line 3\u001B[0m\n\u001B[1;32m      1\u001B[0m \u001B[38;5;66;03m#insert\u001B[39;00m\n\u001B[1;32m      2\u001B[0m example\u001B[38;5;241m=\u001B[39m{\u001B[38;5;124m\"\u001B[39m\u001B[38;5;124mname\u001B[39m\u001B[38;5;124m\"\u001B[39m: \u001B[38;5;124m\"\u001B[39m\u001B[38;5;124m민준\u001B[39m\u001B[38;5;124m\"\u001B[39m, \u001B[38;5;124m\"\u001B[39m\u001B[38;5;124mage\u001B[39m\u001B[38;5;124m\"\u001B[39m: \u001B[38;5;241m23\u001B[39m,\u001B[38;5;124m\"\u001B[39m\u001B[38;5;124mcity\u001B[39m\u001B[38;5;124m\"\u001B[39m: \u001B[38;5;124m\"\u001B[39m\u001B[38;5;124mNew York\u001B[39m\u001B[38;5;124m\"\u001B[39m}\n\u001B[0;32m----> 3\u001B[0m \u001B[43mcollection\u001B[49m\u001B[38;5;241;43m.\u001B[39;49m\u001B[43minsert_many\u001B[49m\u001B[43m(\u001B[49m\u001B[43mexample\u001B[49m\u001B[43m)\u001B[49m\n",
      "File \u001B[0;32m/Library/Frameworks/Python.framework/Versions/3.12/lib/python3.12/site-packages/pymongo/_csot.py:108\u001B[0m, in \u001B[0;36mapply.<locals>.csot_wrapper\u001B[0;34m(self, *args, **kwargs)\u001B[0m\n\u001B[1;32m    106\u001B[0m         \u001B[38;5;28;01mwith\u001B[39;00m _TimeoutContext(timeout):\n\u001B[1;32m    107\u001B[0m             \u001B[38;5;28;01mreturn\u001B[39;00m func(\u001B[38;5;28mself\u001B[39m, \u001B[38;5;241m*\u001B[39margs, \u001B[38;5;241m*\u001B[39m\u001B[38;5;241m*\u001B[39mkwargs)\n\u001B[0;32m--> 108\u001B[0m \u001B[38;5;28;01mreturn\u001B[39;00m \u001B[43mfunc\u001B[49m\u001B[43m(\u001B[49m\u001B[38;5;28;43mself\u001B[39;49m\u001B[43m,\u001B[49m\u001B[43m \u001B[49m\u001B[38;5;241;43m*\u001B[39;49m\u001B[43margs\u001B[49m\u001B[43m,\u001B[49m\u001B[43m \u001B[49m\u001B[38;5;241;43m*\u001B[39;49m\u001B[38;5;241;43m*\u001B[39;49m\u001B[43mkwargs\u001B[49m\u001B[43m)\u001B[49m\n",
      "File \u001B[0;32m/Library/Frameworks/Python.framework/Versions/3.12/lib/python3.12/site-packages/pymongo/collection.py:726\u001B[0m, in \u001B[0;36mCollection.insert_many\u001B[0;34m(self, documents, ordered, bypass_document_validation, session, comment)\u001B[0m\n\u001B[1;32m    679\u001B[0m \u001B[38;5;250m\u001B[39m\u001B[38;5;124;03m\"\"\"Insert an iterable of documents.\u001B[39;00m\n\u001B[1;32m    680\u001B[0m \n\u001B[1;32m    681\u001B[0m \u001B[38;5;124;03m  >>> db.test.count_documents({})\u001B[39;00m\n\u001B[0;32m   (...)\u001B[0m\n\u001B[1;32m    719\u001B[0m \u001B[38;5;124;03m.. versionadded:: 3.0\u001B[39;00m\n\u001B[1;32m    720\u001B[0m \u001B[38;5;124;03m\"\"\"\u001B[39;00m\n\u001B[1;32m    721\u001B[0m \u001B[38;5;28;01mif\u001B[39;00m (\n\u001B[1;32m    722\u001B[0m     \u001B[38;5;129;01mnot\u001B[39;00m \u001B[38;5;28misinstance\u001B[39m(documents, abc\u001B[38;5;241m.\u001B[39mIterable)\n\u001B[1;32m    723\u001B[0m     \u001B[38;5;129;01mor\u001B[39;00m \u001B[38;5;28misinstance\u001B[39m(documents, abc\u001B[38;5;241m.\u001B[39mMapping)\n\u001B[1;32m    724\u001B[0m     \u001B[38;5;129;01mor\u001B[39;00m \u001B[38;5;129;01mnot\u001B[39;00m documents\n\u001B[1;32m    725\u001B[0m ):\n\u001B[0;32m--> 726\u001B[0m     \u001B[38;5;28;01mraise\u001B[39;00m \u001B[38;5;167;01mTypeError\u001B[39;00m(\u001B[38;5;124m\"\u001B[39m\u001B[38;5;124mdocuments must be a non-empty list\u001B[39m\u001B[38;5;124m\"\u001B[39m)\n\u001B[1;32m    727\u001B[0m inserted_ids: \u001B[38;5;28mlist\u001B[39m[ObjectId] \u001B[38;5;241m=\u001B[39m []\n\u001B[1;32m    729\u001B[0m \u001B[38;5;28;01mdef\u001B[39;00m \u001B[38;5;21mgen\u001B[39m() \u001B[38;5;241m-\u001B[39m\u001B[38;5;241m>\u001B[39m Iterator[\u001B[38;5;28mtuple\u001B[39m[\u001B[38;5;28mint\u001B[39m, Mapping[\u001B[38;5;28mstr\u001B[39m, Any]]]:\n",
      "\u001B[0;31mTypeError\u001B[0m: documents must be a non-empty list"
     ]
    }
   ],
   "execution_count": 13
  },
  {
   "metadata": {
    "ExecuteTime": {
     "end_time": "2024-07-23T16:08:36.616786Z",
     "start_time": "2024-07-23T16:08:36.612365Z"
    }
   },
   "cell_type": "code",
   "source": [
    "#조회\n",
    "for i in collection.find():\n",
    "    print(i)"
   ],
   "id": "2b7ce0adf9304142",
   "outputs": [],
   "execution_count": 15
  },
  {
   "metadata": {
    "ExecuteTime": {
     "end_time": "2024-07-23T16:03:44.398048Z",
     "start_time": "2024-07-23T16:03:44.394314Z"
    }
   },
   "cell_type": "code",
   "source": [
    "query={\"name\":\"민준\"}\n",
    "for i in collection.find(query):\n",
    "    print(i)"
   ],
   "id": "28e7f8289a63c8b3",
   "outputs": [
    {
     "name": "stdout",
     "output_type": "stream",
     "text": [
      "{'_id': ObjectId('669fd2144d47815d784d33f3'), 'name': '민준', 'age': 23, 'city': 'New York'}\n"
     ]
    }
   ],
   "execution_count": 10
  },
  {
   "metadata": {
    "ExecuteTime": {
     "end_time": "2024-07-23T16:06:41.050882Z",
     "start_time": "2024-07-23T16:06:41.045814Z"
    }
   },
   "cell_type": "code",
   "source": [
    "collection.update_one({\"name\":\"민준\"}, { \"$set\":{\"age\":24}})\n",
    "for data in collection.find():\n",
    "    print(data)"
   ],
   "id": "da6a7c4adac302c7",
   "outputs": [
    {
     "name": "stdout",
     "output_type": "stream",
     "text": [
      "{'_id': ObjectId('669fd2144d47815d784d33f3'), 'name': '민준', 'age': 24, 'city': 'New York'}\n"
     ]
    }
   ],
   "execution_count": 12
  },
  {
   "metadata": {},
   "cell_type": "markdown",
   "source": "",
   "id": "7fa91849adbc7d1d"
  },
  {
   "metadata": {
    "ExecuteTime": {
     "end_time": "2024-07-23T16:08:31.227979Z",
     "start_time": "2024-07-23T16:08:31.223134Z"
    }
   },
   "cell_type": "code",
   "source": "collection.delete_one({\"name\":\"민준\"})",
   "id": "a86ea388fc942615",
   "outputs": [
    {
     "data": {
      "text/plain": [
       "DeleteResult({'n': 1, 'ok': 1.0}, acknowledged=True)"
      ]
     },
     "execution_count": 14,
     "metadata": {},
     "output_type": "execute_result"
    }
   ],
   "execution_count": 14
  },
  {
   "metadata": {
    "ExecuteTime": {
     "end_time": "2024-07-23T16:09:05.032109Z",
     "start_time": "2024-07-23T16:09:05.027306Z"
    }
   },
   "cell_type": "code",
   "source": "db.drop_collection(\"test_collection\")",
   "id": "5860e7bb1d6f82cb",
   "outputs": [
    {
     "data": {
      "text/plain": [
       "{'nIndexesWas': 1, 'ns': 'test_db.test_collection', 'ok': 1.0}"
      ]
     },
     "execution_count": 16,
     "metadata": {},
     "output_type": "execute_result"
    }
   ],
   "execution_count": 16
  },
  {
   "metadata": {
    "ExecuteTime": {
     "end_time": "2024-07-23T16:09:46.259543Z",
     "start_time": "2024-07-23T16:09:46.256105Z"
    }
   },
   "cell_type": "code",
   "source": "client.drop_database('test_db')",
   "id": "4261555a128e926",
   "outputs": [],
   "execution_count": 17
  },
  {
   "metadata": {
    "ExecuteTime": {
     "end_time": "2024-07-23T17:22:13.025328Z",
     "start_time": "2024-07-23T17:22:12.980579Z"
    }
   },
   "cell_type": "code",
   "source": [
    "from pymongo import MongoClient\n",
    "def insert_data():\n",
    "    client = MongoClient('mongodb://localhost:27017/')\n",
    "    db = client.local  # 'local' 데이터베이스 사용\n",
    "\n",
    "    # 책 데이터 삽입\n",
    "    books = [\n",
    "        {\"title\": \"Kafka on the Shore\", \"author\": \"Haruki Murakami\", \"year\": 2002},\n",
    "        {\"title\": \"Norwegian Wood\", \"author\": \"Haruki Murakami\", \"year\": 1987},\n",
    "        {\"title\": \"1Q84\", \"author\": \"Haruki Murakami\", \"year\": 2009}\n",
    "    ]\n",
    "    db.books.insert_many(books)\n",
    "\n",
    "    # 영화 데이터 삽입\n",
    "    movies = [\n",
    "        {\"title\": \"Inception\", \"director\": \"Christopher Nolan\", \"year\": 2010, \"rating\": 8.8},\n",
    "        {\"title\": \"Interstellar\", \"director\": \"Christopher Nolan\", \"year\": 2014, \"rating\": 8.6},\n",
    "        {\"title\": \"The Dark Knight\", \"director\": \"Christopher Nolan\", \"year\": 2008, \"rating\": 9.0}\n",
    "    ]\n",
    "    db.movies.insert_many(movies)\n",
    "\n",
    "    # 사용자 행동 데이터 삽입\n",
    "    user_actions = [\n",
    "        {\"user_id\": 1, \"action\": \"click\", \"timestamp\": \"2023-04-12T08:00:00Z\"},\n",
    "        {\"user_id\": 1, \"action\": \"view\", \"timestamp\": \"2023-04-12T09:00:00Z\"},\n",
    "        {\"user_id\": 2, \"action\": \"purchase\", \"timestamp\": \"2023-04-12T10:00:00Z\"}\n",
    "    ]\n",
    "    db.user_actions.insert_many(user_actions)\n",
    "\n",
    "    print(\"Data inserted successfully\")\n",
    "    client.close()\n",
    "    \n",
    "def find_genre():\n",
    "    client = MongoClient('mongodb://localhost:27017/')\n",
    "    db = client.local\n",
    "    query = {\"genre\": \"fantasy\"}\n",
    "    for book in db.books.find(query):\n",
    "        print(f\"Title: {book['title']}, Author: {book['author']}\")\n",
    "\n",
    "    client.close()\n",
    "    \n",
    "def get_director_ratings():\n",
    "    client = MongoClient('mongodb://localhost:27017/')\n",
    "    db = client.local\n",
    "\n",
    "    pipeline = [\n",
    "        {\n",
    "            \"$group\": {\n",
    "                \"_id\": \"$director\",\n",
    "                \"averagerating\": { \"$avg\": \"$rating\" }\n",
    "            }\n",
    "        },\n",
    "        {\n",
    "            \"$sort\": { \"averagerating\": -1 }\n",
    "        }\n",
    "    ]\n",
    "\n",
    "    result = db.movies.aggregate(pipeline)\n",
    "\n",
    "    for doc in result:\n",
    "        print(f\"Director: {doc['_id']}, Average Rating: {doc['averagerating']:.2f}\")\n",
    "\n",
    "    client.close()\n",
    "def sort_by_action():\n",
    "    client = MongoClient('mongodb://localhost:27017/')\n",
    "    db = client.local\n",
    "    \n",
    "    pipeline=[\n",
    "        {\n",
    "            \"$match\":{\"user_id\":1}\n",
    "        },\n",
    "        {\"$sort\":{\"timestamp\":-1}},{\"$limit\":5}\n",
    "    ]\n",
    "    result = db.user_actions.aggregate(pipeline)\n",
    "    \n",
    "    for doc in result:\n",
    "        print(f\"User: {doc['user_id']},Action:{doc['action']} Timestamp: {doc['timestamp']}\")\n",
    "    client.close()\n",
    "    \n",
    "def sort_by_books():\n",
    "    client = MongoClient('mongodb://localhost:27017/')\n",
    "    db = client.local\n",
    "    pipeline=[{\"$group\":{\"_id\":\"$year\",\"count\":{\"$sum\":1}}},{\"$sort\":{\"count\":-1}}]\n",
    "    result = db.movies.aggregate(pipeline)\n",
    "    for doc in result:\n",
    "        print(f\"Years: {doc['count']}\")\n",
    "        \n",
    "def view_change_view():\n",
    "    client = MongoClient('mongodb://localhost:27017/')\n",
    "    db = client.local\n",
    "    result = db.user_actions.update_many({\n",
    "            \"user_id\": 1,\n",
    "            \"action\": \"view\",\n",
    "            \"timestamp\": { \"$lt\": \"2023-04-10T00:00:00Z\" }\n",
    "        },\n",
    "        {\n",
    "            \"$set\": { \"action\": \"seen\" }\n",
    "        })\n",
    "    client.close()\n",
    "    \n",
    "if __name__ == \"__main__\":\n",
    "    insert_data()\n",
    "    find_genre()\n",
    "    get_director_ratings()\n",
    "    sort_by_action()\n",
    "    sort_by_books()\n",
    "    view_change_view()"
   ],
   "id": "a3e59915319d4b1c",
   "outputs": [
    {
     "name": "stdout",
     "output_type": "stream",
     "text": [
      "Data inserted successfully\n",
      "Director: Christopher Nolan, Average Rating: 8.80\n",
      "User: 1,Action:view Timestamp: 2023-04-12T09:00:00Z\n",
      "User: 1,Action:view Timestamp: 2023-04-12T09:00:00Z\n",
      "User: 1,Action:view Timestamp: 2023-04-12T09:00:00Z\n",
      "User: 1,Action:view Timestamp: 2023-04-12T09:00:00Z\n",
      "User: 1,Action:view Timestamp: 2023-04-12T09:00:00Z\n",
      "Years: 13\n",
      "Years: 13\n",
      "Years: 13\n"
     ]
    }
   ],
   "execution_count": 58
  },
  {
   "metadata": {},
   "cell_type": "markdown",
   "source": "fantasy\" 장르에 해당하는 모든 책의 제목과 저자를 찾는 MongoDB 쿼리를 함수로 만들어 문제를 해결해 봅니다.",
   "id": "c5957d36d8c67739"
  },
  {
   "metadata": {
    "ExecuteTime": {
     "end_time": "2024-07-23T16:40:30.345343Z",
     "start_time": "2024-07-23T16:40:30.339594Z"
    }
   },
   "cell_type": "code",
   "source": [
    "def find_genre():\n",
    "    query={\"genre\":\"fantasy\"}\n",
    "    for i in collection.find(query):\n",
    "        print(i)"
   ],
   "id": "c88d9f3791c39e3",
   "outputs": [],
   "execution_count": 34
  },
  {
   "metadata": {},
   "cell_type": "markdown",
   "source": "모든 영화 감독의 영화 평점 평균을 계산하고, 평균 평점이 높은 순으로 정렬하는 MongoDB 쿼리를 함수로 만들어 문제를 해결해 봅니다.",
   "id": "bea54b6665df2696"
  },
  {
   "metadata": {
    "ExecuteTime": {
     "end_time": "2024-07-23T16:42:37.562864Z",
     "start_time": "2024-07-23T16:42:37.558262Z"
    }
   },
   "cell_type": "code",
   "source": [
    "for i in db.movies.find():\n",
    "    print(i)"
   ],
   "id": "1bb8c551593b1962",
   "outputs": [],
   "execution_count": 39
  },
  {
   "metadata": {
    "ExecuteTime": {
     "end_time": "2024-07-23T16:41:24.774294Z",
     "start_time": "2024-07-23T16:41:24.769285Z"
    }
   },
   "cell_type": "code",
   "source": [
    "result=db.movies.aggregate([{\"$group\":{'_id':\"$director\", 'average_rating':{\"$avg\":\"$rating\"}}}])\n",
    "for doc in result:\n",
    "        print(f\"Director: {doc['_id']}, Average Rating: {doc['average_rating']:.2f}\")\n"
   ],
   "id": "137f95c0cb79d996",
   "outputs": [],
   "execution_count": 37
  },
  {
   "metadata": {},
   "cell_type": "code",
   "outputs": [],
   "execution_count": null,
   "source": [
    "def get_director_ratings():\n",
    "    client = MongoClient('mongodb://localhost:27017/')\n",
    "    db = client.local\n",
    "\n",
    "    pipeline = [\n",
    "        {\n",
    "            \"$group\": {\n",
    "                \"_id\": \"$director\",\n",
    "                \"averagerating\": { \"$avg\": \"$rating\" }\n",
    "            }\n",
    "        },\n",
    "        {\n",
    "            \"$sort\": { \"averagerating\": -1 }\n",
    "        }\n",
    "    ]\n",
    "\n",
    "    result = db.movies.aggregate(pipeline)\n",
    "\n",
    "    for doc in result:\n",
    "        print(f\"Director: {doc['_id']}, Average Rating: {doc['averagerating']:.2f}\")\n",
    "\n",
    "    client.close()"
   ],
   "id": "9933eb1ca11b8b24"
  },
  {
   "metadata": {},
   "cell_type": "markdown",
   "source": "사용자 ID가 1인 사용자의 최근 행동 5개를 시간 순으로 정렬하여 조회하는 MongoDB 쿼리를 함수로 만들어 문제를 해결해 봅니다.",
   "id": "32797e5ff51bb7e1"
  },
  {
   "metadata": {
    "ExecuteTime": {
     "end_time": "2024-07-23T16:56:55.526823Z",
     "start_time": "2024-07-23T16:56:55.522517Z"
    }
   },
   "cell_type": "code",
   "source": [
    "def sort_by_action():\n",
    "    client = MongoClient('mongodb://localhost:27017/')\n",
    "    db = client.local\n",
    "    \n",
    "    pipeline=[\n",
    "        {\n",
    "            \"$match\":{\"$user_id\":1}\n",
    "        },\n",
    "        {\"$sort\":{\"$timestamp\":-1}},{\"$limit\":5}\n",
    "    ]\n",
    "    result = db.movies.aggregate(pipeline)\n",
    "    \n",
    "    for doc in result:\n",
    "        print(f\"User: {doc['user_id']}, Timestamp: {doc['timestamp']}\")\n",
    "    client.close()"
   ],
   "id": "79bb4b11e992e8ff",
   "outputs": [],
   "execution_count": 46
  },
  {
   "metadata": {},
   "cell_type": "markdown",
   "source": "각 출판 연도별로 출판된 책의 수를 계산하고, 출판된 책의 수가 많은 순서대로 정렬하는 MongoDB 쿼리를 함수로 만들어 문제를 해결해 봅니다.",
   "id": "30de03ec9ce69fcc"
  },
  {
   "metadata": {
    "ExecuteTime": {
     "end_time": "2024-07-23T17:07:18.505692Z",
     "start_time": "2024-07-23T17:07:18.501175Z"
    }
   },
   "cell_type": "code",
   "source": [
    "def sort_by_books():\n",
    "    client = MongoClient('mongodb://localhost:27017/')\n",
    "    db = client.local\n",
    "    pipeline=[{\"$group\":{\"_id\":\"$years\"},\"count\":{\"$sum\":1}},{\"$sort\":{\"count\":-1}}]\n",
    "    result = db.books.aggregate(pipeline)\n",
    "    for doc in result:\n",
    "        print(f\"Years: {doc['count']}\")"
   ],
   "id": "c8c8c9223b4a31c8",
   "outputs": [],
   "execution_count": 51
  },
  {
   "metadata": {},
   "cell_type": "markdown",
   "source": "사용자 ID가 1인 사용자의 2023년 4월 10일 이전의 \"view\" 행동을 \"seen\"으로 변경하는 MongoDB 업데이트 쿼리를 함수로 만들어 문제를 해결해 봅니다.",
   "id": "c98091394817f6c4"
  },
  {
   "metadata": {
    "ExecuteTime": {
     "end_time": "2024-07-23T17:20:02.328593Z",
     "start_time": "2024-07-23T17:20:02.324794Z"
    }
   },
   "cell_type": "code",
   "source": [
    "def view_change_view():\n",
    "    client = MongoClient('mongodb://localhost:27017/')\n",
    "    db = client.local\n",
    "    pipeline = [{\n",
    "            \"user_id\": 1,\n",
    "            \"action\": \"view\",\n",
    "            \"timestamp\": { \"$lt\": \"2023-04-10T00:00:00Z\" }\n",
    "        },\n",
    "        {\n",
    "            \"$set\": { \"action\": \"seen\" }\n",
    "        }]\n",
    "    result = db.user_actions.update_many(pipeline)\n",
    "    client.close()"
   ],
   "id": "cd0d8a2da7f29a06",
   "outputs": [],
   "execution_count": 55
  },
  {
   "metadata": {},
   "cell_type": "code",
   "outputs": [],
   "execution_count": null,
   "source": "",
   "id": "a658b41d6617baa3"
  }
 ],
 "metadata": {
  "kernelspec": {
   "display_name": "Python 3",
   "language": "python",
   "name": "python3"
  },
  "language_info": {
   "codemirror_mode": {
    "name": "ipython",
    "version": 2
   },
   "file_extension": ".py",
   "mimetype": "text/x-python",
   "name": "python",
   "nbconvert_exporter": "python",
   "pygments_lexer": "ipython2",
   "version": "2.7.6"
  }
 },
 "nbformat": 4,
 "nbformat_minor": 5
}
