{
 "cells": [
  {
   "cell_type": "markdown",
   "metadata": {},
   "source": [
    "datetime 모듈을 사용하여 현재 날짜와 시간을 출력하는 프로그램을 작성하세요. \n",
    "\n",
    "또한, 사용자로부터 태어난 년도를 입력받아 현재 나이를 계산하여 출력하세요."
   ]
  },
  {
   "cell_type": "code",
   "execution_count": 6,
   "metadata": {},
   "outputs": [
    {
     "name": "stdout",
     "output_type": "stream",
     "text": [
      "2024년 7월 5일 17시 6분 22초\n",
      "현재 나이는 57세시군요!\n"
     ]
    }
   ],
   "source": [
    "import datetime\n",
    "\n",
    "시간=datetime.datetime.now()\n",
    "print(f\"{시간.year}년 {시간.month}월 {시간.day}일 {시간.hour}시 {시간.minute}분 {시간.second}초\")\n",
    "try:\n",
    "    birth=int(input(\"탄생년도를 작성해주세요\"))\n",
    "except TypeError:\n",
    "    print(\"탄생년도만 작성해주세요\")\n",
    "print(f\"현재 나이는 {시간.year-birth}세시군요!\")"
   ]
  }
 ],
 "metadata": {
  "kernelspec": {
   "display_name": "Python 3",
   "language": "python",
   "name": "python3"
  },
  "language_info": {
   "codemirror_mode": {
    "name": "ipython",
    "version": 3
   },
   "file_extension": ".py",
   "mimetype": "text/x-python",
   "name": "python",
   "nbconvert_exporter": "python",
   "pygments_lexer": "ipython3",
   "version": "3.12.4"
  }
 },
 "nbformat": 4,
 "nbformat_minor": 2
}
