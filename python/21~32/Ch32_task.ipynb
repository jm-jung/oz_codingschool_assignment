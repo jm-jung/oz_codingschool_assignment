{
 "cells": [
  {
   "cell_type": "markdown",
   "metadata": {},
   "source": [
    "두 문자열을 받아서 긴 문자열을 반환하는 함수 longer_string을 작성하세요. 만약 두 문자열의 길이가 같다면, 첫 번째 문자열을 반환하세요."
   ]
  },
  {
   "cell_type": "code",
   "execution_count": 3,
   "metadata": {},
   "outputs": [
    {
     "name": "stdout",
     "output_type": "stream",
     "text": [
      "부룩부룩\n"
     ]
    }
   ],
   "source": [
    "def longer_string(문자열1:list[str],문자열2:list[str])->str:\n",
    "    if len(문자열1)>=len(문자열2):\n",
    "        return \"\".join(문자열1)\n",
    "    else:\n",
    "        return \"\".join(문자열2)\n",
    "    \n",
    "str1=list(input(\"비교하기 위한 첫번째 문자열을 입력해주세요!\"))\n",
    "str2=list(input(\"비교하기 위한 두번째 문자열을 입력해주세요!\"))        \n",
    "result=longer_string(str1,str2)\n",
    "print(result)"
   ]
  }
 ],
 "metadata": {
  "kernelspec": {
   "display_name": "Python 3",
   "language": "python",
   "name": "python3"
  },
  "language_info": {
   "codemirror_mode": {
    "name": "ipython",
    "version": 3
   },
   "file_extension": ".py",
   "mimetype": "text/x-python",
   "name": "python",
   "nbconvert_exporter": "python",
   "pygments_lexer": "ipython3",
   "version": "3.9.6"
  }
 },
 "nbformat": 4,
 "nbformat_minor": 2
}
